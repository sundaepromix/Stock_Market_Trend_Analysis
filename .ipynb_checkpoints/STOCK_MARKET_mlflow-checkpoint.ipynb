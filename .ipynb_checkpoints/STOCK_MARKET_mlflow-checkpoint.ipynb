{
 "cells": [
  {
   "cell_type": "code",
   "execution_count": 2,
   "id": "ca5ee506-3702-4256-b1f2-d330086a37c7",
   "metadata": {
    "colab": {
     "base_uri": "https://localhost:8080/"
    },
    "id": "ca5ee506-3702-4256-b1f2-d330086a37c7",
    "outputId": "1061debc-2a98-4b54-978c-769e30d0de6a"
   },
   "outputs": [
    {
     "name": "stdout",
     "output_type": "stream",
     "text": [
      "Requirement already satisfied: yfinance in c:\\users\\hp\\anaconda3\\new folder\\anaconda3\\lib\\site-packages (0.2.52)\n",
      "Requirement already satisfied: pandas>=1.3.0 in c:\\users\\hp\\anaconda3\\new folder\\anaconda3\\lib\\site-packages (from yfinance) (2.2.2)\n",
      "Requirement already satisfied: numpy>=1.16.5 in c:\\users\\hp\\anaconda3\\new folder\\anaconda3\\lib\\site-packages (from yfinance) (1.26.4)\n",
      "Requirement already satisfied: requests>=2.31 in c:\\users\\hp\\anaconda3\\new folder\\anaconda3\\lib\\site-packages (from yfinance) (2.32.3)\n",
      "Requirement already satisfied: multitasking>=0.0.7 in c:\\users\\hp\\anaconda3\\new folder\\anaconda3\\lib\\site-packages (from yfinance) (0.0.11)\n",
      "Requirement already satisfied: lxml>=4.9.1 in c:\\users\\hp\\anaconda3\\new folder\\anaconda3\\lib\\site-packages (from yfinance) (5.2.1)\n",
      "Requirement already satisfied: platformdirs>=2.0.0 in c:\\users\\hp\\anaconda3\\new folder\\anaconda3\\lib\\site-packages (from yfinance) (3.10.0)\n",
      "Requirement already satisfied: pytz>=2022.5 in c:\\users\\hp\\anaconda3\\new folder\\anaconda3\\lib\\site-packages (from yfinance) (2024.1)\n",
      "Requirement already satisfied: frozendict>=2.3.4 in c:\\users\\hp\\anaconda3\\new folder\\anaconda3\\lib\\site-packages (from yfinance) (2.4.2)\n",
      "Requirement already satisfied: peewee>=3.16.2 in c:\\users\\hp\\anaconda3\\new folder\\anaconda3\\lib\\site-packages (from yfinance) (3.17.8)\n",
      "Requirement already satisfied: beautifulsoup4>=4.11.1 in c:\\users\\hp\\anaconda3\\new folder\\anaconda3\\lib\\site-packages (from yfinance) (4.12.3)\n",
      "Requirement already satisfied: html5lib>=1.1 in c:\\users\\hp\\anaconda3\\new folder\\anaconda3\\lib\\site-packages (from yfinance) (1.1)\n",
      "Requirement already satisfied: soupsieve>1.2 in c:\\users\\hp\\anaconda3\\new folder\\anaconda3\\lib\\site-packages (from beautifulsoup4>=4.11.1->yfinance) (2.5)\n",
      "Requirement already satisfied: six>=1.9 in c:\\users\\hp\\anaconda3\\new folder\\anaconda3\\lib\\site-packages (from html5lib>=1.1->yfinance) (1.16.0)\n",
      "Requirement already satisfied: webencodings in c:\\users\\hp\\anaconda3\\new folder\\anaconda3\\lib\\site-packages (from html5lib>=1.1->yfinance) (0.5.1)\n",
      "Requirement already satisfied: python-dateutil>=2.8.2 in c:\\users\\hp\\anaconda3\\new folder\\anaconda3\\lib\\site-packages (from pandas>=1.3.0->yfinance) (2.9.0.post0)\n",
      "Requirement already satisfied: tzdata>=2022.7 in c:\\users\\hp\\anaconda3\\new folder\\anaconda3\\lib\\site-packages (from pandas>=1.3.0->yfinance) (2023.3)\n",
      "Requirement already satisfied: charset-normalizer<4,>=2 in c:\\users\\hp\\anaconda3\\new folder\\anaconda3\\lib\\site-packages (from requests>=2.31->yfinance) (3.3.2)\n",
      "Requirement already satisfied: idna<4,>=2.5 in c:\\users\\hp\\anaconda3\\new folder\\anaconda3\\lib\\site-packages (from requests>=2.31->yfinance) (3.7)\n",
      "Requirement already satisfied: urllib3<3,>=1.21.1 in c:\\users\\hp\\anaconda3\\new folder\\anaconda3\\lib\\site-packages (from requests>=2.31->yfinance) (2.2.3)\n",
      "Requirement already satisfied: certifi>=2017.4.17 in c:\\users\\hp\\anaconda3\\new folder\\anaconda3\\lib\\site-packages (from requests>=2.31->yfinance) (2024.8.30)\n"
     ]
    }
   ],
   "source": [
    "!pip install yfinance"
   ]
  },
  {
   "cell_type": "code",
   "execution_count": 3,
   "id": "3349317d-8af8-4f75-8319-f3e012fc3608",
   "metadata": {
    "id": "3349317d-8af8-4f75-8319-f3e012fc3608"
   },
   "outputs": [],
   "source": [
    "import yfinance as yf\n",
    "import pandas as pd\n",
    "import numpy as np\n",
    "import matplotlib.pyplot as plt\n",
    "import plotly.express as px\n",
    "import plotly.graph_objects as go\n",
    "import datetime\n",
    "import seaborn as sns\n",
    "sns.set_style('whitegrid')\n",
    "from plotly.subplots import make_subplots"
   ]
  },
  {
   "cell_type": "code",
   "execution_count": 4,
   "id": "aa053598-5163-4bba-8d95-ec51ea52cc69",
   "metadata": {
    "colab": {
     "base_uri": "https://localhost:8080/",
     "height": 36
    },
    "id": "aa053598-5163-4bba-8d95-ec51ea52cc69",
    "outputId": "9ff785e4-2b58-4201-de7f-a364534a3fc1"
   },
   "outputs": [
    {
     "data": {
      "text/plain": [
       "'0.2.52'"
      ]
     },
     "execution_count": 4,
     "metadata": {},
     "output_type": "execute_result"
    }
   ],
   "source": [
    "yf.__version__"
   ]
  },
  {
   "cell_type": "code",
   "execution_count": 5,
   "id": "94aee67d-deff-43f2-8354-5a14e401193b",
   "metadata": {
    "colab": {
     "base_uri": "https://localhost:8080/"
    },
    "id": "94aee67d-deff-43f2-8354-5a14e401193b",
    "outputId": "536e677b-d920-43c7-c19e-6c1e435d18ac"
   },
   "outputs": [
    {
     "name": "stderr",
     "output_type": "stream",
     "text": [
      "[*********************100%***********************]  1 of 1 completed\n"
     ]
    },
    {
     "name": "stdout",
     "output_type": "stream",
     "text": [
      "Downloaded PG\n"
     ]
    },
    {
     "name": "stderr",
     "output_type": "stream",
     "text": [
      "[*********************100%***********************]  1 of 1 completed\n"
     ]
    },
    {
     "name": "stdout",
     "output_type": "stream",
     "text": [
      "Downloaded JNJ\n"
     ]
    },
    {
     "name": "stderr",
     "output_type": "stream",
     "text": [
      "[*********************100%***********************]  1 of 1 completed"
     ]
    },
    {
     "name": "stdout",
     "output_type": "stream",
     "text": [
      "Downloaded ^GSPC\n"
     ]
    },
    {
     "name": "stderr",
     "output_type": "stream",
     "text": [
      "\n"
     ]
    }
   ],
   "source": [
    "# Define stock tickers and date range\n",
    "tickers = ['PG', 'JNJ',\n",
    "           '^GSPC']\n",
    "start_date = '2010-03-02'\n",
    "end_date = '2024-02-28'\n",
    "\n",
    "# Fetch data\n",
    "stock_data = {}\n",
    "for ticker in tickers:\n",
    "    stock_data[ticker] = yf.download(ticker, start=start_date, end=end_date)\n",
    "    print(f\"Downloaded {ticker}\")\n",
    "\n",
    "# Save individual CSVs (optional)\n",
    "for ticker, data in stock_data.items():\n",
    "   data.to_csv(f\"{ticker}_data.csv\")"
   ]
  },
  {
   "cell_type": "markdown",
   "id": "TMhZjs-B8-Gz",
   "metadata": {
    "id": "TMhZjs-B8-Gz"
   },
   "source": []
  },
  {
   "cell_type": "code",
   "execution_count": 7,
   "id": "2d080c90-8bf7-42d8-a545-390097420556",
   "metadata": {
    "id": "2d080c90-8bf7-42d8-a545-390097420556"
   },
   "outputs": [],
   "source": [
    "# Convert 'Date' column to datetime objects with UTC timezone and extract the date\n",
    "for ticker, data in stock_data.items():\n",
    "    # The index is already a DatetimeIndex, so we can access the date directly\n",
    "    data['Date'] = data.index.date\n",
    "    stock_data[ticker] = data.set_index('Date')  # Set 'Date' as index for each stock DataFrame"
   ]
  },
  {
   "cell_type": "code",
   "execution_count": 8,
   "id": "68b0ab8c-a37c-4a1b-a5f6-577ce7259727",
   "metadata": {
    "colab": {
     "base_uri": "https://localhost:8080/",
     "height": 237
    },
    "id": "68b0ab8c-a37c-4a1b-a5f6-577ce7259727",
    "outputId": "5c6a7d59-6945-45c9-babf-eebf633c3fd1"
   },
   "outputs": [
    {
     "data": {
      "text/html": [
       "<div>\n",
       "<style scoped>\n",
       "    .dataframe tbody tr th:only-of-type {\n",
       "        vertical-align: middle;\n",
       "    }\n",
       "\n",
       "    .dataframe tbody tr th {\n",
       "        vertical-align: top;\n",
       "    }\n",
       "\n",
       "    .dataframe thead th {\n",
       "        text-align: right;\n",
       "    }\n",
       "</style>\n",
       "<table border=\"1\" class=\"dataframe\">\n",
       "  <thead>\n",
       "    <tr style=\"text-align: right;\">\n",
       "      <th>Price</th>\n",
       "      <th>Close</th>\n",
       "      <th>High</th>\n",
       "      <th>Low</th>\n",
       "      <th>Open</th>\n",
       "      <th>Volume</th>\n",
       "    </tr>\n",
       "    <tr>\n",
       "      <th>Date</th>\n",
       "      <th></th>\n",
       "      <th></th>\n",
       "      <th></th>\n",
       "      <th></th>\n",
       "      <th></th>\n",
       "    </tr>\n",
       "  </thead>\n",
       "  <tbody>\n",
       "    <tr>\n",
       "      <th>2010-03-02</th>\n",
       "      <td>41.147186</td>\n",
       "      <td>41.250522</td>\n",
       "      <td>40.908222</td>\n",
       "      <td>41.153646</td>\n",
       "      <td>8004000</td>\n",
       "    </tr>\n",
       "    <tr>\n",
       "      <th>2010-03-03</th>\n",
       "      <td>41.043854</td>\n",
       "      <td>41.269903</td>\n",
       "      <td>40.966352</td>\n",
       "      <td>41.114898</td>\n",
       "      <td>8608300</td>\n",
       "    </tr>\n",
       "    <tr>\n",
       "      <th>2010-03-04</th>\n",
       "      <td>41.121365</td>\n",
       "      <td>41.431375</td>\n",
       "      <td>40.953444</td>\n",
       "      <td>41.108450</td>\n",
       "      <td>8600300</td>\n",
       "    </tr>\n",
       "    <tr>\n",
       "      <th>2010-03-05</th>\n",
       "      <td>41.134274</td>\n",
       "      <td>41.192400</td>\n",
       "      <td>40.720929</td>\n",
       "      <td>41.134274</td>\n",
       "      <td>10101100</td>\n",
       "    </tr>\n",
       "    <tr>\n",
       "      <th>2010-03-08</th>\n",
       "      <td>40.811352</td>\n",
       "      <td>41.121360</td>\n",
       "      <td>40.708016</td>\n",
       "      <td>41.043859</td>\n",
       "      <td>11293300</td>\n",
       "    </tr>\n",
       "  </tbody>\n",
       "</table>\n",
       "</div>"
      ],
      "text/plain": [
       "Price           Close       High        Low       Open    Volume\n",
       "Date                                                            \n",
       "2010-03-02  41.147186  41.250522  40.908222  41.153646   8004000\n",
       "2010-03-03  41.043854  41.269903  40.966352  41.114898   8608300\n",
       "2010-03-04  41.121365  41.431375  40.953444  41.108450   8600300\n",
       "2010-03-05  41.134274  41.192400  40.720929  41.134274  10101100\n",
       "2010-03-08  40.811352  41.121360  40.708016  41.043859  11293300"
      ]
     },
     "execution_count": 8,
     "metadata": {},
     "output_type": "execute_result"
    }
   ],
   "source": [
    "#Fetch data for PG\n",
    "pg_data = stock_data['PG']\n",
    "pg_data = pg_data.xs('PG',axis=1,level='Ticker')\n",
    "pg_data.head()"
   ]
  },
  {
   "cell_type": "code",
   "execution_count": 9,
   "id": "c193f759-9590-4834-89a8-03d469e3c072",
   "metadata": {
    "colab": {
     "base_uri": "https://localhost:8080/",
     "height": 237
    },
    "id": "c193f759-9590-4834-89a8-03d469e3c072",
    "outputId": "96cbcf1b-2e4c-4f8d-a02a-32bcb428e8df"
   },
   "outputs": [
    {
     "data": {
      "text/html": [
       "<div>\n",
       "<style scoped>\n",
       "    .dataframe tbody tr th:only-of-type {\n",
       "        vertical-align: middle;\n",
       "    }\n",
       "\n",
       "    .dataframe tbody tr th {\n",
       "        vertical-align: top;\n",
       "    }\n",
       "\n",
       "    .dataframe thead th {\n",
       "        text-align: right;\n",
       "    }\n",
       "</style>\n",
       "<table border=\"1\" class=\"dataframe\">\n",
       "  <thead>\n",
       "    <tr style=\"text-align: right;\">\n",
       "      <th>Price</th>\n",
       "      <th>Close</th>\n",
       "      <th>High</th>\n",
       "      <th>Low</th>\n",
       "      <th>Open</th>\n",
       "      <th>Volume</th>\n",
       "    </tr>\n",
       "    <tr>\n",
       "      <th>Date</th>\n",
       "      <th></th>\n",
       "      <th></th>\n",
       "      <th></th>\n",
       "      <th></th>\n",
       "      <th></th>\n",
       "    </tr>\n",
       "  </thead>\n",
       "  <tbody>\n",
       "    <tr>\n",
       "      <th>2010-03-02</th>\n",
       "      <td>41.169704</td>\n",
       "      <td>41.299496</td>\n",
       "      <td>40.897145</td>\n",
       "      <td>41.085342</td>\n",
       "      <td>9014000</td>\n",
       "    </tr>\n",
       "    <tr>\n",
       "      <th>2010-03-03</th>\n",
       "      <td>41.143730</td>\n",
       "      <td>41.370863</td>\n",
       "      <td>41.026918</td>\n",
       "      <td>41.267031</td>\n",
       "      <td>9360400</td>\n",
       "    </tr>\n",
       "    <tr>\n",
       "      <th>2010-03-04</th>\n",
       "      <td>41.254074</td>\n",
       "      <td>41.338439</td>\n",
       "      <td>41.124283</td>\n",
       "      <td>41.228115</td>\n",
       "      <td>8067200</td>\n",
       "    </tr>\n",
       "    <tr>\n",
       "      <th>2010-03-05</th>\n",
       "      <td>41.559082</td>\n",
       "      <td>41.578550</td>\n",
       "      <td>41.241093</td>\n",
       "      <td>41.312478</td>\n",
       "      <td>10633600</td>\n",
       "    </tr>\n",
       "    <tr>\n",
       "      <th>2010-03-08</th>\n",
       "      <td>41.662910</td>\n",
       "      <td>41.799195</td>\n",
       "      <td>41.546098</td>\n",
       "      <td>41.585039</td>\n",
       "      <td>33380500</td>\n",
       "    </tr>\n",
       "  </tbody>\n",
       "</table>\n",
       "</div>"
      ],
      "text/plain": [
       "Price           Close       High        Low       Open    Volume\n",
       "Date                                                            \n",
       "2010-03-02  41.169704  41.299496  40.897145  41.085342   9014000\n",
       "2010-03-03  41.143730  41.370863  41.026918  41.267031   9360400\n",
       "2010-03-04  41.254074  41.338439  41.124283  41.228115   8067200\n",
       "2010-03-05  41.559082  41.578550  41.241093  41.312478  10633600\n",
       "2010-03-08  41.662910  41.799195  41.546098  41.585039  33380500"
      ]
     },
     "execution_count": 9,
     "metadata": {},
     "output_type": "execute_result"
    }
   ],
   "source": [
    "# Fetch data for JNJ\n",
    "jnj_data = stock_data['JNJ']\n",
    "jnj_data = jnj_data.xs('JNJ',axis=1,level='Ticker')\n",
    "jnj_data.head()"
   ]
  },
  {
   "cell_type": "code",
   "execution_count": 10,
   "id": "f1fc502b-b561-457c-8443-0337b146d269",
   "metadata": {
    "colab": {
     "base_uri": "https://localhost:8080/",
     "height": 237
    },
    "id": "f1fc502b-b561-457c-8443-0337b146d269",
    "outputId": "c7ccd57f-052d-4ab1-ecd0-ac46f5acd0e7"
   },
   "outputs": [
    {
     "data": {
      "text/html": [
       "<div>\n",
       "<style scoped>\n",
       "    .dataframe tbody tr th:only-of-type {\n",
       "        vertical-align: middle;\n",
       "    }\n",
       "\n",
       "    .dataframe tbody tr th {\n",
       "        vertical-align: top;\n",
       "    }\n",
       "\n",
       "    .dataframe thead th {\n",
       "        text-align: right;\n",
       "    }\n",
       "</style>\n",
       "<table border=\"1\" class=\"dataframe\">\n",
       "  <thead>\n",
       "    <tr style=\"text-align: right;\">\n",
       "      <th>Price</th>\n",
       "      <th>Close</th>\n",
       "      <th>High</th>\n",
       "      <th>Low</th>\n",
       "      <th>Open</th>\n",
       "      <th>Volume</th>\n",
       "    </tr>\n",
       "    <tr>\n",
       "      <th>Date</th>\n",
       "      <th></th>\n",
       "      <th></th>\n",
       "      <th></th>\n",
       "      <th></th>\n",
       "      <th></th>\n",
       "    </tr>\n",
       "  </thead>\n",
       "  <tbody>\n",
       "    <tr>\n",
       "      <th>2010-03-02</th>\n",
       "      <td>1118.310059</td>\n",
       "      <td>1123.459961</td>\n",
       "      <td>1116.510010</td>\n",
       "      <td>1117.010010</td>\n",
       "      <td>4134680000</td>\n",
       "    </tr>\n",
       "    <tr>\n",
       "      <th>2010-03-03</th>\n",
       "      <td>1118.790039</td>\n",
       "      <td>1125.640015</td>\n",
       "      <td>1116.579956</td>\n",
       "      <td>1119.359985</td>\n",
       "      <td>3951320000</td>\n",
       "    </tr>\n",
       "    <tr>\n",
       "      <th>2010-03-04</th>\n",
       "      <td>1122.969971</td>\n",
       "      <td>1123.729980</td>\n",
       "      <td>1116.660034</td>\n",
       "      <td>1119.119995</td>\n",
       "      <td>3945010000</td>\n",
       "    </tr>\n",
       "    <tr>\n",
       "      <th>2010-03-05</th>\n",
       "      <td>1138.699951</td>\n",
       "      <td>1139.380005</td>\n",
       "      <td>1125.119995</td>\n",
       "      <td>1125.119995</td>\n",
       "      <td>4133000000</td>\n",
       "    </tr>\n",
       "    <tr>\n",
       "      <th>2010-03-08</th>\n",
       "      <td>1138.500000</td>\n",
       "      <td>1141.050049</td>\n",
       "      <td>1136.770020</td>\n",
       "      <td>1138.400024</td>\n",
       "      <td>3774680000</td>\n",
       "    </tr>\n",
       "  </tbody>\n",
       "</table>\n",
       "</div>"
      ],
      "text/plain": [
       "Price             Close         High          Low         Open      Volume\n",
       "Date                                                                      \n",
       "2010-03-02  1118.310059  1123.459961  1116.510010  1117.010010  4134680000\n",
       "2010-03-03  1118.790039  1125.640015  1116.579956  1119.359985  3951320000\n",
       "2010-03-04  1122.969971  1123.729980  1116.660034  1119.119995  3945010000\n",
       "2010-03-05  1138.699951  1139.380005  1125.119995  1125.119995  4133000000\n",
       "2010-03-08  1138.500000  1141.050049  1136.770020  1138.400024  3774680000"
      ]
     },
     "execution_count": 10,
     "metadata": {},
     "output_type": "execute_result"
    }
   ],
   "source": [
    "# Fetch data for'^GSPC'\n",
    "gspc_data = stock_data['^GSPC']\n",
    "gspc_data = gspc_data.xs('^GSPC',axis=1,level='Ticker')\n",
    "gspc_data.head()"
   ]
  },
  {
   "cell_type": "markdown",
   "id": "c46259a0-5c55-47a8-9c3c-d4e585a38d50",
   "metadata": {
    "id": "c46259a0-5c55-47a8-9c3c-d4e585a38d50"
   },
   "source": [
    "Feature Engineering:\n",
    "\n",
    "Computing the stocks the \"Returns\" feature\n",
    "\n",
    "Creating a “Tomorrow” column\n",
    "\n",
    "Creating a “stocks-Direction” column\n",
    "\n",
    "Computing the Return, Tomorrow, and Stock_Direction columns for each stocks"
   ]
  },
  {
   "cell_type": "code",
   "execution_count": 12,
   "id": "621d526d-91b1-42df-a033-a7945a30a07d",
   "metadata": {
    "id": "621d526d-91b1-42df-a033-a7945a30a07d"
   },
   "outputs": [],
   "source": [
    "# For PG stock\n",
    "pg_data['Return'] = pg_data['Close'].pct_change()\n",
    "# For PG stock:\n",
    "pg_data['Tomorrow'] = pg_data['Close'].shift(-1)\n",
    "# For PG stock\n",
    "pg_data['Stocks_Direction'] = (pg_data['Close'] > pg_data['Close'].shift(1)).astype(int)"
   ]
  },
  {
   "cell_type": "code",
   "execution_count": 13,
   "id": "a7c0d783-7867-4ab3-ad7e-ba832021d6fc",
   "metadata": {
    "colab": {
     "base_uri": "https://localhost:8080/"
    },
    "id": "a7c0d783-7867-4ab3-ad7e-ba832021d6fc",
    "outputId": "2f96f2f4-0d30-4631-c9c2-26291cc048c7"
   },
   "outputs": [
    {
     "name": "stdout",
     "output_type": "stream",
     "text": [
      "<class 'pandas.core.frame.DataFrame'>\n",
      "Index: 3522 entries, 2010-03-02 to 2024-02-27\n",
      "Data columns (total 8 columns):\n",
      " #   Column            Non-Null Count  Dtype  \n",
      "---  ------            --------------  -----  \n",
      " 0   Close             3522 non-null   float64\n",
      " 1   High              3522 non-null   float64\n",
      " 2   Low               3522 non-null   float64\n",
      " 3   Open              3522 non-null   float64\n",
      " 4   Volume            3522 non-null   int64  \n",
      " 5   Return            3521 non-null   float64\n",
      " 6   Tomorrow          3521 non-null   float64\n",
      " 7   Stocks_Direction  3522 non-null   int32  \n",
      "dtypes: float64(6), int32(1), int64(1)\n",
      "memory usage: 233.9+ KB\n"
     ]
    }
   ],
   "source": [
    "pg_data.info()"
   ]
  },
  {
   "cell_type": "code",
   "execution_count": null,
   "id": "01935a73-6039-4159-b8ae-175d81f171a7",
   "metadata": {
    "id": "01935a73-6039-4159-b8ae-175d81f171a7"
   },
   "outputs": [],
   "source": []
  },
  {
   "cell_type": "code",
   "execution_count": 14,
   "id": "6fd4d8da-7457-4650-9392-264e9f798cf1",
   "metadata": {
    "id": "6fd4d8da-7457-4650-9392-264e9f798cf1"
   },
   "outputs": [],
   "source": [
    "#pg_data.dropna(inplace=True)  # Removes rows with any missing values"
   ]
  },
  {
   "cell_type": "code",
   "execution_count": 15,
   "id": "f064fbfc-c98e-4657-8439-18c8f08849db",
   "metadata": {
    "id": "f064fbfc-c98e-4657-8439-18c8f08849db"
   },
   "outputs": [],
   "source": [
    "# Handling 'Return' column NaNs\n",
    "pg_data.loc[:, 'Return'] = pg_data['Return'].fillna(0)  # Fill first row with 0\n",
    "pg_data.loc[:, 'Return'] = pg_data['Return'].ffill()  # Fill other potential NaNs using forward fill\n",
    "\n",
    "# Handling 'Tomorrow' column NaNs\n",
    "pg_data = pg_data.iloc[:-1]  # Drop the last row\n",
    "\n",
    "# Handing \"Stock_Direction column NaNs\"\n",
    "pg_data.loc[:, 'Stocks_Direction'] = pg_data['Stocks_Direction'].fillna(0)  # Fill first row with 0\n",
    "pg_data.loc[:, 'Stocks_Direction'] = pg_data['Stocks_Direction'].ffill()  # Fill other potential NaNs using forward fill\n"
   ]
  },
  {
   "cell_type": "code",
   "execution_count": 16,
   "id": "4cc8a099-1087-4b98-af5e-6d9622bc95b3",
   "metadata": {
    "colab": {
     "base_uri": "https://localhost:8080/",
     "height": 366
    },
    "id": "4cc8a099-1087-4b98-af5e-6d9622bc95b3",
    "outputId": "6188bb9d-95e4-4918-a402-9c790de130ba"
   },
   "outputs": [
    {
     "data": {
      "text/plain": [
       "Price\n",
       "Close               0\n",
       "High                0\n",
       "Low                 0\n",
       "Open                0\n",
       "Volume              0\n",
       "Return              0\n",
       "Tomorrow            0\n",
       "Stocks_Direction    0\n",
       "dtype: int64"
      ]
     },
     "execution_count": 16,
     "metadata": {},
     "output_type": "execute_result"
    }
   ],
   "source": [
    "pg_data.isna().sum()"
   ]
  },
  {
   "cell_type": "code",
   "execution_count": 17,
   "id": "891176f1-537f-4bca-817c-8f17509df634",
   "metadata": {
    "colab": {
     "base_uri": "https://localhost:8080/",
     "height": 237
    },
    "id": "891176f1-537f-4bca-817c-8f17509df634",
    "outputId": "bd2d946d-78a0-4acf-ffba-78f904ff1ef5"
   },
   "outputs": [
    {
     "data": {
      "text/html": [
       "<div>\n",
       "<style scoped>\n",
       "    .dataframe tbody tr th:only-of-type {\n",
       "        vertical-align: middle;\n",
       "    }\n",
       "\n",
       "    .dataframe tbody tr th {\n",
       "        vertical-align: top;\n",
       "    }\n",
       "\n",
       "    .dataframe thead th {\n",
       "        text-align: right;\n",
       "    }\n",
       "</style>\n",
       "<table border=\"1\" class=\"dataframe\">\n",
       "  <thead>\n",
       "    <tr style=\"text-align: right;\">\n",
       "      <th>Price</th>\n",
       "      <th>Close</th>\n",
       "      <th>High</th>\n",
       "      <th>Low</th>\n",
       "      <th>Open</th>\n",
       "      <th>Volume</th>\n",
       "      <th>Return</th>\n",
       "      <th>Tomorrow</th>\n",
       "      <th>Stocks_Direction</th>\n",
       "    </tr>\n",
       "    <tr>\n",
       "      <th>Date</th>\n",
       "      <th></th>\n",
       "      <th></th>\n",
       "      <th></th>\n",
       "      <th></th>\n",
       "      <th></th>\n",
       "      <th></th>\n",
       "      <th></th>\n",
       "      <th></th>\n",
       "    </tr>\n",
       "  </thead>\n",
       "  <tbody>\n",
       "    <tr>\n",
       "      <th>2010-03-02</th>\n",
       "      <td>41.147186</td>\n",
       "      <td>41.250522</td>\n",
       "      <td>40.908222</td>\n",
       "      <td>41.153646</td>\n",
       "      <td>8004000</td>\n",
       "      <td>0.000000</td>\n",
       "      <td>41.043854</td>\n",
       "      <td>0</td>\n",
       "    </tr>\n",
       "    <tr>\n",
       "      <th>2010-03-03</th>\n",
       "      <td>41.043854</td>\n",
       "      <td>41.269903</td>\n",
       "      <td>40.966352</td>\n",
       "      <td>41.114898</td>\n",
       "      <td>8608300</td>\n",
       "      <td>-0.002511</td>\n",
       "      <td>41.121365</td>\n",
       "      <td>0</td>\n",
       "    </tr>\n",
       "    <tr>\n",
       "      <th>2010-03-04</th>\n",
       "      <td>41.121365</td>\n",
       "      <td>41.431375</td>\n",
       "      <td>40.953444</td>\n",
       "      <td>41.108450</td>\n",
       "      <td>8600300</td>\n",
       "      <td>0.001888</td>\n",
       "      <td>41.134274</td>\n",
       "      <td>1</td>\n",
       "    </tr>\n",
       "    <tr>\n",
       "      <th>2010-03-05</th>\n",
       "      <td>41.134274</td>\n",
       "      <td>41.192400</td>\n",
       "      <td>40.720929</td>\n",
       "      <td>41.134274</td>\n",
       "      <td>10101100</td>\n",
       "      <td>0.000314</td>\n",
       "      <td>40.811352</td>\n",
       "      <td>1</td>\n",
       "    </tr>\n",
       "    <tr>\n",
       "      <th>2010-03-08</th>\n",
       "      <td>40.811352</td>\n",
       "      <td>41.121360</td>\n",
       "      <td>40.708016</td>\n",
       "      <td>41.043859</td>\n",
       "      <td>11293300</td>\n",
       "      <td>-0.007850</td>\n",
       "      <td>40.882393</td>\n",
       "      <td>0</td>\n",
       "    </tr>\n",
       "  </tbody>\n",
       "</table>\n",
       "</div>"
      ],
      "text/plain": [
       "Price           Close       High        Low       Open    Volume    Return  \\\n",
       "Date                                                                         \n",
       "2010-03-02  41.147186  41.250522  40.908222  41.153646   8004000  0.000000   \n",
       "2010-03-03  41.043854  41.269903  40.966352  41.114898   8608300 -0.002511   \n",
       "2010-03-04  41.121365  41.431375  40.953444  41.108450   8600300  0.001888   \n",
       "2010-03-05  41.134274  41.192400  40.720929  41.134274  10101100  0.000314   \n",
       "2010-03-08  40.811352  41.121360  40.708016  41.043859  11293300 -0.007850   \n",
       "\n",
       "Price        Tomorrow  Stocks_Direction  \n",
       "Date                                     \n",
       "2010-03-02  41.043854                 0  \n",
       "2010-03-03  41.121365                 0  \n",
       "2010-03-04  41.134274                 1  \n",
       "2010-03-05  40.811352                 1  \n",
       "2010-03-08  40.882393                 0  "
      ]
     },
     "execution_count": 17,
     "metadata": {},
     "output_type": "execute_result"
    }
   ],
   "source": [
    "pg_data.head()"
   ]
  },
  {
   "cell_type": "code",
   "execution_count": 18,
   "id": "6a1da381-c42a-44a2-8f80-035fd026e0df",
   "metadata": {
    "id": "6a1da381-c42a-44a2-8f80-035fd026e0df"
   },
   "outputs": [],
   "source": [
    "# For JNJ stock\n",
    "jnj_data['Return'] = jnj_data['Close'].pct_change()\n",
    "# For JNJ stock:\n",
    "jnj_data['Tomorrow'] = jnj_data['Close'].shift(-1)\n",
    "# For JNJ stock\n",
    "jnj_data['Stocks_Direction'] = (jnj_data['Close'] > jnj_data['Close'].shift(1)).astype(int)\n"
   ]
  },
  {
   "cell_type": "code",
   "execution_count": 19,
   "id": "95cb1de7-eadf-4251-8c03-d1e794ed65a5",
   "metadata": {
    "colab": {
     "base_uri": "https://localhost:8080/"
    },
    "id": "95cb1de7-eadf-4251-8c03-d1e794ed65a5",
    "outputId": "354dc32a-94ba-4db4-8959-36405a49a428"
   },
   "outputs": [
    {
     "name": "stdout",
     "output_type": "stream",
     "text": [
      "<class 'pandas.core.frame.DataFrame'>\n",
      "Index: 3522 entries, 2010-03-02 to 2024-02-27\n",
      "Data columns (total 8 columns):\n",
      " #   Column            Non-Null Count  Dtype  \n",
      "---  ------            --------------  -----  \n",
      " 0   Close             3522 non-null   float64\n",
      " 1   High              3522 non-null   float64\n",
      " 2   Low               3522 non-null   float64\n",
      " 3   Open              3522 non-null   float64\n",
      " 4   Volume            3522 non-null   int64  \n",
      " 5   Return            3521 non-null   float64\n",
      " 6   Tomorrow          3521 non-null   float64\n",
      " 7   Stocks_Direction  3522 non-null   int32  \n",
      "dtypes: float64(6), int32(1), int64(1)\n",
      "memory usage: 233.9+ KB\n"
     ]
    }
   ],
   "source": [
    "jnj_data.info()"
   ]
  },
  {
   "cell_type": "code",
   "execution_count": 20,
   "id": "a632c11f-eb1b-4760-9042-9dee2a3dcb84",
   "metadata": {
    "id": "a632c11f-eb1b-4760-9042-9dee2a3dcb84"
   },
   "outputs": [],
   "source": [
    "# Handling 'Return' column NaNs\n",
    "jnj_data.loc[:, 'Return'] = jnj_data['Return'].fillna(0)  # Fill first row with 0\n",
    "jnj_data.loc[:, 'Return'] = jnj_data['Return'].ffill()  # Fill other potential NaNs using forward fill\n",
    "\n",
    "# Handling 'Tomorrow' column NaNs\n",
    "jnj_data = jnj_data.iloc[:-1]  # Drop the last row\n",
    "\n",
    "# Handing \"Stock_Direction' column NaNs\n",
    "jnj_data.loc[:, 'Stocks_Direction'] = jnj_data['Stocks_Direction'].fillna(0)  # Fill first row with 0\n",
    "jnj_data.loc[:, 'Stocks_Direction'] = jnj_data['Stocks_Direction'].ffill()"
   ]
  },
  {
   "cell_type": "code",
   "execution_count": 21,
   "id": "7206ccc9-23a5-49d0-8402-982131cd51ea",
   "metadata": {
    "colab": {
     "base_uri": "https://localhost:8080/",
     "height": 366
    },
    "id": "7206ccc9-23a5-49d0-8402-982131cd51ea",
    "outputId": "8d63429f-e698-4fed-e8b4-b67112d9e597"
   },
   "outputs": [
    {
     "data": {
      "text/plain": [
       "Price\n",
       "Close               0\n",
       "High                0\n",
       "Low                 0\n",
       "Open                0\n",
       "Volume              0\n",
       "Return              0\n",
       "Tomorrow            0\n",
       "Stocks_Direction    0\n",
       "dtype: int64"
      ]
     },
     "execution_count": 21,
     "metadata": {},
     "output_type": "execute_result"
    }
   ],
   "source": [
    "jnj_data.isna().sum()"
   ]
  },
  {
   "cell_type": "code",
   "execution_count": 22,
   "id": "b8c9fffd-9f93-4cb5-98ed-59233d8c74e6",
   "metadata": {
    "colab": {
     "base_uri": "https://localhost:8080/",
     "height": 237
    },
    "id": "b8c9fffd-9f93-4cb5-98ed-59233d8c74e6",
    "outputId": "5dd9d8a9-1d62-4721-88e8-d5f9219b6a7f"
   },
   "outputs": [
    {
     "data": {
      "text/html": [
       "<div>\n",
       "<style scoped>\n",
       "    .dataframe tbody tr th:only-of-type {\n",
       "        vertical-align: middle;\n",
       "    }\n",
       "\n",
       "    .dataframe tbody tr th {\n",
       "        vertical-align: top;\n",
       "    }\n",
       "\n",
       "    .dataframe thead th {\n",
       "        text-align: right;\n",
       "    }\n",
       "</style>\n",
       "<table border=\"1\" class=\"dataframe\">\n",
       "  <thead>\n",
       "    <tr style=\"text-align: right;\">\n",
       "      <th>Price</th>\n",
       "      <th>Close</th>\n",
       "      <th>High</th>\n",
       "      <th>Low</th>\n",
       "      <th>Open</th>\n",
       "      <th>Volume</th>\n",
       "      <th>Return</th>\n",
       "      <th>Tomorrow</th>\n",
       "      <th>Stocks_Direction</th>\n",
       "    </tr>\n",
       "    <tr>\n",
       "      <th>Date</th>\n",
       "      <th></th>\n",
       "      <th></th>\n",
       "      <th></th>\n",
       "      <th></th>\n",
       "      <th></th>\n",
       "      <th></th>\n",
       "      <th></th>\n",
       "      <th></th>\n",
       "    </tr>\n",
       "  </thead>\n",
       "  <tbody>\n",
       "    <tr>\n",
       "      <th>2010-03-02</th>\n",
       "      <td>41.169704</td>\n",
       "      <td>41.299496</td>\n",
       "      <td>40.897145</td>\n",
       "      <td>41.085342</td>\n",
       "      <td>9014000</td>\n",
       "      <td>0.000000</td>\n",
       "      <td>41.143730</td>\n",
       "      <td>0</td>\n",
       "    </tr>\n",
       "    <tr>\n",
       "      <th>2010-03-03</th>\n",
       "      <td>41.143730</td>\n",
       "      <td>41.370863</td>\n",
       "      <td>41.026918</td>\n",
       "      <td>41.267031</td>\n",
       "      <td>9360400</td>\n",
       "      <td>-0.000631</td>\n",
       "      <td>41.254074</td>\n",
       "      <td>0</td>\n",
       "    </tr>\n",
       "    <tr>\n",
       "      <th>2010-03-04</th>\n",
       "      <td>41.254074</td>\n",
       "      <td>41.338439</td>\n",
       "      <td>41.124283</td>\n",
       "      <td>41.228115</td>\n",
       "      <td>8067200</td>\n",
       "      <td>0.002682</td>\n",
       "      <td>41.559082</td>\n",
       "      <td>1</td>\n",
       "    </tr>\n",
       "    <tr>\n",
       "      <th>2010-03-05</th>\n",
       "      <td>41.559082</td>\n",
       "      <td>41.578550</td>\n",
       "      <td>41.241093</td>\n",
       "      <td>41.312478</td>\n",
       "      <td>10633600</td>\n",
       "      <td>0.007393</td>\n",
       "      <td>41.662910</td>\n",
       "      <td>1</td>\n",
       "    </tr>\n",
       "    <tr>\n",
       "      <th>2010-03-08</th>\n",
       "      <td>41.662910</td>\n",
       "      <td>41.799195</td>\n",
       "      <td>41.546098</td>\n",
       "      <td>41.585039</td>\n",
       "      <td>33380500</td>\n",
       "      <td>0.002498</td>\n",
       "      <td>41.708344</td>\n",
       "      <td>1</td>\n",
       "    </tr>\n",
       "  </tbody>\n",
       "</table>\n",
       "</div>"
      ],
      "text/plain": [
       "Price           Close       High        Low       Open    Volume    Return  \\\n",
       "Date                                                                         \n",
       "2010-03-02  41.169704  41.299496  40.897145  41.085342   9014000  0.000000   \n",
       "2010-03-03  41.143730  41.370863  41.026918  41.267031   9360400 -0.000631   \n",
       "2010-03-04  41.254074  41.338439  41.124283  41.228115   8067200  0.002682   \n",
       "2010-03-05  41.559082  41.578550  41.241093  41.312478  10633600  0.007393   \n",
       "2010-03-08  41.662910  41.799195  41.546098  41.585039  33380500  0.002498   \n",
       "\n",
       "Price        Tomorrow  Stocks_Direction  \n",
       "Date                                     \n",
       "2010-03-02  41.143730                 0  \n",
       "2010-03-03  41.254074                 0  \n",
       "2010-03-04  41.559082                 1  \n",
       "2010-03-05  41.662910                 1  \n",
       "2010-03-08  41.708344                 1  "
      ]
     },
     "execution_count": 22,
     "metadata": {},
     "output_type": "execute_result"
    }
   ],
   "source": [
    "jnj_data.head()"
   ]
  },
  {
   "cell_type": "code",
   "execution_count": 23,
   "id": "bf32e635-8fa3-441e-996b-ce51bf5883d9",
   "metadata": {
    "id": "bf32e635-8fa3-441e-996b-ce51bf5883d9"
   },
   "outputs": [],
   "source": [
    "# For ^GSPC stock\n",
    "gspc_data['Return'] = gspc_data['Close'].pct_change()\n",
    "# For ^GSPC stock:\n",
    "gspc_data['Tomorrow'] = gspc_data['Close'].shift(-1)\n",
    "# For ^GSPC stock\n",
    "gspc_data['Stocks_Direction'] = (gspc_data['Close'] > gspc_data['Close'].shift(1)).astype(int)"
   ]
  },
  {
   "cell_type": "code",
   "execution_count": 24,
   "id": "81a73d18-4252-4a01-aa77-35364dabd9f6",
   "metadata": {
    "colab": {
     "base_uri": "https://localhost:8080/"
    },
    "id": "81a73d18-4252-4a01-aa77-35364dabd9f6",
    "outputId": "935e7e39-d7fe-4d25-b6ed-d57b001ab19e"
   },
   "outputs": [
    {
     "name": "stdout",
     "output_type": "stream",
     "text": [
      "<class 'pandas.core.frame.DataFrame'>\n",
      "Index: 3522 entries, 2010-03-02 to 2024-02-27\n",
      "Data columns (total 8 columns):\n",
      " #   Column            Non-Null Count  Dtype  \n",
      "---  ------            --------------  -----  \n",
      " 0   Close             3522 non-null   float64\n",
      " 1   High              3522 non-null   float64\n",
      " 2   Low               3522 non-null   float64\n",
      " 3   Open              3522 non-null   float64\n",
      " 4   Volume            3522 non-null   int64  \n",
      " 5   Return            3521 non-null   float64\n",
      " 6   Tomorrow          3521 non-null   float64\n",
      " 7   Stocks_Direction  3522 non-null   int32  \n",
      "dtypes: float64(6), int32(1), int64(1)\n",
      "memory usage: 233.9+ KB\n"
     ]
    }
   ],
   "source": [
    "gspc_data.info()"
   ]
  },
  {
   "cell_type": "code",
   "execution_count": 25,
   "id": "8f48ec38-f925-4634-b5c0-2dbe2b899722",
   "metadata": {
    "id": "8f48ec38-f925-4634-b5c0-2dbe2b899722"
   },
   "outputs": [],
   "source": [
    "gspc_data.loc[:, 'Return'] = gspc_data['Return'].fillna(0)  # Fill first row with 0\n",
    "gspc_data.loc[:, 'Return'] = gspc_data['Return'].ffill()\n",
    "\n",
    "gspc_data = gspc_data.iloc[:-1]  # Drop the last row\n",
    "\n",
    "gspc_data.loc[:, 'Stocks_Direction'] = gspc_data['Stocks_Direction'].fillna(0)\n",
    "gspc_data.loc[:, 'Stocks_Direction'] = gspc_data['Stocks_Direction'].ffill()"
   ]
  },
  {
   "cell_type": "code",
   "execution_count": 26,
   "id": "6d54a493-d411-408f-91d9-83b7ab6c3e4c",
   "metadata": {
    "colab": {
     "base_uri": "https://localhost:8080/",
     "height": 366
    },
    "id": "6d54a493-d411-408f-91d9-83b7ab6c3e4c",
    "outputId": "e9cd86b1-09c1-4d0e-e543-0aa8e8fa5286"
   },
   "outputs": [
    {
     "data": {
      "text/plain": [
       "Price\n",
       "Close               0\n",
       "High                0\n",
       "Low                 0\n",
       "Open                0\n",
       "Volume              0\n",
       "Return              0\n",
       "Tomorrow            0\n",
       "Stocks_Direction    0\n",
       "dtype: int64"
      ]
     },
     "execution_count": 26,
     "metadata": {},
     "output_type": "execute_result"
    }
   ],
   "source": [
    "gspc_data.isna().sum()"
   ]
  },
  {
   "cell_type": "code",
   "execution_count": 27,
   "id": "c7349393-e25d-4979-8a4b-a74b46ff3370",
   "metadata": {
    "colab": {
     "base_uri": "https://localhost:8080/",
     "height": 237
    },
    "id": "c7349393-e25d-4979-8a4b-a74b46ff3370",
    "outputId": "149db90c-b2ec-4699-f9e7-d87656732813"
   },
   "outputs": [
    {
     "data": {
      "text/html": [
       "<div>\n",
       "<style scoped>\n",
       "    .dataframe tbody tr th:only-of-type {\n",
       "        vertical-align: middle;\n",
       "    }\n",
       "\n",
       "    .dataframe tbody tr th {\n",
       "        vertical-align: top;\n",
       "    }\n",
       "\n",
       "    .dataframe thead th {\n",
       "        text-align: right;\n",
       "    }\n",
       "</style>\n",
       "<table border=\"1\" class=\"dataframe\">\n",
       "  <thead>\n",
       "    <tr style=\"text-align: right;\">\n",
       "      <th>Price</th>\n",
       "      <th>Close</th>\n",
       "      <th>High</th>\n",
       "      <th>Low</th>\n",
       "      <th>Open</th>\n",
       "      <th>Volume</th>\n",
       "      <th>Return</th>\n",
       "      <th>Tomorrow</th>\n",
       "      <th>Stocks_Direction</th>\n",
       "    </tr>\n",
       "    <tr>\n",
       "      <th>Date</th>\n",
       "      <th></th>\n",
       "      <th></th>\n",
       "      <th></th>\n",
       "      <th></th>\n",
       "      <th></th>\n",
       "      <th></th>\n",
       "      <th></th>\n",
       "      <th></th>\n",
       "    </tr>\n",
       "  </thead>\n",
       "  <tbody>\n",
       "    <tr>\n",
       "      <th>2010-03-02</th>\n",
       "      <td>1118.310059</td>\n",
       "      <td>1123.459961</td>\n",
       "      <td>1116.510010</td>\n",
       "      <td>1117.010010</td>\n",
       "      <td>4134680000</td>\n",
       "      <td>0.000000</td>\n",
       "      <td>1118.790039</td>\n",
       "      <td>0</td>\n",
       "    </tr>\n",
       "    <tr>\n",
       "      <th>2010-03-03</th>\n",
       "      <td>1118.790039</td>\n",
       "      <td>1125.640015</td>\n",
       "      <td>1116.579956</td>\n",
       "      <td>1119.359985</td>\n",
       "      <td>3951320000</td>\n",
       "      <td>0.000429</td>\n",
       "      <td>1122.969971</td>\n",
       "      <td>1</td>\n",
       "    </tr>\n",
       "    <tr>\n",
       "      <th>2010-03-04</th>\n",
       "      <td>1122.969971</td>\n",
       "      <td>1123.729980</td>\n",
       "      <td>1116.660034</td>\n",
       "      <td>1119.119995</td>\n",
       "      <td>3945010000</td>\n",
       "      <td>0.003736</td>\n",
       "      <td>1138.699951</td>\n",
       "      <td>1</td>\n",
       "    </tr>\n",
       "    <tr>\n",
       "      <th>2010-03-05</th>\n",
       "      <td>1138.699951</td>\n",
       "      <td>1139.380005</td>\n",
       "      <td>1125.119995</td>\n",
       "      <td>1125.119995</td>\n",
       "      <td>4133000000</td>\n",
       "      <td>0.014007</td>\n",
       "      <td>1138.500000</td>\n",
       "      <td>1</td>\n",
       "    </tr>\n",
       "    <tr>\n",
       "      <th>2010-03-08</th>\n",
       "      <td>1138.500000</td>\n",
       "      <td>1141.050049</td>\n",
       "      <td>1136.770020</td>\n",
       "      <td>1138.400024</td>\n",
       "      <td>3774680000</td>\n",
       "      <td>-0.000176</td>\n",
       "      <td>1140.449951</td>\n",
       "      <td>0</td>\n",
       "    </tr>\n",
       "  </tbody>\n",
       "</table>\n",
       "</div>"
      ],
      "text/plain": [
       "Price             Close         High          Low         Open      Volume  \\\n",
       "Date                                                                         \n",
       "2010-03-02  1118.310059  1123.459961  1116.510010  1117.010010  4134680000   \n",
       "2010-03-03  1118.790039  1125.640015  1116.579956  1119.359985  3951320000   \n",
       "2010-03-04  1122.969971  1123.729980  1116.660034  1119.119995  3945010000   \n",
       "2010-03-05  1138.699951  1139.380005  1125.119995  1125.119995  4133000000   \n",
       "2010-03-08  1138.500000  1141.050049  1136.770020  1138.400024  3774680000   \n",
       "\n",
       "Price         Return     Tomorrow  Stocks_Direction  \n",
       "Date                                                 \n",
       "2010-03-02  0.000000  1118.790039                 0  \n",
       "2010-03-03  0.000429  1122.969971                 1  \n",
       "2010-03-04  0.003736  1138.699951                 1  \n",
       "2010-03-05  0.014007  1138.500000                 1  \n",
       "2010-03-08 -0.000176  1140.449951                 0  "
      ]
     },
     "execution_count": 27,
     "metadata": {},
     "output_type": "execute_result"
    }
   ],
   "source": [
    "gspc_data.head()"
   ]
  },
  {
   "cell_type": "markdown",
   "id": "44f3768e-fa29-4c67-8a33-3c8f82f9227f",
   "metadata": {
    "id": "44f3768e-fa29-4c67-8a33-3c8f82f9227f"
   },
   "source": [
    "Data Preparation, Modelling & Evaluation:"
   ]
  },
  {
   "cell_type": "code",
   "execution_count": 29,
   "id": "21b21c25-af69-4e9c-b026-bb2acc448549",
   "metadata": {
    "colab": {
     "base_uri": "https://localhost:8080/"
    },
    "id": "21b21c25-af69-4e9c-b026-bb2acc448549",
    "outputId": "c2f8c9c4-709d-4c82-93e0-66023c559843"
   },
   "outputs": [],
   "source": [
    "#!pip install mlflow pandas numpy scikit-learn xgboost tensorflow statsmodels\n"
   ]
  },
  {
   "cell_type": "code",
   "execution_count": 30,
   "id": "1d4ECMHmL7up",
   "metadata": {
    "colab": {
     "base_uri": "https://localhost:8080/"
    },
    "id": "1d4ECMHmL7up",
    "outputId": "fa452511-078d-4872-c265-fab7fdf09f84"
   },
   "outputs": [],
   "source": [
    "#!pip install --upgrade scikit-learn xgboost\n"
   ]
  },
  {
   "cell_type": "code",
   "execution_count": 31,
   "id": "rvty3zg-NCGU",
   "metadata": {
    "colab": {
     "base_uri": "https://localhost:8080/"
    },
    "id": "rvty3zg-NCGU",
    "outputId": "3feb9da6-5922-4e0b-9fa6-6a6205b92439"
   },
   "outputs": [],
   "source": [
    "#import xgboost\n",
    "#print(xgboost.__version__)"
   ]
  },
  {
   "cell_type": "code",
   "execution_count": 32,
   "id": "c51139b7-d56f-4586-8185-d342b2d4cb19",
   "metadata": {
    "id": "c51139b7-d56f-4586-8185-d342b2d4cb19"
   },
   "outputs": [],
   "source": [
    "# Import necessary modules and the KFold class\n",
    "from sklearn.model_selection import train_test_split\n",
    "from sklearn.preprocessing import StandardScaler, MinMaxScaler\n",
    "from xgboost import XGBClassifier\n",
    "from sklearn.metrics import accuracy_score, classification_report\n",
    "from tensorflow.keras.models import Sequential\n",
    "from tensorflow.keras.layers import LSTM, Dense, Dropout\n",
    "import mlflow\n",
    "import mlflow.xgboost\n",
    "import mlflow.keras\n",
    "from sklearn.model_selection import KFold"
   ]
  },
  {
   "cell_type": "code",
   "execution_count": 33,
   "id": "k-beDkrgOjT_",
   "metadata": {
    "id": "k-beDkrgOjT_"
   },
   "outputs": [],
   "source": [
    "#grid_search = GridSearchCV(XGBClassifier(use_label_encoder=False, eval_metric=\"mlogloss\"),\n",
    "                           #param_grid, scoring='f1_weighted', cv=5)\n"
   ]
  },
  {
   "cell_type": "code",
   "execution_count": 34,
   "id": "83185a57-0992-4e71-b038-9c18fabe46a2",
   "metadata": {
    "id": "83185a57-0992-4e71-b038-9c18fabe46a2"
   },
   "outputs": [],
   "source": [
    "X = pg_data[[\"Close\", \"High\", \"Low\", \"Open\", \"Volume\", \"Return\"]]  # Features\n",
    "y = pg_data[\"Stocks_Direction\"]  # Target"
   ]
  },
  {
   "cell_type": "code",
   "execution_count": 35,
   "id": "0c26c6b0-fc6f-4d43-902f-7d7bfc83093f",
   "metadata": {
    "id": "0c26c6b0-fc6f-4d43-902f-7d7bfc83093f"
   },
   "outputs": [],
   "source": [
    "X_train, X_test, y_train, y_test = train_test_split(X, y, test_size=0.2, random_state=42)"
   ]
  },
  {
   "cell_type": "code",
   "execution_count": 36,
   "id": "01ceb740-93ef-4fc7-8378-803049288a1a",
   "metadata": {
    "id": "01ceb740-93ef-4fc7-8378-803049288a1a"
   },
   "outputs": [],
   "source": [
    "# Normalization\n",
    "scaler = StandardScaler()\n",
    "scaled_data = scaler.fit_transform(pg_data)"
   ]
  },
  {
   "cell_type": "code",
   "execution_count": 37,
   "id": "976f6b70-d883-4a11-9fbd-ebb933c97c17",
   "metadata": {
    "colab": {
     "base_uri": "https://localhost:8080/"
    },
    "id": "976f6b70-d883-4a11-9fbd-ebb933c97c17",
    "outputId": "a67f666d-f877-41c8-c331-a1ea9e6915a2"
   },
   "outputs": [
    {
     "name": "stdout",
     "output_type": "stream",
     "text": [
      "XGBoost Accuracy: 0.9929078014184397\n",
      "              precision    recall  f1-score   support\n",
      "\n",
      "           0       0.99      0.99      0.99       351\n",
      "           1       0.99      0.99      0.99       354\n",
      "\n",
      "    accuracy                           0.99       705\n",
      "   macro avg       0.99      0.99      0.99       705\n",
      "weighted avg       0.99      0.99      0.99       705\n",
      "\n"
     ]
    }
   ],
   "source": [
    "# Initialize and train the XGBoost model\n",
    "xgb_model = XGBClassifier(random_state=42)\n",
    "xgb_model.fit(X_train, y_train)\n",
    "\n",
    "# Make predictions\n",
    "xgb_predictions = xgb_model.predict(X_test)\n",
    "\n",
    "# Evaluate the model\n",
    "xgb_accuracy = accuracy_score(y_test, xgb_predictions)\n",
    "print(f\"XGBoost Accuracy: {xgb_accuracy}\")\n",
    "print(classification_report(y_test, xgb_predictions))"
   ]
  },
  {
   "cell_type": "code",
   "execution_count": 38,
   "id": "tpJvTDvWB4ax",
   "metadata": {
    "colab": {
     "base_uri": "https://localhost:8080/"
    },
    "id": "tpJvTDvWB4ax",
    "outputId": "688c518a-d6a2-461f-f453-f04ed23102fd"
   },
   "outputs": [
    {
     "name": "stdout",
     "output_type": "stream",
     "text": [
      "XGBoost Cross-Validation Scores: [0.9929078014184397, 0.9957386363636364, 0.9957386363636364, 0.9985795454545454, 0.9971590909090909]\n",
      "XGBoost Mean Accuracy: 0.9960247421018698\n",
      "XGBoost Accuracy Standard Deviation: 0.001881106036256779\n"
     ]
    }
   ],
   "source": [
    "# Initialize KFold for cross-validation\n",
    "kfold = KFold(n_splits=5, shuffle=True, random_state=42)  # You can adjust n_splits\n",
    "\n",
    "# Initialize lists to store cross-validation scores\n",
    "xgb_cv_scores = []\n",
    "\n",
    "# Perform cross-validation manually\n",
    "for train_index, test_index in kfold.split(X):\n",
    "    # Get data for current fold\n",
    "    X_train_fold, X_test_fold = X.iloc[train_index], X.iloc[test_index]\n",
    "    y_train_fold, y_test_fold = y.iloc[train_index], y.iloc[test_index]\n",
    "\n",
    "    # Initialize and train the XGBoost model for current fold\n",
    "    xgb_model_fold = XGBClassifier(random_state=42)\n",
    "    xgb_model_fold.fit(X_train_fold, y_train_fold)\n",
    "\n",
    "    # Make predictions\n",
    "    xgb_predictions_fold = xgb_model_fold.predict(X_test_fold)\n",
    "\n",
    "    # Evaluate the model for current fold\n",
    "    xgb_accuracy_fold = accuracy_score(y_test_fold, xgb_predictions_fold)\n",
    "    xgb_cv_scores.append(xgb_accuracy_fold)\n",
    "\n",
    "# Print the cross-validation scores\n",
    "print(\"XGBoost Cross-Validation Scores:\", xgb_cv_scores)\n",
    "print(\"XGBoost Mean Accuracy:\", np.mean(xgb_cv_scores))\n",
    "print(\"XGBoost Accuracy Standard Deviation:\", np.std(xgb_cv_scores))"
   ]
  },
  {
   "cell_type": "markdown",
   "id": "eE1kA61Bwmgy",
   "metadata": {
    "id": "eE1kA61Bwmgy"
   },
   "source": [
    "Interpretation\n",
    "\n",
    "High Performance: The high mean accuracy (0.996) indicates that the XGBoost model is performing exceptionally well on the data, achieving near-perfect accuracy in most folds.\n",
    "\n",
    "Consistency: The low standard deviation (0.00188) suggests that the model's performance is consistent and not overly sensitive to the specific data split used for training and evaluation.\n",
    "\n",
    "Generalization: These results provide strong evidence that the model is generalizing well to unseen data, as it maintains high accuracy across different folds."
   ]
  },
  {
   "cell_type": "code",
   "execution_count": 40,
   "id": "-0DhVXPpxrjk",
   "metadata": {
    "colab": {
     "base_uri": "https://localhost:8080/"
    },
    "id": "-0DhVXPpxrjk",
    "outputId": "1ff7567b-9737-41ca-9442-5d09486888f5"
   },
   "outputs": [
    {
     "name": "stdout",
     "output_type": "stream",
     "text": [
      "              precision    recall  f1-score   support\n",
      "\n",
      "           0       0.99      0.99      0.99       351\n",
      "           1       0.99      0.99      0.99       354\n",
      "\n",
      "    accuracy                           0.99       705\n",
      "   macro avg       0.99      0.99      0.99       705\n",
      "weighted avg       0.99      0.99      0.99       705\n",
      "\n"
     ]
    }
   ],
   "source": [
    "# Initialize XGBoost model with regularization, To prevent oveverfitting\n",
    "final_model = XGBClassifier(\n",
    "    reg_alpha=0.1,  # L1 regularization strength\n",
    "    reg_lambda=1.0,  # L2 regularization strength\n",
    "    # ... other hyperparameters ...\n",
    ")\n",
    "\n",
    "# Train the model\n",
    "final_model.fit(X_train, y_train)\n",
    "\n",
    "# Make predictions on the test data\n",
    "y_pred = final_model.predict(X_test)\n",
    "\n",
    "# Print the classification report\n",
    "print(classification_report(y_test, y_pred))"
   ]
  },
  {
   "cell_type": "code",
   "execution_count": 41,
   "id": "zxxXfyT9ilRk",
   "metadata": {
    "colab": {
     "base_uri": "https://localhost:8080/"
    },
    "id": "zxxXfyT9ilRk",
    "outputId": "66b1f3e9-33a2-4b5c-ba8e-2d05fadc8632"
   },
   "outputs": [
    {
     "name": "stdout",
     "output_type": "stream",
     "text": [
      "Test Accuracy: 0.9929078014184397\n",
      "              precision    recall  f1-score   support\n",
      "\n",
      "           0       0.99      0.99      0.99       351\n",
      "           1       0.99      0.99      0.99       354\n",
      "\n",
      "    accuracy                           0.99       705\n",
      "   macro avg       0.99      0.99      0.99       705\n",
      "weighted avg       0.99      0.99      0.99       705\n",
      "\n"
     ]
    }
   ],
   "source": [
    "y_pred = final_model.predict(X_test)\n",
    "accuracy = accuracy_score(y_test, y_pred)\n",
    "print(f\"Test Accuracy: {accuracy}\")\n",
    "print(classification_report(y_test, y_pred))"
   ]
  },
  {
   "cell_type": "code",
   "execution_count": 42,
   "id": "7JcDn3Q3pbmn",
   "metadata": {
    "colab": {
     "base_uri": "https://localhost:8080/"
    },
    "id": "7JcDn3Q3pbmn",
    "outputId": "6f34dfc1-6ed7-451e-cc45-be2f86e5a670"
   },
   "outputs": [
    {
     "name": "stdout",
     "output_type": "stream",
     "text": [
      "Training Accuracy: 0.9996448863636364\n"
     ]
    }
   ],
   "source": [
    "# Calculate the traning accuracy\n",
    "y_train_pred = final_model.predict(X_train)\n",
    "training_accuracy = accuracy_score(y_train, y_train_pred)\n",
    "print(f\"Training Accuracy: {training_accuracy}\")"
   ]
  },
  {
   "cell_type": "code",
   "execution_count": 43,
   "id": "a29e1fbc-22f5-43fb-869b-9efae2c402b9",
   "metadata": {
    "colab": {
     "base_uri": "https://localhost:8080/"
    },
    "id": "a29e1fbc-22f5-43fb-869b-9efae2c402b9",
    "outputId": "ce5d60cc-f76c-49d4-e750-ef1851f6146c"
   },
   "outputs": [
    {
     "name": "stderr",
     "output_type": "stream",
     "text": [
      "C:\\Users\\HP\\anaconda3\\New folder\\ANACONDA3\\Lib\\site-packages\\keras\\src\\layers\\rnn\\rnn.py:200: UserWarning: Do not pass an `input_shape`/`input_dim` argument to a layer. When using Sequential models, prefer using an `Input(shape)` object as the first layer in the model instead.\n",
      "  super().__init__(**kwargs)\n"
     ]
    },
    {
     "name": "stdout",
     "output_type": "stream",
     "text": [
      "Epoch 1/20\n",
      "\u001b[1m88/88\u001b[0m \u001b[32m━━━━━━━━━━━━━━━━━━━━\u001b[0m\u001b[37m\u001b[0m \u001b[1m7s\u001b[0m 17ms/step - accuracy: 0.5325 - loss: 0.6919 - val_accuracy: 0.5021 - val_loss: 0.6922\n",
      "Epoch 2/20\n",
      "\u001b[1m88/88\u001b[0m \u001b[32m━━━━━━━━━━━━━━━━━━━━\u001b[0m\u001b[37m\u001b[0m \u001b[1m1s\u001b[0m 7ms/step - accuracy: 0.5333 - loss: 0.6868 - val_accuracy: 0.5035 - val_loss: 0.6877\n",
      "Epoch 3/20\n",
      "\u001b[1m88/88\u001b[0m \u001b[32m━━━━━━━━━━━━━━━━━━━━\u001b[0m\u001b[37m\u001b[0m \u001b[1m1s\u001b[0m 8ms/step - accuracy: 0.5486 - loss: 0.6763 - val_accuracy: 0.5234 - val_loss: 0.6643\n",
      "Epoch 4/20\n",
      "\u001b[1m88/88\u001b[0m \u001b[32m━━━━━━━━━━━━━━━━━━━━\u001b[0m\u001b[37m\u001b[0m \u001b[1m1s\u001b[0m 7ms/step - accuracy: 0.6087 - loss: 0.6358 - val_accuracy: 0.7801 - val_loss: 0.5600\n",
      "Epoch 5/20\n",
      "\u001b[1m88/88\u001b[0m \u001b[32m━━━━━━━━━━━━━━━━━━━━\u001b[0m\u001b[37m\u001b[0m \u001b[1m1s\u001b[0m 7ms/step - accuracy: 0.7455 - loss: 0.5396 - val_accuracy: 0.9092 - val_loss: 0.4144\n",
      "Epoch 6/20\n",
      "\u001b[1m88/88\u001b[0m \u001b[32m━━━━━━━━━━━━━━━━━━━━\u001b[0m\u001b[37m\u001b[0m \u001b[1m1s\u001b[0m 7ms/step - accuracy: 0.8606 - loss: 0.3887 - val_accuracy: 0.9191 - val_loss: 0.3020\n",
      "Epoch 7/20\n",
      "\u001b[1m88/88\u001b[0m \u001b[32m━━━━━━━━━━━━━━━━━━━━\u001b[0m\u001b[37m\u001b[0m \u001b[1m1s\u001b[0m 8ms/step - accuracy: 0.8944 - loss: 0.3002 - val_accuracy: 0.9872 - val_loss: 0.2308\n",
      "Epoch 8/20\n",
      "\u001b[1m88/88\u001b[0m \u001b[32m━━━━━━━━━━━━━━━━━━━━\u001b[0m\u001b[37m\u001b[0m \u001b[1m1s\u001b[0m 7ms/step - accuracy: 0.9276 - loss: 0.2437 - val_accuracy: 0.9461 - val_loss: 0.2087\n",
      "Epoch 9/20\n",
      "\u001b[1m88/88\u001b[0m \u001b[32m━━━━━━━━━━━━━━━━━━━━\u001b[0m\u001b[37m\u001b[0m \u001b[1m1s\u001b[0m 7ms/step - accuracy: 0.9277 - loss: 0.2035 - val_accuracy: 0.9234 - val_loss: 0.1931\n",
      "Epoch 10/20\n",
      "\u001b[1m88/88\u001b[0m \u001b[32m━━━━━━━━━━━━━━━━━━━━\u001b[0m\u001b[37m\u001b[0m \u001b[1m1s\u001b[0m 7ms/step - accuracy: 0.9385 - loss: 0.1799 - val_accuracy: 0.9915 - val_loss: 0.1427\n",
      "Epoch 11/20\n",
      "\u001b[1m88/88\u001b[0m \u001b[32m━━━━━━━━━━━━━━━━━━━━\u001b[0m\u001b[37m\u001b[0m \u001b[1m1s\u001b[0m 7ms/step - accuracy: 0.9486 - loss: 0.1565 - val_accuracy: 0.9816 - val_loss: 0.1305\n",
      "Epoch 12/20\n",
      "\u001b[1m88/88\u001b[0m \u001b[32m━━━━━━━━━━━━━━━━━━━━\u001b[0m\u001b[37m\u001b[0m \u001b[1m1s\u001b[0m 7ms/step - accuracy: 0.9597 - loss: 0.1281 - val_accuracy: 0.9447 - val_loss: 0.1319\n",
      "Epoch 13/20\n",
      "\u001b[1m88/88\u001b[0m \u001b[32m━━━━━━━━━━━━━━━━━━━━\u001b[0m\u001b[37m\u001b[0m \u001b[1m1s\u001b[0m 7ms/step - accuracy: 0.9507 - loss: 0.1350 - val_accuracy: 0.9504 - val_loss: 0.1432\n",
      "Epoch 14/20\n",
      "\u001b[1m88/88\u001b[0m \u001b[32m━━━━━━━━━━━━━━━━━━━━\u001b[0m\u001b[37m\u001b[0m \u001b[1m1s\u001b[0m 8ms/step - accuracy: 0.9521 - loss: 0.1288 - val_accuracy: 0.9560 - val_loss: 0.1130\n",
      "Epoch 15/20\n",
      "\u001b[1m88/88\u001b[0m \u001b[32m━━━━━━━━━━━━━━━━━━━━\u001b[0m\u001b[37m\u001b[0m \u001b[1m0s\u001b[0m 4ms/step - accuracy: 0.9558 - loss: 0.1168 - val_accuracy: 0.9475 - val_loss: 0.1262\n",
      "Epoch 16/20\n",
      "\u001b[1m88/88\u001b[0m \u001b[32m━━━━━━━━━━━━━━━━━━━━\u001b[0m\u001b[37m\u001b[0m \u001b[1m1s\u001b[0m 7ms/step - accuracy: 0.9651 - loss: 0.1048 - val_accuracy: 0.9858 - val_loss: 0.0883\n",
      "Epoch 17/20\n",
      "\u001b[1m88/88\u001b[0m \u001b[32m━━━━━━━━━━━━━━━━━━━━\u001b[0m\u001b[37m\u001b[0m \u001b[1m1s\u001b[0m 7ms/step - accuracy: 0.9611 - loss: 0.1010 - val_accuracy: 0.9730 - val_loss: 0.0984\n",
      "Epoch 18/20\n",
      "\u001b[1m88/88\u001b[0m \u001b[32m━━━━━━━━━━━━━━━━━━━━\u001b[0m\u001b[37m\u001b[0m \u001b[1m1s\u001b[0m 7ms/step - accuracy: 0.9672 - loss: 0.1002 - val_accuracy: 0.9816 - val_loss: 0.0816\n",
      "Epoch 19/20\n",
      "\u001b[1m88/88\u001b[0m \u001b[32m━━━━━━━━━━━━━━━━━━━━\u001b[0m\u001b[37m\u001b[0m \u001b[1m1s\u001b[0m 7ms/step - accuracy: 0.9706 - loss: 0.0891 - val_accuracy: 0.9957 - val_loss: 0.0733\n",
      "Epoch 20/20\n",
      "\u001b[1m88/88\u001b[0m \u001b[32m━━━━━━━━━━━━━━━━━━━━\u001b[0m\u001b[37m\u001b[0m \u001b[1m1s\u001b[0m 7ms/step - accuracy: 0.9612 - loss: 0.0962 - val_accuracy: 0.9816 - val_loss: 0.0751\n",
      "\u001b[1m23/23\u001b[0m \u001b[32m━━━━━━━━━━━━━━━━━━━━\u001b[0m\u001b[37m\u001b[0m \u001b[1m1s\u001b[0m 31ms/step\n",
      "LSTM Accuracy: 0.9815602836879432\n",
      "              precision    recall  f1-score   support\n",
      "\n",
      "           0       0.97      0.99      0.98       351\n",
      "           1       0.99      0.97      0.98       354\n",
      "\n",
      "    accuracy                           0.98       705\n",
      "   macro avg       0.98      0.98      0.98       705\n",
      "weighted avg       0.98      0.98      0.98       705\n",
      "\n"
     ]
    }
   ],
   "source": [
    "# Scale data for LSTM\n",
    "scaler =  MinMaxScaler()\n",
    "X_train_scaled = scaler.fit_transform(X_train)\n",
    "X_test_scaled = scaler.transform(X_test)\n",
    "\n",
    "# Reshape data for LSTM (samples, timesteps, features)\n",
    "X_train_reshaped = X_train_scaled.reshape(X_train_scaled.shape[0], 1, X_train_scaled.shape[1])\n",
    "X_test_reshaped = X_test_scaled.reshape(X_test_scaled.shape[0], 1, X_test_scaled.shape[1])\n",
    "\n",
    "# Build the LSTM model\n",
    "lstm_model = Sequential([\n",
    "    LSTM(50, return_sequences=True, input_shape=(X_train_reshaped.shape[1], X_train_reshaped.shape[2])),\n",
    "    Dropout(0.2),\n",
    "    LSTM(50),\n",
    "    Dropout(0.2),\n",
    "    Dense(1, activation='sigmoid')\n",
    "])\n",
    "\n",
    "# Compile the model\n",
    "lstm_model.compile(loss='binary_crossentropy', optimizer='adam', metrics=['accuracy'])\n",
    "\n",
    "# Train the model\n",
    "lstm_model.fit(X_train_reshaped, y_train, epochs=20, batch_size=32, validation_data=(X_test_reshaped, y_test), verbose=1)\n",
    "\n",
    "# Make predictions\n",
    "lstm_predictions = (lstm_model.predict(X_test_reshaped) > 0.5).astype(int)\n",
    "\n",
    "# Evaluate the model\n",
    "lstm_accuracy = accuracy_score(y_test, lstm_predictions)\n",
    "print(f\"LSTM Accuracy: {lstm_accuracy}\")\n",
    "print(classification_report(y_test, lstm_predictions))"
   ]
  },
  {
   "cell_type": "code",
   "execution_count": 44,
   "id": "wb1Cv0bTUmlQ",
   "metadata": {
    "colab": {
     "base_uri": "https://localhost:8080/"
    },
    "id": "wb1Cv0bTUmlQ",
    "outputId": "581e6829-eae6-4d52-e37c-6278e6a9fe4c"
   },
   "outputs": [
    {
     "name": "stdout",
     "output_type": "stream",
     "text": [
      "\u001b[1m23/23\u001b[0m \u001b[32m━━━━━━━━━━━━━━━━━━━━\u001b[0m\u001b[37m\u001b[0m \u001b[1m0s\u001b[0m 4ms/step \n",
      "\u001b[1m22/22\u001b[0m \u001b[32m━━━━━━━━━━━━━━━━━━━━\u001b[0m\u001b[37m\u001b[0m \u001b[1m0s\u001b[0m 3ms/step \n",
      "\u001b[1m22/22\u001b[0m \u001b[32m━━━━━━━━━━━━━━━━━━━━\u001b[0m\u001b[37m\u001b[0m \u001b[1m0s\u001b[0m 5ms/step\n",
      "\u001b[1m22/22\u001b[0m \u001b[32m━━━━━━━━━━━━━━━━━━━━\u001b[0m\u001b[37m\u001b[0m \u001b[1m0s\u001b[0m 4ms/step\n",
      "\u001b[1m22/22\u001b[0m \u001b[32m━━━━━━━━━━━━━━━━━━━━\u001b[0m\u001b[37m\u001b[0m \u001b[1m0s\u001b[0m 4ms/step \n",
      "LSTM Cross-Validation Scores: [0.975886524822695, 0.9758522727272727, 0.9829545454545454, 0.9857954545454546, 0.9900568181818182]\n",
      "LSTM Mean Accuracy: 0.9821091231463571\n",
      "LSTM Accuracy Standard Deviation: 0.005573841431262409\n"
     ]
    }
   ],
   "source": [
    "from sklearn.metrics import accuracy_score\n",
    "from sklearn.model_selection import KFold # Make sure this import is present\n",
    "\n",
    "# Initialize KFold for cross-validation\n",
    "kfold = KFold(n_splits=5, shuffle=True, random_state=42)  # Create an instance of KFold\n",
    "\n",
    "# Initialize lists to store cross-validation scores\n",
    "lstm_cv_scores = []\n",
    "\n",
    "# Perform cross-validation\n",
    "for train_index, test_index in kfold.split(X): # Now kfold is defined\n",
    "    # Get data for current fold\n",
    "    X_train_fold, X_test_fold = X.iloc[train_index], X.iloc[test_index]\n",
    "    y_train_fold, y_test_fold = y.iloc[train_index], y.iloc[test_index]\n",
    "\n",
    "    # Scale data for LSTM\n",
    "    X_train_fold_scaled = scaler.fit_transform(X_train_fold)\n",
    "    X_test_fold_scaled = scaler.transform(X_test_fold)\n",
    "\n",
    "    # Reshape data for LSTM\n",
    "    X_train_fold_reshaped = X_train_fold_scaled.reshape(X_train_fold_scaled.shape[0], 1, X_train_fold_scaled.shape[1])\n",
    "    X_test_fold_reshaped = X_test_fold_scaled.reshape(X_test_fold_scaled.shape[0], 1, X_test_fold_scaled.shape[1])\n",
    "\n",
    "    # Train the model\n",
    "    lstm_model.fit(X_train_fold_reshaped, y_train_fold, epochs=20, batch_size=32, verbose=0)  # Suppress verbose output\n",
    "\n",
    "    # Make predictions\n",
    "    lstm_predictions_fold = (lstm_model.predict(X_test_fold_reshaped) > 0.5).astype(int)\n",
    "\n",
    "    # Calculate accuracy for current fold\n",
    "    accuracy_fold = accuracy_score(y_test_fold, lstm_predictions_fold)\n",
    "\n",
    "    # Store the accuracy\n",
    "    lstm_cv_scores.append(accuracy_fold)\n",
    "\n",
    "# Print the cross-validation scores\n",
    "print(\"LSTM Cross-Validation Scores:\", lstm_cv_scores)\n",
    "print(\"LSTM Mean Accuracy:\", np.mean(lstm_cv_scores))\n",
    "print(\"LSTM Accuracy Standard Deviation:\", np.std(lstm_cv_scores))"
   ]
  },
  {
   "cell_type": "code",
   "execution_count": null,
   "id": "xpZHFQGHdov9",
   "metadata": {
    "colab": {
     "base_uri": "https://localhost:8080/"
    },
    "id": "xpZHFQGHdov9",
    "outputId": "76b03e75-e42c-4409-ae71-f65b0822c471"
   },
   "outputs": [],
   "source": [
    "import mlflow\n",
    "import mlflow.xgboost\n",
    "import mlflow.keras\n",
    "\n",
    "# Start an MLflow run\n",
    "with mlflow.start_run():\n",
    "    # ... (Your XGBoost model training code) ...\n",
    "    mlflow.xgboost.log_model(xgb_model, \"xgboost-model\")\n",
    "\n",
    "    # ... (Your LSTM model training code) ...\n",
    "    mlflow.keras.log_model(lstm_model, \"lstm-model\")\n",
    "\n",
    "    # Log parameters and metrics\n",
    "    mlflow.log_param(\"xgboost_learning_rate\", 0.1)\n",
    "    mlflow.log_metric(\"xgboost_accuracy\", xgb_accuracy)\n",
    "    mlflow.log_param(\"lstm_epochs\", 20)\n",
    "    mlflow.log_metric(\"lstm_accuracy\", lstm_accuracy)"
   ]
  },
  {
   "cell_type": "code",
   "execution_count": 45,
   "id": "rWdAhpI8O71M",
   "metadata": {
    "colab": {
     "base_uri": "https://localhost:8080/"
    },
    "id": "rWdAhpI8O71M",
    "outputId": "868b1df8-8b3c-4b94-c4af-77f0fc31c75a"
   },
   "outputs": [
    {
     "name": "stdout",
     "output_type": "stream",
     "text": [
      "          Date  Stocks_Direction\n",
      "0   2024-02-06                 1\n",
      "1   2024-02-07                 1\n",
      "2   2024-02-08                 0\n",
      "3   2024-02-09                 0\n",
      "4   2024-02-12                 0\n",
      "5   2024-02-13                 0\n",
      "6   2024-02-14                 0\n",
      "7   2024-02-15                 1\n",
      "8   2024-02-16                 1\n",
      "9   2024-02-20                 1\n",
      "10  2024-02-21                 1\n",
      "11  2024-02-22                 1\n",
      "12  2024-02-23                 1\n",
      "13  2024-02-26                 0\n"
     ]
    }
   ],
   "source": [
    "# Prepare the data for the forecast by Select the last 14 days of data for prediction\n",
    "last_14_days_data = pg_data.tail(14)\n",
    "\n",
    "# Select the features for prediction\n",
    "forecast_features = last_14_days_data[[\"Close\", \"High\", \"Low\", \"Open\", \"Volume\", \"Return\"]]\n",
    "\n",
    "# Re-initialize and fit the XGBoost model if necessary\n",
    "# (or make sure you are using the original fitted xgb_model)\n",
    "X = pg_data[[\"Close\", \"High\", \"Low\", \"Open\", \"Volume\", \"Return\"]]  # Features\n",
    "y = pg_data[\"Stocks_Direction\"]  # Target\n",
    "X_train, X_test, y_train, y_test = train_test_split(X, y, test_size=0.2, random_state=42) # Split data\n",
    "\n",
    "# Initialize and train the XGBoost model (or load the pre-trained model)\n",
    "xgb_model = XGBClassifier(random_state=42) # Re-initialize if needed\n",
    "xgb_model.fit(X_train, y_train) # Re-train if needed\n",
    "\n",
    "# Use the same scaler as before (StandardScaler for XGBoost)\n",
    "scaler = StandardScaler()\n",
    "scaler.fit(X_train) # Fit the scaler to your training data\n",
    "\n",
    "# Scale the features using the fitted scaler\n",
    "forecast_features_scaled = scaler.transform(forecast_features)\n",
    "\n",
    "# Make predictions for the next 14 days\n",
    "forecast_predictions = xgb_model.predict(forecast_features_scaled)\n",
    "\n",
    "# Create a DataFrame for the forecast results\n",
    "forecast_df = pd.DataFrame({'Date': last_14_days_data.index, 'Stocks_Direction': forecast_predictions})\n",
    "\n",
    "# Print the forecast\n",
    "print(forecast_df)"
   ]
  },
  {
   "cell_type": "code",
   "execution_count": null,
   "id": "mCs_xFRqd9Lh",
   "metadata": {
    "colab": {
     "base_uri": "https://localhost:8080/"
    },
    "id": "mCs_xFRqd9Lh",
    "outputId": "148ccabb-b76a-42a3-87aa-44dcbe4007df"
   },
   "outputs": [],
   "source": [
    "mlflow ui"
   ]
  },
  {
   "cell_type": "code",
   "execution_count": null,
   "id": "-iDY8ulQG36n",
   "metadata": {
    "colab": {
     "base_uri": "https://localhost:8080/",
     "height": 375
    },
    "id": "-iDY8ulQG36n",
    "outputId": "a8075c4e-a3a9-41d1-94d6-14ea240fe992"
   },
   "outputs": [],
   "source": [
    "# Plot the learning curves, To compare the train score and cross-validation score\n",
    "from sklearn.model_selection import learning_curve\n",
    "\n",
    "# Initialize and train the final model (if not already done)\n",
    "final_model = XGBClassifier(random_state=42)  # Or use your desired hyperparameters\n",
    "final_model.fit(X_train, y_train)\n",
    "\n",
    "train_sizes, train_scores, test_scores = learning_curve(\n",
    "    final_model, X, y, cv=5, scoring='accuracy',\n",
    "    train_sizes=np.linspace(0.1, 1.0, 10)\n",
    ")\n",
    "\n",
    "plt.figure()\n",
    "plt.title(\"Learning Curves (XGBoost)\")\n",
    "plt.xlabel(\"Training examples\")\n",
    "plt.ylabel(\"Score\")\n",
    "\n",
    "train_scores_mean = np.mean(train_scores, axis=1)\n",
    "train_scores_std = np.std(train_scores, axis=1)\n",
    "test_scores_mean = np.mean(test_scores, axis=1)\n",
    "test_scores_std = np.std(test_scores, axis=1)\n",
    "\n",
    "plt.grid()\n",
    "plt.fill_between(train_sizes, train_scores_mean - train_scores_std,\n",
    "                 train_scores_mean + train_scores_std, alpha=0.1,\n",
    "                 color=\"r\")\n",
    "plt.fill_between(train_sizes, test_scores_mean - test_scores_std,\n",
    "                 test_scores_mean + test_scores_std, alpha=0.1, color=\"g\")\n",
    "plt.plot(train_sizes, train_scores_mean, 'o-', color=\"r\",\n",
    "         label=\"Training score\")\n",
    "plt.plot(train_sizes, test_scores_mean, 'o-', color=\"g\",\n",
    "         label=\"Cross-validation score\")\n",
    "\n",
    "plt.legend(loc=\"best\")\n",
    "plt.show()"
   ]
  },
  {
   "cell_type": "code",
   "execution_count": null,
   "id": "giwS4-j2xs9o",
   "metadata": {
    "id": "giwS4-j2xs9o"
   },
   "outputs": [],
   "source": []
  }
 ],
 "metadata": {
  "colab": {
   "provenance": []
  },
  "kernelspec": {
   "display_name": "Python 3 (ipykernel)",
   "language": "python",
   "name": "python3"
  },
  "language_info": {
   "codemirror_mode": {
    "name": "ipython",
    "version": 3
   },
   "file_extension": ".py",
   "mimetype": "text/x-python",
   "name": "python",
   "nbconvert_exporter": "python",
   "pygments_lexer": "ipython3",
   "version": "3.12.7"
  }
 },
 "nbformat": 4,
 "nbformat_minor": 5
}
