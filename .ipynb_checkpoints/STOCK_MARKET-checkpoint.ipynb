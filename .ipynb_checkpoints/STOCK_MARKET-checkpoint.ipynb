{
 "cells": [
  {
   "cell_type": "code",
   "execution_count": 172,
   "id": "ca5ee506-3702-4256-b1f2-d330086a37c7",
   "metadata": {},
   "outputs": [
    {
     "name": "stdout",
     "output_type": "stream",
     "text": [
      "Requirement already satisfied: yfinance in c:\\users\\hp\\anaconda3\\new folder\\anaconda3\\lib\\site-packages (0.2.52)\n",
      "Requirement already satisfied: pandas>=1.3.0 in c:\\users\\hp\\anaconda3\\new folder\\anaconda3\\lib\\site-packages (from yfinance) (2.2.2)\n",
      "Requirement already satisfied: numpy>=1.16.5 in c:\\users\\hp\\anaconda3\\new folder\\anaconda3\\lib\\site-packages (from yfinance) (1.26.4)\n",
      "Requirement already satisfied: requests>=2.31 in c:\\users\\hp\\anaconda3\\new folder\\anaconda3\\lib\\site-packages (from yfinance) (2.32.3)\n",
      "Requirement already satisfied: multitasking>=0.0.7 in c:\\users\\hp\\anaconda3\\new folder\\anaconda3\\lib\\site-packages (from yfinance) (0.0.11)\n",
      "Requirement already satisfied: lxml>=4.9.1 in c:\\users\\hp\\anaconda3\\new folder\\anaconda3\\lib\\site-packages (from yfinance) (5.2.1)\n",
      "Requirement already satisfied: platformdirs>=2.0.0 in c:\\users\\hp\\anaconda3\\new folder\\anaconda3\\lib\\site-packages (from yfinance) (3.10.0)\n",
      "Requirement already satisfied: pytz>=2022.5 in c:\\users\\hp\\anaconda3\\new folder\\anaconda3\\lib\\site-packages (from yfinance) (2024.1)\n",
      "Requirement already satisfied: frozendict>=2.3.4 in c:\\users\\hp\\anaconda3\\new folder\\anaconda3\\lib\\site-packages (from yfinance) (2.4.2)\n",
      "Requirement already satisfied: peewee>=3.16.2 in c:\\users\\hp\\anaconda3\\new folder\\anaconda3\\lib\\site-packages (from yfinance) (3.17.8)\n",
      "Requirement already satisfied: beautifulsoup4>=4.11.1 in c:\\users\\hp\\anaconda3\\new folder\\anaconda3\\lib\\site-packages (from yfinance) (4.12.3)\n",
      "Requirement already satisfied: html5lib>=1.1 in c:\\users\\hp\\anaconda3\\new folder\\anaconda3\\lib\\site-packages (from yfinance) (1.1)\n",
      "Requirement already satisfied: soupsieve>1.2 in c:\\users\\hp\\anaconda3\\new folder\\anaconda3\\lib\\site-packages (from beautifulsoup4>=4.11.1->yfinance) (2.5)\n",
      "Requirement already satisfied: six>=1.9 in c:\\users\\hp\\anaconda3\\new folder\\anaconda3\\lib\\site-packages (from html5lib>=1.1->yfinance) (1.16.0)\n",
      "Requirement already satisfied: webencodings in c:\\users\\hp\\anaconda3\\new folder\\anaconda3\\lib\\site-packages (from html5lib>=1.1->yfinance) (0.5.1)\n",
      "Requirement already satisfied: python-dateutil>=2.8.2 in c:\\users\\hp\\anaconda3\\new folder\\anaconda3\\lib\\site-packages (from pandas>=1.3.0->yfinance) (2.9.0.post0)\n",
      "Requirement already satisfied: tzdata>=2022.7 in c:\\users\\hp\\anaconda3\\new folder\\anaconda3\\lib\\site-packages (from pandas>=1.3.0->yfinance) (2023.3)\n",
      "Requirement already satisfied: charset-normalizer<4,>=2 in c:\\users\\hp\\anaconda3\\new folder\\anaconda3\\lib\\site-packages (from requests>=2.31->yfinance) (3.3.2)\n",
      "Requirement already satisfied: idna<4,>=2.5 in c:\\users\\hp\\anaconda3\\new folder\\anaconda3\\lib\\site-packages (from requests>=2.31->yfinance) (3.7)\n",
      "Requirement already satisfied: urllib3<3,>=1.21.1 in c:\\users\\hp\\anaconda3\\new folder\\anaconda3\\lib\\site-packages (from requests>=2.31->yfinance) (2.2.3)\n",
      "Requirement already satisfied: certifi>=2017.4.17 in c:\\users\\hp\\anaconda3\\new folder\\anaconda3\\lib\\site-packages (from requests>=2.31->yfinance) (2024.8.30)\n"
     ]
    }
   ],
   "source": [
    "!pip install yfinance"
   ]
  },
  {
   "cell_type": "code",
   "execution_count": 173,
   "id": "3349317d-8af8-4f75-8319-f3e012fc3608",
   "metadata": {},
   "outputs": [],
   "source": [
    "import yfinance as yf\n",
    "import pandas as pd\n",
    "import numpy as np\n",
    "import matplotlib.pyplot as plt\n",
    "import plotly.express as px\n",
    "import plotly.graph_objects as go\n",
    "import datetime\n",
    "import seaborn as sns\n",
    "sns.set_style('whitegrid')\n",
    "from plotly.subplots import make_subplots"
   ]
  },
  {
   "cell_type": "code",
   "execution_count": 174,
   "id": "aa053598-5163-4bba-8d95-ec51ea52cc69",
   "metadata": {},
   "outputs": [
    {
     "data": {
      "text/plain": [
       "'0.2.52'"
      ]
     },
     "execution_count": 174,
     "metadata": {},
     "output_type": "execute_result"
    }
   ],
   "source": [
    "yf.__version__"
   ]
  },
  {
   "cell_type": "code",
   "execution_count": 175,
   "id": "94aee67d-deff-43f2-8354-5a14e401193b",
   "metadata": {},
   "outputs": [
    {
     "name": "stderr",
     "output_type": "stream",
     "text": [
      "[*********************100%***********************]  1 of 1 completed"
     ]
    },
    {
     "name": "stdout",
     "output_type": "stream",
     "text": [
      "Downloaded PG\n"
     ]
    },
    {
     "name": "stderr",
     "output_type": "stream",
     "text": [
      "\n",
      "[*********************100%***********************]  1 of 1 completed\n",
      "[*********************100%***********************]  1 of 1 completed\n"
     ]
    },
    {
     "name": "stdout",
     "output_type": "stream",
     "text": [
      "Downloaded JNJ\n",
      "Downloaded ^GSPC\n"
     ]
    }
   ],
   "source": [
    "# Define stock tickers and date range\n",
    "tickers = ['PG', 'JNJ',\n",
    "           '^GSPC']\n",
    "start_date = '2010-03-02'\n",
    "end_date = '2024-02-28'\n",
    "\n",
    "# Fetch data\n",
    "stock_data = {}\n",
    "for ticker in tickers:\n",
    "    stock_data[ticker] = yf.download(ticker, start=start_date, end=end_date)\n",
    "    print(f\"Downloaded {ticker}\")\n",
    "\n",
    "# Save individual CSVs (optional)\n",
    "for ticker, data in stock_data.items():\n",
    "   data.to_csv(f\"{ticker}_data.csv\")"
   ]
  },
  {
   "cell_type": "code",
   "execution_count": 176,
   "id": "2d080c90-8bf7-42d8-a545-390097420556",
   "metadata": {},
   "outputs": [],
   "source": [
    "# Convert 'Date' column to datetime objects with UTC timezone and extract the date\n",
    "for ticker, data in stock_data.items():\n",
    "    # The index is already a DatetimeIndex, so we can access the date directly\n",
    "    data['Date'] = data.index.date\n",
    "    stock_data[ticker] = data.set_index('Date')  # Set 'Date' as index for each stock DataFrame"
   ]
  },
  {
   "cell_type": "code",
   "execution_count": 177,
   "id": "68b0ab8c-a37c-4a1b-a5f6-577ce7259727",
   "metadata": {},
   "outputs": [
    {
     "data": {
      "text/html": [
       "<div>\n",
       "<style scoped>\n",
       "    .dataframe tbody tr th:only-of-type {\n",
       "        vertical-align: middle;\n",
       "    }\n",
       "\n",
       "    .dataframe tbody tr th {\n",
       "        vertical-align: top;\n",
       "    }\n",
       "\n",
       "    .dataframe thead th {\n",
       "        text-align: right;\n",
       "    }\n",
       "</style>\n",
       "<table border=\"1\" class=\"dataframe\">\n",
       "  <thead>\n",
       "    <tr style=\"text-align: right;\">\n",
       "      <th>Price</th>\n",
       "      <th>Close</th>\n",
       "      <th>High</th>\n",
       "      <th>Low</th>\n",
       "      <th>Open</th>\n",
       "      <th>Volume</th>\n",
       "    </tr>\n",
       "    <tr>\n",
       "      <th>Date</th>\n",
       "      <th></th>\n",
       "      <th></th>\n",
       "      <th></th>\n",
       "      <th></th>\n",
       "      <th></th>\n",
       "    </tr>\n",
       "  </thead>\n",
       "  <tbody>\n",
       "    <tr>\n",
       "      <th>2010-03-02</th>\n",
       "      <td>41.147190</td>\n",
       "      <td>41.250526</td>\n",
       "      <td>40.908226</td>\n",
       "      <td>41.153650</td>\n",
       "      <td>8004000</td>\n",
       "    </tr>\n",
       "    <tr>\n",
       "      <th>2010-03-03</th>\n",
       "      <td>41.043861</td>\n",
       "      <td>41.269911</td>\n",
       "      <td>40.966360</td>\n",
       "      <td>41.114905</td>\n",
       "      <td>8608300</td>\n",
       "    </tr>\n",
       "    <tr>\n",
       "      <th>2010-03-04</th>\n",
       "      <td>41.121361</td>\n",
       "      <td>41.431372</td>\n",
       "      <td>40.953440</td>\n",
       "      <td>41.108446</td>\n",
       "      <td>8600300</td>\n",
       "    </tr>\n",
       "    <tr>\n",
       "      <th>2010-03-05</th>\n",
       "      <td>41.134266</td>\n",
       "      <td>41.192393</td>\n",
       "      <td>40.720921</td>\n",
       "      <td>41.134266</td>\n",
       "      <td>10101100</td>\n",
       "    </tr>\n",
       "    <tr>\n",
       "      <th>2010-03-08</th>\n",
       "      <td>40.811359</td>\n",
       "      <td>41.121368</td>\n",
       "      <td>40.708023</td>\n",
       "      <td>41.043866</td>\n",
       "      <td>11293300</td>\n",
       "    </tr>\n",
       "  </tbody>\n",
       "</table>\n",
       "</div>"
      ],
      "text/plain": [
       "Price           Close       High        Low       Open    Volume\n",
       "Date                                                            \n",
       "2010-03-02  41.147190  41.250526  40.908226  41.153650   8004000\n",
       "2010-03-03  41.043861  41.269911  40.966360  41.114905   8608300\n",
       "2010-03-04  41.121361  41.431372  40.953440  41.108446   8600300\n",
       "2010-03-05  41.134266  41.192393  40.720921  41.134266  10101100\n",
       "2010-03-08  40.811359  41.121368  40.708023  41.043866  11293300"
      ]
     },
     "execution_count": 177,
     "metadata": {},
     "output_type": "execute_result"
    }
   ],
   "source": [
    "#Fetch data for PG\n",
    "pg_data = stock_data['PG']\n",
    "pg_data = pg_data.xs('PG',axis=1,level='Ticker')\n",
    "pg_data.head()"
   ]
  },
  {
   "cell_type": "code",
   "execution_count": 178,
   "id": "c193f759-9590-4834-89a8-03d469e3c072",
   "metadata": {},
   "outputs": [
    {
     "data": {
      "text/html": [
       "<div>\n",
       "<style scoped>\n",
       "    .dataframe tbody tr th:only-of-type {\n",
       "        vertical-align: middle;\n",
       "    }\n",
       "\n",
       "    .dataframe tbody tr th {\n",
       "        vertical-align: top;\n",
       "    }\n",
       "\n",
       "    .dataframe thead th {\n",
       "        text-align: right;\n",
       "    }\n",
       "</style>\n",
       "<table border=\"1\" class=\"dataframe\">\n",
       "  <thead>\n",
       "    <tr style=\"text-align: right;\">\n",
       "      <th>Price</th>\n",
       "      <th>Close</th>\n",
       "      <th>High</th>\n",
       "      <th>Low</th>\n",
       "      <th>Open</th>\n",
       "      <th>Volume</th>\n",
       "    </tr>\n",
       "    <tr>\n",
       "      <th>Date</th>\n",
       "      <th></th>\n",
       "      <th></th>\n",
       "      <th></th>\n",
       "      <th></th>\n",
       "      <th></th>\n",
       "    </tr>\n",
       "  </thead>\n",
       "  <tbody>\n",
       "    <tr>\n",
       "      <th>2010-03-02</th>\n",
       "      <td>41.169708</td>\n",
       "      <td>41.299500</td>\n",
       "      <td>40.897148</td>\n",
       "      <td>41.085346</td>\n",
       "      <td>9014000</td>\n",
       "    </tr>\n",
       "    <tr>\n",
       "      <th>2010-03-03</th>\n",
       "      <td>41.143742</td>\n",
       "      <td>41.370875</td>\n",
       "      <td>41.026930</td>\n",
       "      <td>41.267042</td>\n",
       "      <td>9360400</td>\n",
       "    </tr>\n",
       "    <tr>\n",
       "      <th>2010-03-04</th>\n",
       "      <td>41.254066</td>\n",
       "      <td>41.338431</td>\n",
       "      <td>41.124275</td>\n",
       "      <td>41.228108</td>\n",
       "      <td>8067200</td>\n",
       "    </tr>\n",
       "    <tr>\n",
       "      <th>2010-03-05</th>\n",
       "      <td>41.559090</td>\n",
       "      <td>41.578558</td>\n",
       "      <td>41.241101</td>\n",
       "      <td>41.312486</td>\n",
       "      <td>10633600</td>\n",
       "    </tr>\n",
       "    <tr>\n",
       "      <th>2010-03-08</th>\n",
       "      <td>41.662903</td>\n",
       "      <td>41.799188</td>\n",
       "      <td>41.546091</td>\n",
       "      <td>41.585031</td>\n",
       "      <td>33380500</td>\n",
       "    </tr>\n",
       "  </tbody>\n",
       "</table>\n",
       "</div>"
      ],
      "text/plain": [
       "Price           Close       High        Low       Open    Volume\n",
       "Date                                                            \n",
       "2010-03-02  41.169708  41.299500  40.897148  41.085346   9014000\n",
       "2010-03-03  41.143742  41.370875  41.026930  41.267042   9360400\n",
       "2010-03-04  41.254066  41.338431  41.124275  41.228108   8067200\n",
       "2010-03-05  41.559090  41.578558  41.241101  41.312486  10633600\n",
       "2010-03-08  41.662903  41.799188  41.546091  41.585031  33380500"
      ]
     },
     "execution_count": 178,
     "metadata": {},
     "output_type": "execute_result"
    }
   ],
   "source": [
    "# Fetch data for JNJ\n",
    "jnj_data = stock_data['JNJ']\n",
    "jnj_data = jnj_data.xs('JNJ',axis=1,level='Ticker')\n",
    "jnj_data.head()"
   ]
  },
  {
   "cell_type": "code",
   "execution_count": 179,
   "id": "f1fc502b-b561-457c-8443-0337b146d269",
   "metadata": {},
   "outputs": [
    {
     "data": {
      "text/html": [
       "<div>\n",
       "<style scoped>\n",
       "    .dataframe tbody tr th:only-of-type {\n",
       "        vertical-align: middle;\n",
       "    }\n",
       "\n",
       "    .dataframe tbody tr th {\n",
       "        vertical-align: top;\n",
       "    }\n",
       "\n",
       "    .dataframe thead th {\n",
       "        text-align: right;\n",
       "    }\n",
       "</style>\n",
       "<table border=\"1\" class=\"dataframe\">\n",
       "  <thead>\n",
       "    <tr style=\"text-align: right;\">\n",
       "      <th>Price</th>\n",
       "      <th>Close</th>\n",
       "      <th>High</th>\n",
       "      <th>Low</th>\n",
       "      <th>Open</th>\n",
       "      <th>Volume</th>\n",
       "    </tr>\n",
       "    <tr>\n",
       "      <th>Date</th>\n",
       "      <th></th>\n",
       "      <th></th>\n",
       "      <th></th>\n",
       "      <th></th>\n",
       "      <th></th>\n",
       "    </tr>\n",
       "  </thead>\n",
       "  <tbody>\n",
       "    <tr>\n",
       "      <th>2010-03-02</th>\n",
       "      <td>1118.310059</td>\n",
       "      <td>1123.459961</td>\n",
       "      <td>1116.510010</td>\n",
       "      <td>1117.010010</td>\n",
       "      <td>4134680000</td>\n",
       "    </tr>\n",
       "    <tr>\n",
       "      <th>2010-03-03</th>\n",
       "      <td>1118.790039</td>\n",
       "      <td>1125.640015</td>\n",
       "      <td>1116.579956</td>\n",
       "      <td>1119.359985</td>\n",
       "      <td>3951320000</td>\n",
       "    </tr>\n",
       "    <tr>\n",
       "      <th>2010-03-04</th>\n",
       "      <td>1122.969971</td>\n",
       "      <td>1123.729980</td>\n",
       "      <td>1116.660034</td>\n",
       "      <td>1119.119995</td>\n",
       "      <td>3945010000</td>\n",
       "    </tr>\n",
       "    <tr>\n",
       "      <th>2010-03-05</th>\n",
       "      <td>1138.699951</td>\n",
       "      <td>1139.380005</td>\n",
       "      <td>1125.119995</td>\n",
       "      <td>1125.119995</td>\n",
       "      <td>4133000000</td>\n",
       "    </tr>\n",
       "    <tr>\n",
       "      <th>2010-03-08</th>\n",
       "      <td>1138.500000</td>\n",
       "      <td>1141.050049</td>\n",
       "      <td>1136.770020</td>\n",
       "      <td>1138.400024</td>\n",
       "      <td>3774680000</td>\n",
       "    </tr>\n",
       "  </tbody>\n",
       "</table>\n",
       "</div>"
      ],
      "text/plain": [
       "Price             Close         High          Low         Open      Volume\n",
       "Date                                                                      \n",
       "2010-03-02  1118.310059  1123.459961  1116.510010  1117.010010  4134680000\n",
       "2010-03-03  1118.790039  1125.640015  1116.579956  1119.359985  3951320000\n",
       "2010-03-04  1122.969971  1123.729980  1116.660034  1119.119995  3945010000\n",
       "2010-03-05  1138.699951  1139.380005  1125.119995  1125.119995  4133000000\n",
       "2010-03-08  1138.500000  1141.050049  1136.770020  1138.400024  3774680000"
      ]
     },
     "execution_count": 179,
     "metadata": {},
     "output_type": "execute_result"
    }
   ],
   "source": [
    "# Fetch data for'^GSPC'\n",
    "gspc_data = stock_data['^GSPC']\n",
    "gspc_data = gspc_data.xs('^GSPC',axis=1,level='Ticker')\n",
    "gspc_data.head()"
   ]
  },
  {
   "cell_type": "markdown",
   "id": "c46259a0-5c55-47a8-9c3c-d4e585a38d50",
   "metadata": {},
   "source": [
    "Feature Engineering:\n",
    "\n",
    "Computing the stocks the \"Returns\" feature\n",
    "\n",
    "Creating a “Tomorrow” column\n",
    "\n",
    "Creating a “stocks-Direction” column\n",
    "\n",
    "Computing the Return, Tomorrow, and Stock_Direction columns for each stocks"
   ]
  },
  {
   "cell_type": "code",
   "execution_count": 181,
   "id": "621d526d-91b1-42df-a033-a7945a30a07d",
   "metadata": {},
   "outputs": [],
   "source": [
    "# For PG stock\n",
    "pg_data['Return'] = pg_data['Close'].pct_change()\n",
    "# For PG stock:\n",
    "pg_data['Tomorrow'] = pg_data['Close'].shift(-1)\n",
    "# For PG stock\n",
    "pg_data['Stocks_Direction'] = (pg_data['Close'] > pg_data['Close'].shift(1)).astype(int)"
   ]
  },
  {
   "cell_type": "code",
   "execution_count": 182,
   "id": "a7c0d783-7867-4ab3-ad7e-ba832021d6fc",
   "metadata": {},
   "outputs": [
    {
     "name": "stdout",
     "output_type": "stream",
     "text": [
      "<class 'pandas.core.frame.DataFrame'>\n",
      "Index: 3522 entries, 2010-03-02 to 2024-02-27\n",
      "Data columns (total 8 columns):\n",
      " #   Column            Non-Null Count  Dtype  \n",
      "---  ------            --------------  -----  \n",
      " 0   Close             3522 non-null   float64\n",
      " 1   High              3522 non-null   float64\n",
      " 2   Low               3522 non-null   float64\n",
      " 3   Open              3522 non-null   float64\n",
      " 4   Volume            3522 non-null   int64  \n",
      " 5   Return            3521 non-null   float64\n",
      " 6   Tomorrow          3521 non-null   float64\n",
      " 7   Stocks_Direction  3522 non-null   int32  \n",
      "dtypes: float64(6), int32(1), int64(1)\n",
      "memory usage: 233.9+ KB\n"
     ]
    }
   ],
   "source": [
    "pg_data.info()"
   ]
  },
  {
   "cell_type": "code",
   "execution_count": null,
   "id": "01935a73-6039-4159-b8ae-175d81f171a7",
   "metadata": {},
   "outputs": [],
   "source": []
  },
  {
   "cell_type": "code",
   "execution_count": 183,
   "id": "6fd4d8da-7457-4650-9392-264e9f798cf1",
   "metadata": {},
   "outputs": [],
   "source": [
    "#pg_data.dropna(inplace=True)  # Removes rows with any missing values"
   ]
  },
  {
   "cell_type": "code",
   "execution_count": 184,
   "id": "f064fbfc-c98e-4657-8439-18c8f08849db",
   "metadata": {},
   "outputs": [],
   "source": [
    "# Handling 'Return' column NaNs\n",
    "pg_data.loc[:, 'Return'] = pg_data['Return'].fillna(0)  # Fill first row with 0\n",
    "pg_data.loc[:, 'Return'] = pg_data['Return'].ffill()  # Fill other potential NaNs using forward fill\n",
    "\n",
    "# Handling 'Tomorrow' column NaNs\n",
    "pg_data = pg_data.iloc[:-1]  # Drop the last row\n",
    "\n",
    "# Handing \"Stock_Direction column NaNs\"\n",
    "pg_data.loc[:, 'Stocks_Direction'] = pg_data['Stocks_Direction'].fillna(0)  # Fill first row with 0\n",
    "pg_data.loc[:, 'Stocks_Direction'] = pg_data['Stocks_Direction'].ffill()  # Fill other potential NaNs using forward fill\n"
   ]
  },
  {
   "cell_type": "code",
   "execution_count": 185,
   "id": "4cc8a099-1087-4b98-af5e-6d9622bc95b3",
   "metadata": {},
   "outputs": [
    {
     "data": {
      "text/plain": [
       "Price\n",
       "Close               0\n",
       "High                0\n",
       "Low                 0\n",
       "Open                0\n",
       "Volume              0\n",
       "Return              0\n",
       "Tomorrow            0\n",
       "Stocks_Direction    0\n",
       "dtype: int64"
      ]
     },
     "execution_count": 185,
     "metadata": {},
     "output_type": "execute_result"
    }
   ],
   "source": [
    "pg_data.isna().sum()"
   ]
  },
  {
   "cell_type": "code",
   "execution_count": 186,
   "id": "891176f1-537f-4bca-817c-8f17509df634",
   "metadata": {},
   "outputs": [
    {
     "data": {
      "text/html": [
       "<div>\n",
       "<style scoped>\n",
       "    .dataframe tbody tr th:only-of-type {\n",
       "        vertical-align: middle;\n",
       "    }\n",
       "\n",
       "    .dataframe tbody tr th {\n",
       "        vertical-align: top;\n",
       "    }\n",
       "\n",
       "    .dataframe thead th {\n",
       "        text-align: right;\n",
       "    }\n",
       "</style>\n",
       "<table border=\"1\" class=\"dataframe\">\n",
       "  <thead>\n",
       "    <tr style=\"text-align: right;\">\n",
       "      <th>Price</th>\n",
       "      <th>Close</th>\n",
       "      <th>High</th>\n",
       "      <th>Low</th>\n",
       "      <th>Open</th>\n",
       "      <th>Volume</th>\n",
       "      <th>Return</th>\n",
       "      <th>Tomorrow</th>\n",
       "      <th>Stocks_Direction</th>\n",
       "    </tr>\n",
       "    <tr>\n",
       "      <th>Date</th>\n",
       "      <th></th>\n",
       "      <th></th>\n",
       "      <th></th>\n",
       "      <th></th>\n",
       "      <th></th>\n",
       "      <th></th>\n",
       "      <th></th>\n",
       "      <th></th>\n",
       "    </tr>\n",
       "  </thead>\n",
       "  <tbody>\n",
       "    <tr>\n",
       "      <th>2010-03-02</th>\n",
       "      <td>41.147190</td>\n",
       "      <td>41.250526</td>\n",
       "      <td>40.908226</td>\n",
       "      <td>41.153650</td>\n",
       "      <td>8004000</td>\n",
       "      <td>0.000000</td>\n",
       "      <td>41.043861</td>\n",
       "      <td>0</td>\n",
       "    </tr>\n",
       "    <tr>\n",
       "      <th>2010-03-03</th>\n",
       "      <td>41.043861</td>\n",
       "      <td>41.269911</td>\n",
       "      <td>40.966360</td>\n",
       "      <td>41.114905</td>\n",
       "      <td>8608300</td>\n",
       "      <td>-0.002511</td>\n",
       "      <td>41.121361</td>\n",
       "      <td>0</td>\n",
       "    </tr>\n",
       "    <tr>\n",
       "      <th>2010-03-04</th>\n",
       "      <td>41.121361</td>\n",
       "      <td>41.431372</td>\n",
       "      <td>40.953440</td>\n",
       "      <td>41.108446</td>\n",
       "      <td>8600300</td>\n",
       "      <td>0.001888</td>\n",
       "      <td>41.134266</td>\n",
       "      <td>1</td>\n",
       "    </tr>\n",
       "    <tr>\n",
       "      <th>2010-03-05</th>\n",
       "      <td>41.134266</td>\n",
       "      <td>41.192393</td>\n",
       "      <td>40.720921</td>\n",
       "      <td>41.134266</td>\n",
       "      <td>10101100</td>\n",
       "      <td>0.000314</td>\n",
       "      <td>40.811359</td>\n",
       "      <td>1</td>\n",
       "    </tr>\n",
       "    <tr>\n",
       "      <th>2010-03-08</th>\n",
       "      <td>40.811359</td>\n",
       "      <td>41.121368</td>\n",
       "      <td>40.708023</td>\n",
       "      <td>41.043866</td>\n",
       "      <td>11293300</td>\n",
       "      <td>-0.007850</td>\n",
       "      <td>40.882393</td>\n",
       "      <td>0</td>\n",
       "    </tr>\n",
       "  </tbody>\n",
       "</table>\n",
       "</div>"
      ],
      "text/plain": [
       "Price           Close       High        Low       Open    Volume    Return  \\\n",
       "Date                                                                         \n",
       "2010-03-02  41.147190  41.250526  40.908226  41.153650   8004000  0.000000   \n",
       "2010-03-03  41.043861  41.269911  40.966360  41.114905   8608300 -0.002511   \n",
       "2010-03-04  41.121361  41.431372  40.953440  41.108446   8600300  0.001888   \n",
       "2010-03-05  41.134266  41.192393  40.720921  41.134266  10101100  0.000314   \n",
       "2010-03-08  40.811359  41.121368  40.708023  41.043866  11293300 -0.007850   \n",
       "\n",
       "Price        Tomorrow  Stocks_Direction  \n",
       "Date                                     \n",
       "2010-03-02  41.043861                 0  \n",
       "2010-03-03  41.121361                 0  \n",
       "2010-03-04  41.134266                 1  \n",
       "2010-03-05  40.811359                 1  \n",
       "2010-03-08  40.882393                 0  "
      ]
     },
     "execution_count": 186,
     "metadata": {},
     "output_type": "execute_result"
    }
   ],
   "source": [
    "pg_data.head()"
   ]
  },
  {
   "cell_type": "code",
   "execution_count": 187,
   "id": "6a1da381-c42a-44a2-8f80-035fd026e0df",
   "metadata": {},
   "outputs": [],
   "source": [
    "# For JNJ stock\n",
    "jnj_data['Return'] = jnj_data['Close'].pct_change()\n",
    "# For JNJ stock:\n",
    "jnj_data['Tomorrow'] = jnj_data['Close'].shift(-1)\n",
    "# For JNJ stock\n",
    "jnj_data['Stocks_Direction'] = (jnj_data['Close'] > jnj_data['Close'].shift(1)).astype(int)\n"
   ]
  },
  {
   "cell_type": "code",
   "execution_count": 188,
   "id": "95cb1de7-eadf-4251-8c03-d1e794ed65a5",
   "metadata": {},
   "outputs": [
    {
     "name": "stdout",
     "output_type": "stream",
     "text": [
      "<class 'pandas.core.frame.DataFrame'>\n",
      "Index: 3522 entries, 2010-03-02 to 2024-02-27\n",
      "Data columns (total 8 columns):\n",
      " #   Column            Non-Null Count  Dtype  \n",
      "---  ------            --------------  -----  \n",
      " 0   Close             3522 non-null   float64\n",
      " 1   High              3522 non-null   float64\n",
      " 2   Low               3522 non-null   float64\n",
      " 3   Open              3522 non-null   float64\n",
      " 4   Volume            3522 non-null   int64  \n",
      " 5   Return            3521 non-null   float64\n",
      " 6   Tomorrow          3521 non-null   float64\n",
      " 7   Stocks_Direction  3522 non-null   int32  \n",
      "dtypes: float64(6), int32(1), int64(1)\n",
      "memory usage: 233.9+ KB\n"
     ]
    }
   ],
   "source": [
    "jnj_data.info()"
   ]
  },
  {
   "cell_type": "code",
   "execution_count": 189,
   "id": "a632c11f-eb1b-4760-9042-9dee2a3dcb84",
   "metadata": {},
   "outputs": [],
   "source": [
    "# Handling 'Return' column NaNs\n",
    "jnj_data.loc[:, 'Return'] = jnj_data['Return'].fillna(0)  # Fill first row with 0\n",
    "jnj_data.loc[:, 'Return'] = jnj_data['Return'].ffill()  # Fill other potential NaNs using forward fill\n",
    "\n",
    "# Handling 'Tomorrow' column NaNs\n",
    "jnj_data = jnj_data.iloc[:-1]  # Drop the last row\n",
    "\n",
    "# Handing \"Stock_Direction' column NaNs\n",
    "jnj_data.loc[:, 'Stocks_Direction'] = jnj_data['Stocks_Direction'].fillna(0)  # Fill first row with 0\n",
    "jnj_data.loc[:, 'Stocks_Direction'] = jnj_data['Stocks_Direction'].ffill()"
   ]
  },
  {
   "cell_type": "code",
   "execution_count": 190,
   "id": "7206ccc9-23a5-49d0-8402-982131cd51ea",
   "metadata": {},
   "outputs": [
    {
     "data": {
      "text/plain": [
       "Price\n",
       "Close               0\n",
       "High                0\n",
       "Low                 0\n",
       "Open                0\n",
       "Volume              0\n",
       "Return              0\n",
       "Tomorrow            0\n",
       "Stocks_Direction    0\n",
       "dtype: int64"
      ]
     },
     "execution_count": 190,
     "metadata": {},
     "output_type": "execute_result"
    }
   ],
   "source": [
    "jnj_data.isna().sum()"
   ]
  },
  {
   "cell_type": "code",
   "execution_count": 191,
   "id": "b8c9fffd-9f93-4cb5-98ed-59233d8c74e6",
   "metadata": {},
   "outputs": [
    {
     "data": {
      "text/html": [
       "<div>\n",
       "<style scoped>\n",
       "    .dataframe tbody tr th:only-of-type {\n",
       "        vertical-align: middle;\n",
       "    }\n",
       "\n",
       "    .dataframe tbody tr th {\n",
       "        vertical-align: top;\n",
       "    }\n",
       "\n",
       "    .dataframe thead th {\n",
       "        text-align: right;\n",
       "    }\n",
       "</style>\n",
       "<table border=\"1\" class=\"dataframe\">\n",
       "  <thead>\n",
       "    <tr style=\"text-align: right;\">\n",
       "      <th>Price</th>\n",
       "      <th>Close</th>\n",
       "      <th>High</th>\n",
       "      <th>Low</th>\n",
       "      <th>Open</th>\n",
       "      <th>Volume</th>\n",
       "      <th>Return</th>\n",
       "      <th>Tomorrow</th>\n",
       "      <th>Stocks_Direction</th>\n",
       "    </tr>\n",
       "    <tr>\n",
       "      <th>Date</th>\n",
       "      <th></th>\n",
       "      <th></th>\n",
       "      <th></th>\n",
       "      <th></th>\n",
       "      <th></th>\n",
       "      <th></th>\n",
       "      <th></th>\n",
       "      <th></th>\n",
       "    </tr>\n",
       "  </thead>\n",
       "  <tbody>\n",
       "    <tr>\n",
       "      <th>2010-03-02</th>\n",
       "      <td>41.169708</td>\n",
       "      <td>41.299500</td>\n",
       "      <td>40.897148</td>\n",
       "      <td>41.085346</td>\n",
       "      <td>9014000</td>\n",
       "      <td>0.000000</td>\n",
       "      <td>41.143742</td>\n",
       "      <td>0</td>\n",
       "    </tr>\n",
       "    <tr>\n",
       "      <th>2010-03-03</th>\n",
       "      <td>41.143742</td>\n",
       "      <td>41.370875</td>\n",
       "      <td>41.026930</td>\n",
       "      <td>41.267042</td>\n",
       "      <td>9360400</td>\n",
       "      <td>-0.000631</td>\n",
       "      <td>41.254066</td>\n",
       "      <td>0</td>\n",
       "    </tr>\n",
       "    <tr>\n",
       "      <th>2010-03-04</th>\n",
       "      <td>41.254066</td>\n",
       "      <td>41.338431</td>\n",
       "      <td>41.124275</td>\n",
       "      <td>41.228108</td>\n",
       "      <td>8067200</td>\n",
       "      <td>0.002681</td>\n",
       "      <td>41.559090</td>\n",
       "      <td>1</td>\n",
       "    </tr>\n",
       "    <tr>\n",
       "      <th>2010-03-05</th>\n",
       "      <td>41.559090</td>\n",
       "      <td>41.578558</td>\n",
       "      <td>41.241101</td>\n",
       "      <td>41.312486</td>\n",
       "      <td>10633600</td>\n",
       "      <td>0.007394</td>\n",
       "      <td>41.662903</td>\n",
       "      <td>1</td>\n",
       "    </tr>\n",
       "    <tr>\n",
       "      <th>2010-03-08</th>\n",
       "      <td>41.662903</td>\n",
       "      <td>41.799188</td>\n",
       "      <td>41.546091</td>\n",
       "      <td>41.585031</td>\n",
       "      <td>33380500</td>\n",
       "      <td>0.002498</td>\n",
       "      <td>41.708332</td>\n",
       "      <td>1</td>\n",
       "    </tr>\n",
       "  </tbody>\n",
       "</table>\n",
       "</div>"
      ],
      "text/plain": [
       "Price           Close       High        Low       Open    Volume    Return  \\\n",
       "Date                                                                         \n",
       "2010-03-02  41.169708  41.299500  40.897148  41.085346   9014000  0.000000   \n",
       "2010-03-03  41.143742  41.370875  41.026930  41.267042   9360400 -0.000631   \n",
       "2010-03-04  41.254066  41.338431  41.124275  41.228108   8067200  0.002681   \n",
       "2010-03-05  41.559090  41.578558  41.241101  41.312486  10633600  0.007394   \n",
       "2010-03-08  41.662903  41.799188  41.546091  41.585031  33380500  0.002498   \n",
       "\n",
       "Price        Tomorrow  Stocks_Direction  \n",
       "Date                                     \n",
       "2010-03-02  41.143742                 0  \n",
       "2010-03-03  41.254066                 0  \n",
       "2010-03-04  41.559090                 1  \n",
       "2010-03-05  41.662903                 1  \n",
       "2010-03-08  41.708332                 1  "
      ]
     },
     "execution_count": 191,
     "metadata": {},
     "output_type": "execute_result"
    }
   ],
   "source": [
    "jnj_data.head()"
   ]
  },
  {
   "cell_type": "code",
   "execution_count": 192,
   "id": "bf32e635-8fa3-441e-996b-ce51bf5883d9",
   "metadata": {},
   "outputs": [],
   "source": [
    "# For ^GSPC stock\n",
    "gspc_data['Return'] = gspc_data['Close'].pct_change()\n",
    "# For ^GSPC stock:\n",
    "gspc_data['Tomorrow'] = gspc_data['Close'].shift(-1)\n",
    "# For ^GSPC stock\n",
    "gspc_data['Stocks_Direction'] = (gspc_data['Close'] > gspc_data['Close'].shift(1)).astype(int)"
   ]
  },
  {
   "cell_type": "code",
   "execution_count": 193,
   "id": "81a73d18-4252-4a01-aa77-35364dabd9f6",
   "metadata": {},
   "outputs": [
    {
     "name": "stdout",
     "output_type": "stream",
     "text": [
      "<class 'pandas.core.frame.DataFrame'>\n",
      "Index: 3522 entries, 2010-03-02 to 2024-02-27\n",
      "Data columns (total 8 columns):\n",
      " #   Column            Non-Null Count  Dtype  \n",
      "---  ------            --------------  -----  \n",
      " 0   Close             3522 non-null   float64\n",
      " 1   High              3522 non-null   float64\n",
      " 2   Low               3522 non-null   float64\n",
      " 3   Open              3522 non-null   float64\n",
      " 4   Volume            3522 non-null   int64  \n",
      " 5   Return            3521 non-null   float64\n",
      " 6   Tomorrow          3521 non-null   float64\n",
      " 7   Stocks_Direction  3522 non-null   int32  \n",
      "dtypes: float64(6), int32(1), int64(1)\n",
      "memory usage: 233.9+ KB\n"
     ]
    }
   ],
   "source": [
    "gspc_data.info()"
   ]
  },
  {
   "cell_type": "code",
   "execution_count": 194,
   "id": "8f48ec38-f925-4634-b5c0-2dbe2b899722",
   "metadata": {},
   "outputs": [],
   "source": [
    "gspc_data.loc[:, 'Return'] = gspc_data['Return'].fillna(0)  # Fill first row with 0\n",
    "gspc_data.loc[:, 'Return'] = gspc_data['Return'].ffill()\n",
    "\n",
    "gspc_data = gspc_data.iloc[:-1]  # Drop the last row\n",
    "\n",
    "gspc_data.loc[:, 'Stocks_Direction'] = gspc_data['Stocks_Direction'].fillna(0)\n",
    "gspc_data.loc[:, 'Stocks_Direction'] = gspc_data['Stocks_Direction'].ffill()"
   ]
  },
  {
   "cell_type": "code",
   "execution_count": 195,
   "id": "6d54a493-d411-408f-91d9-83b7ab6c3e4c",
   "metadata": {},
   "outputs": [
    {
     "data": {
      "text/plain": [
       "Price\n",
       "Close               0\n",
       "High                0\n",
       "Low                 0\n",
       "Open                0\n",
       "Volume              0\n",
       "Return              0\n",
       "Tomorrow            0\n",
       "Stocks_Direction    0\n",
       "dtype: int64"
      ]
     },
     "execution_count": 195,
     "metadata": {},
     "output_type": "execute_result"
    }
   ],
   "source": [
    "gspc_data.isna().sum()"
   ]
  },
  {
   "cell_type": "code",
   "execution_count": 196,
   "id": "c7349393-e25d-4979-8a4b-a74b46ff3370",
   "metadata": {},
   "outputs": [
    {
     "data": {
      "text/html": [
       "<div>\n",
       "<style scoped>\n",
       "    .dataframe tbody tr th:only-of-type {\n",
       "        vertical-align: middle;\n",
       "    }\n",
       "\n",
       "    .dataframe tbody tr th {\n",
       "        vertical-align: top;\n",
       "    }\n",
       "\n",
       "    .dataframe thead th {\n",
       "        text-align: right;\n",
       "    }\n",
       "</style>\n",
       "<table border=\"1\" class=\"dataframe\">\n",
       "  <thead>\n",
       "    <tr style=\"text-align: right;\">\n",
       "      <th>Price</th>\n",
       "      <th>Close</th>\n",
       "      <th>High</th>\n",
       "      <th>Low</th>\n",
       "      <th>Open</th>\n",
       "      <th>Volume</th>\n",
       "      <th>Return</th>\n",
       "      <th>Tomorrow</th>\n",
       "      <th>Stocks_Direction</th>\n",
       "    </tr>\n",
       "    <tr>\n",
       "      <th>Date</th>\n",
       "      <th></th>\n",
       "      <th></th>\n",
       "      <th></th>\n",
       "      <th></th>\n",
       "      <th></th>\n",
       "      <th></th>\n",
       "      <th></th>\n",
       "      <th></th>\n",
       "    </tr>\n",
       "  </thead>\n",
       "  <tbody>\n",
       "    <tr>\n",
       "      <th>2010-03-02</th>\n",
       "      <td>1118.310059</td>\n",
       "      <td>1123.459961</td>\n",
       "      <td>1116.510010</td>\n",
       "      <td>1117.010010</td>\n",
       "      <td>4134680000</td>\n",
       "      <td>0.000000</td>\n",
       "      <td>1118.790039</td>\n",
       "      <td>0</td>\n",
       "    </tr>\n",
       "    <tr>\n",
       "      <th>2010-03-03</th>\n",
       "      <td>1118.790039</td>\n",
       "      <td>1125.640015</td>\n",
       "      <td>1116.579956</td>\n",
       "      <td>1119.359985</td>\n",
       "      <td>3951320000</td>\n",
       "      <td>0.000429</td>\n",
       "      <td>1122.969971</td>\n",
       "      <td>1</td>\n",
       "    </tr>\n",
       "    <tr>\n",
       "      <th>2010-03-04</th>\n",
       "      <td>1122.969971</td>\n",
       "      <td>1123.729980</td>\n",
       "      <td>1116.660034</td>\n",
       "      <td>1119.119995</td>\n",
       "      <td>3945010000</td>\n",
       "      <td>0.003736</td>\n",
       "      <td>1138.699951</td>\n",
       "      <td>1</td>\n",
       "    </tr>\n",
       "    <tr>\n",
       "      <th>2010-03-05</th>\n",
       "      <td>1138.699951</td>\n",
       "      <td>1139.380005</td>\n",
       "      <td>1125.119995</td>\n",
       "      <td>1125.119995</td>\n",
       "      <td>4133000000</td>\n",
       "      <td>0.014007</td>\n",
       "      <td>1138.500000</td>\n",
       "      <td>1</td>\n",
       "    </tr>\n",
       "    <tr>\n",
       "      <th>2010-03-08</th>\n",
       "      <td>1138.500000</td>\n",
       "      <td>1141.050049</td>\n",
       "      <td>1136.770020</td>\n",
       "      <td>1138.400024</td>\n",
       "      <td>3774680000</td>\n",
       "      <td>-0.000176</td>\n",
       "      <td>1140.449951</td>\n",
       "      <td>0</td>\n",
       "    </tr>\n",
       "  </tbody>\n",
       "</table>\n",
       "</div>"
      ],
      "text/plain": [
       "Price             Close         High          Low         Open      Volume  \\\n",
       "Date                                                                         \n",
       "2010-03-02  1118.310059  1123.459961  1116.510010  1117.010010  4134680000   \n",
       "2010-03-03  1118.790039  1125.640015  1116.579956  1119.359985  3951320000   \n",
       "2010-03-04  1122.969971  1123.729980  1116.660034  1119.119995  3945010000   \n",
       "2010-03-05  1138.699951  1139.380005  1125.119995  1125.119995  4133000000   \n",
       "2010-03-08  1138.500000  1141.050049  1136.770020  1138.400024  3774680000   \n",
       "\n",
       "Price         Return     Tomorrow  Stocks_Direction  \n",
       "Date                                                 \n",
       "2010-03-02  0.000000  1118.790039                 0  \n",
       "2010-03-03  0.000429  1122.969971                 1  \n",
       "2010-03-04  0.003736  1138.699951                 1  \n",
       "2010-03-05  0.014007  1138.500000                 1  \n",
       "2010-03-08 -0.000176  1140.449951                 0  "
      ]
     },
     "execution_count": 196,
     "metadata": {},
     "output_type": "execute_result"
    }
   ],
   "source": [
    "gspc_data.head()"
   ]
  },
  {
   "cell_type": "markdown",
   "id": "44f3768e-fa29-4c67-8a33-3c8f82f9227f",
   "metadata": {},
   "source": [
    "Data Preparation, Modelling & Evaluation:"
   ]
  },
  {
   "cell_type": "code",
   "execution_count": 198,
   "id": "21b21c25-af69-4e9c-b026-bb2acc448549",
   "metadata": {},
   "outputs": [],
   "source": [
    "#!pip install mlflow pandas numpy scikit-learn xgboost tensorflow statsmodels\n"
   ]
  },
  {
   "cell_type": "code",
   "execution_count": 199,
   "id": "c51139b7-d56f-4586-8185-d342b2d4cb19",
   "metadata": {},
   "outputs": [],
   "source": [
    "from sklearn.model_selection import train_test_split\n",
    "from sklearn.preprocessing import StandardScaler, MinMaxScaler\n",
    "from xgboost import XGBClassifier\n",
    "from sklearn.metrics import accuracy_score, classification_report\n",
    "from tensorflow.keras.models import Sequential\n",
    "from tensorflow.keras.layers import LSTM, Dense, Dropout\n",
    "import mlflow\n",
    "import mlflow.xgboost\n",
    "import mlflow.keras"
   ]
  },
  {
   "cell_type": "code",
   "execution_count": 209,
   "id": "83185a57-0992-4e71-b038-9c18fabe46a2",
   "metadata": {},
   "outputs": [],
   "source": [
    "X = pg_data[[\"Close\", \"High\", \"Low\", \"Open\", \"Volume\"]]  # Features\n",
    "y = pg_data[\"Stocks_Direction\"]  # Target"
   ]
  },
  {
   "cell_type": "code",
   "execution_count": 211,
   "id": "0c26c6b0-fc6f-4d43-902f-7d7bfc83093f",
   "metadata": {},
   "outputs": [],
   "source": [
    "X_train, X_test, y_train, y_test = train_test_split(X, y, test_size=0.2, random_state=42)"
   ]
  },
  {
   "cell_type": "code",
   "execution_count": 213,
   "id": "01ceb740-93ef-4fc7-8378-803049288a1a",
   "metadata": {},
   "outputs": [],
   "source": [
    "# Normalization\n",
    "scaler = StandardScaler()\n",
    "scaled_data = scaler.fit_transform(pg_data)"
   ]
  },
  {
   "cell_type": "code",
   "execution_count": 215,
   "id": "976f6b70-d883-4a11-9fbd-ebb933c97c17",
   "metadata": {},
   "outputs": [
    {
     "name": "stdout",
     "output_type": "stream",
     "text": [
      "XGBoost Accuracy: 0.7460992907801418\n",
      "              precision    recall  f1-score   support\n",
      "\n",
      "           0       0.75      0.73      0.74       351\n",
      "           1       0.74      0.76      0.75       354\n",
      "\n",
      "    accuracy                           0.75       705\n",
      "   macro avg       0.75      0.75      0.75       705\n",
      "weighted avg       0.75      0.75      0.75       705\n",
      "\n"
     ]
    }
   ],
   "source": [
    "# Initialize and train the XGBoost model\n",
    "xgb_model = XGBClassifier(random_state=42)\n",
    "xgb_model.fit(X_train, y_train)\n",
    "\n",
    "# Make predictions\n",
    "xgb_predictions = xgb_model.predict(X_test)\n",
    "\n",
    "# Evaluate the model\n",
    "xgb_accuracy = accuracy_score(y_test, xgb_predictions)\n",
    "print(f\"XGBoost Accuracy: {xgb_accuracy}\")\n",
    "print(classification_report(y_test, xgb_predictions))"
   ]
  },
  {
   "cell_type": "code",
   "execution_count": 217,
   "id": "d0c08c92-2192-42c0-a403-d13649d6a2f0",
   "metadata": {},
   "outputs": [
    {
     "name": "stdout",
     "output_type": "stream",
     "text": [
      "XGBoost Cross-Validation Scores: [0.74609929 0.73863636 0.75       0.73721591 0.76420455]\n",
      "XGBoost Mean Accuracy: 0.747231221792392\n",
      "XGBoost Accuracy Standard Deviation: 0.009707926575230865\n"
     ]
    }
   ],
   "source": [
    "# Initialize KFold for cross-validation\n",
    "kfold = KFold(n_splits=5, shuffle=True, random_state=42)  # You can adjust n_splits\n",
    "\n",
    "# Perform cross-validation and get accuracy scores\n",
    "xgb_cv_scores = cross_val_score(xgb_model, X, y, cv=kfold, scoring='accuracy')\n",
    "\n",
    "# Print the cross-validation scores\n",
    "print(\"XGBoost Cross-Validation Scores:\", xgb_cv_scores)\n",
    "print(\"XGBoost Mean Accuracy:\", xgb_cv_scores.mean())\n",
    "print(\"XGBoost Accuracy Standard Deviation:\", xgb_cv_scores.std())"
   ]
  },
  {
   "cell_type": "code",
   "execution_count": 219,
   "id": "a29e1fbc-22f5-43fb-869b-9efae2c402b9",
   "metadata": {},
   "outputs": [
    {
     "name": "stdout",
     "output_type": "stream",
     "text": [
      "Epoch 1/20\n"
     ]
    },
    {
     "name": "stderr",
     "output_type": "stream",
     "text": [
      "C:\\Users\\HP\\anaconda3\\New folder\\ANACONDA3\\Lib\\site-packages\\keras\\src\\layers\\rnn\\rnn.py:200: UserWarning: Do not pass an `input_shape`/`input_dim` argument to a layer. When using Sequential models, prefer using an `Input(shape)` object as the first layer in the model instead.\n",
      "  super().__init__(**kwargs)\n"
     ]
    },
    {
     "name": "stdout",
     "output_type": "stream",
     "text": [
      "\u001b[1m88/88\u001b[0m \u001b[32m━━━━━━━━━━━━━━━━━━━━\u001b[0m\u001b[37m\u001b[0m \u001b[1m5s\u001b[0m 11ms/step - accuracy: 0.5164 - loss: 0.6924 - val_accuracy: 0.5021 - val_loss: 0.6949\n",
      "Epoch 2/20\n",
      "\u001b[1m88/88\u001b[0m \u001b[32m━━━━━━━━━━━━━━━━━━━━\u001b[0m\u001b[37m\u001b[0m \u001b[1m0s\u001b[0m 3ms/step - accuracy: 0.5374 - loss: 0.6905 - val_accuracy: 0.5021 - val_loss: 0.6955\n",
      "Epoch 3/20\n",
      "\u001b[1m88/88\u001b[0m \u001b[32m━━━━━━━━━━━━━━━━━━━━\u001b[0m\u001b[37m\u001b[0m \u001b[1m0s\u001b[0m 4ms/step - accuracy: 0.5192 - loss: 0.6919 - val_accuracy: 0.5021 - val_loss: 0.6959\n",
      "Epoch 4/20\n",
      "\u001b[1m88/88\u001b[0m \u001b[32m━━━━━━━━━━━━━━━━━━━━\u001b[0m\u001b[37m\u001b[0m \u001b[1m0s\u001b[0m 4ms/step - accuracy: 0.5423 - loss: 0.6890 - val_accuracy: 0.5021 - val_loss: 0.6953\n",
      "Epoch 5/20\n",
      "\u001b[1m88/88\u001b[0m \u001b[32m━━━━━━━━━━━━━━━━━━━━\u001b[0m\u001b[37m\u001b[0m \u001b[1m0s\u001b[0m 4ms/step - accuracy: 0.5121 - loss: 0.6926 - val_accuracy: 0.5021 - val_loss: 0.6964\n",
      "Epoch 6/20\n",
      "\u001b[1m88/88\u001b[0m \u001b[32m━━━━━━━━━━━━━━━━━━━━\u001b[0m\u001b[37m\u001b[0m \u001b[1m0s\u001b[0m 5ms/step - accuracy: 0.5109 - loss: 0.6938 - val_accuracy: 0.5021 - val_loss: 0.6956\n",
      "Epoch 7/20\n",
      "\u001b[1m88/88\u001b[0m \u001b[32m━━━━━━━━━━━━━━━━━━━━\u001b[0m\u001b[37m\u001b[0m \u001b[1m0s\u001b[0m 5ms/step - accuracy: 0.5239 - loss: 0.6913 - val_accuracy: 0.5021 - val_loss: 0.6957\n",
      "Epoch 8/20\n",
      "\u001b[1m88/88\u001b[0m \u001b[32m━━━━━━━━━━━━━━━━━━━━\u001b[0m\u001b[37m\u001b[0m \u001b[1m0s\u001b[0m 4ms/step - accuracy: 0.5288 - loss: 0.6902 - val_accuracy: 0.5021 - val_loss: 0.6956\n",
      "Epoch 9/20\n",
      "\u001b[1m88/88\u001b[0m \u001b[32m━━━━━━━━━━━━━━━━━━━━\u001b[0m\u001b[37m\u001b[0m \u001b[1m0s\u001b[0m 5ms/step - accuracy: 0.5321 - loss: 0.6905 - val_accuracy: 0.5021 - val_loss: 0.6954\n",
      "Epoch 10/20\n",
      "\u001b[1m88/88\u001b[0m \u001b[32m━━━━━━━━━━━━━━━━━━━━\u001b[0m\u001b[37m\u001b[0m \u001b[1m1s\u001b[0m 5ms/step - accuracy: 0.5237 - loss: 0.6918 - val_accuracy: 0.5021 - val_loss: 0.6959\n",
      "Epoch 11/20\n",
      "\u001b[1m88/88\u001b[0m \u001b[32m━━━━━━━━━━━━━━━━━━━━\u001b[0m\u001b[37m\u001b[0m \u001b[1m0s\u001b[0m 5ms/step - accuracy: 0.5277 - loss: 0.6903 - val_accuracy: 0.5021 - val_loss: 0.6952\n",
      "Epoch 12/20\n",
      "\u001b[1m88/88\u001b[0m \u001b[32m━━━━━━━━━━━━━━━━━━━━\u001b[0m\u001b[37m\u001b[0m \u001b[1m0s\u001b[0m 5ms/step - accuracy: 0.5323 - loss: 0.6917 - val_accuracy: 0.5021 - val_loss: 0.6957\n",
      "Epoch 13/20\n",
      "\u001b[1m88/88\u001b[0m \u001b[32m━━━━━━━━━━━━━━━━━━━━\u001b[0m\u001b[37m\u001b[0m \u001b[1m1s\u001b[0m 5ms/step - accuracy: 0.5274 - loss: 0.6908 - val_accuracy: 0.5021 - val_loss: 0.6958\n",
      "Epoch 14/20\n",
      "\u001b[1m88/88\u001b[0m \u001b[32m━━━━━━━━━━━━━━━━━━━━\u001b[0m\u001b[37m\u001b[0m \u001b[1m0s\u001b[0m 5ms/step - accuracy: 0.5270 - loss: 0.6905 - val_accuracy: 0.5021 - val_loss: 0.6955\n",
      "Epoch 15/20\n",
      "\u001b[1m88/88\u001b[0m \u001b[32m━━━━━━━━━━━━━━━━━━━━\u001b[0m\u001b[37m\u001b[0m \u001b[1m0s\u001b[0m 4ms/step - accuracy: 0.5253 - loss: 0.6911 - val_accuracy: 0.5021 - val_loss: 0.6955\n",
      "Epoch 16/20\n",
      "\u001b[1m88/88\u001b[0m \u001b[32m━━━━━━━━━━━━━━━━━━━━\u001b[0m\u001b[37m\u001b[0m \u001b[1m0s\u001b[0m 5ms/step - accuracy: 0.5282 - loss: 0.6910 - val_accuracy: 0.5021 - val_loss: 0.6953\n",
      "Epoch 17/20\n",
      "\u001b[1m88/88\u001b[0m \u001b[32m━━━━━━━━━━━━━━━━━━━━\u001b[0m\u001b[37m\u001b[0m \u001b[1m0s\u001b[0m 5ms/step - accuracy: 0.5316 - loss: 0.6897 - val_accuracy: 0.5021 - val_loss: 0.6955\n",
      "Epoch 18/20\n",
      "\u001b[1m88/88\u001b[0m \u001b[32m━━━━━━━━━━━━━━━━━━━━\u001b[0m\u001b[37m\u001b[0m \u001b[1m0s\u001b[0m 5ms/step - accuracy: 0.5227 - loss: 0.6906 - val_accuracy: 0.5007 - val_loss: 0.6957\n",
      "Epoch 19/20\n",
      "\u001b[1m88/88\u001b[0m \u001b[32m━━━━━━━━━━━━━━━━━━━━\u001b[0m\u001b[37m\u001b[0m \u001b[1m1s\u001b[0m 6ms/step - accuracy: 0.5237 - loss: 0.6917 - val_accuracy: 0.5021 - val_loss: 0.6958\n",
      "Epoch 20/20\n",
      "\u001b[1m88/88\u001b[0m \u001b[32m━━━━━━━━━━━━━━━━━━━━\u001b[0m\u001b[37m\u001b[0m \u001b[1m1s\u001b[0m 5ms/step - accuracy: 0.5530 - loss: 0.6889 - val_accuracy: 0.4993 - val_loss: 0.6949\n",
      "\u001b[1m23/23\u001b[0m \u001b[32m━━━━━━━━━━━━━━━━━━━━\u001b[0m\u001b[37m\u001b[0m \u001b[1m1s\u001b[0m 20ms/step\n",
      "LSTM Accuracy: 0.49929078014184397\n",
      "              precision    recall  f1-score   support\n",
      "\n",
      "           0       0.00      0.00      0.00       351\n",
      "           1       0.50      0.99      0.67       354\n",
      "\n",
      "    accuracy                           0.50       705\n",
      "   macro avg       0.25      0.50      0.33       705\n",
      "weighted avg       0.25      0.50      0.33       705\n",
      "\n"
     ]
    }
   ],
   "source": [
    "# Scale data for LSTM\n",
    "scaler = MinMaxScaler()\n",
    "X_train_scaled = scaler.fit_transform(X_train)\n",
    "X_test_scaled = scaler.transform(X_test)\n",
    "\n",
    "# Reshape data for LSTM (samples, timesteps, features)\n",
    "X_train_reshaped = X_train_scaled.reshape(X_train_scaled.shape[0], 1, X_train_scaled.shape[1])\n",
    "X_test_reshaped = X_test_scaled.reshape(X_test_scaled.shape[0], 1, X_test_scaled.shape[1])\n",
    "\n",
    "# Build the LSTM model\n",
    "lstm_model = Sequential([\n",
    "    LSTM(50, return_sequences=True, input_shape=(X_train_reshaped.shape[1], X_train_reshaped.shape[2])),\n",
    "    Dropout(0.2),\n",
    "    LSTM(50),\n",
    "    Dropout(0.2),\n",
    "    Dense(1, activation='sigmoid')\n",
    "])\n",
    "\n",
    "# Compile the model\n",
    "lstm_model.compile(loss='binary_crossentropy', optimizer='adam', metrics=['accuracy'])\n",
    "\n",
    "# Train the model\n",
    "lstm_model.fit(X_train_reshaped, y_train, epochs=20, batch_size=32, validation_data=(X_test_reshaped, y_test), verbose=1)\n",
    "\n",
    "# Make predictions\n",
    "lstm_predictions = (lstm_model.predict(X_test_reshaped) > 0.5).astype(int)\n",
    "\n",
    "# Evaluate the model\n",
    "lstm_accuracy = accuracy_score(y_test, lstm_predictions)\n",
    "print(f\"LSTM Accuracy: {lstm_accuracy}\")\n",
    "print(classification_report(y_test, lstm_predictions))"
   ]
  },
  {
   "cell_type": "code",
   "execution_count": 220,
   "id": "9adf0a42-9f88-488c-84d4-fb2967428cfa",
   "metadata": {},
   "outputs": [],
   "source": [
    "from sklearn.model_selection import cross_val_score, KFold"
   ]
  },
  {
   "cell_type": "code",
   "execution_count": 223,
   "id": "821b9865-7ddf-49b1-aa89-921721cb4f1c",
   "metadata": {},
   "outputs": [
    {
     "name": "stdout",
     "output_type": "stream",
     "text": [
      "\u001b[1m23/23\u001b[0m \u001b[32m━━━━━━━━━━━━━━━━━━━━\u001b[0m\u001b[37m\u001b[0m \u001b[1m0s\u001b[0m 3ms/step \n",
      "\u001b[1m22/22\u001b[0m \u001b[32m━━━━━━━━━━━━━━━━━━━━\u001b[0m\u001b[37m\u001b[0m \u001b[1m0s\u001b[0m 3ms/step \n",
      "\u001b[1m22/22\u001b[0m \u001b[32m━━━━━━━━━━━━━━━━━━━━\u001b[0m\u001b[37m\u001b[0m \u001b[1m0s\u001b[0m 3ms/step \n",
      "\u001b[1m22/22\u001b[0m \u001b[32m━━━━━━━━━━━━━━━━━━━━\u001b[0m\u001b[37m\u001b[0m \u001b[1m0s\u001b[0m 3ms/step \n",
      "\u001b[1m22/22\u001b[0m \u001b[32m━━━━━━━━━━━━━━━━━━━━\u001b[0m\u001b[37m\u001b[0m \u001b[1m0s\u001b[0m 3ms/step \n",
      "LSTM Cross-Validation Scores: [0.49645390070921985, 0.5411931818181818, 0.5696022727272727, 0.5553977272727273, 0.6051136363636364]\n",
      "LSTM Mean Accuracy: 0.5535521437782076\n",
      "LSTM Accuracy Standard Deviation: 0.035588070016927466\n"
     ]
    }
   ],
   "source": [
    "from sklearn.metrics import accuracy_score\n",
    "\n",
    "# Initialize lists to store cross-validation scores\n",
    "lstm_cv_scores = []\n",
    "\n",
    "# Perform cross-validation\n",
    "for train_index, test_index in kfold.split(X):\n",
    "    # Get data for current fold\n",
    "    X_train_fold, X_test_fold = X.iloc[train_index], X.iloc[test_index]\n",
    "    y_train_fold, y_test_fold = y.iloc[train_index], y.iloc[test_index]\n",
    "    \n",
    "    # Scale data for LSTM\n",
    "    X_train_fold_scaled = scaler.fit_transform(X_train_fold)\n",
    "    X_test_fold_scaled = scaler.transform(X_test_fold)\n",
    "    \n",
    "    # Reshape data for LSTM\n",
    "    X_train_fold_reshaped = X_train_fold_scaled.reshape(X_train_fold_scaled.shape[0], 1, X_train_fold_scaled.shape[1])\n",
    "    X_test_fold_reshaped = X_test_fold_scaled.reshape(X_test_fold_scaled.shape[0], 1, X_test_fold_scaled.shape[1])\n",
    "    \n",
    "    # Train the model\n",
    "    lstm_model.fit(X_train_fold_reshaped, y_train_fold, epochs=20, batch_size=32, verbose=0)  # Suppress verbose output\n",
    "\n",
    "    # Make predictions\n",
    "    lstm_predictions_fold = (lstm_model.predict(X_test_fold_reshaped) > 0.5).astype(int)\n",
    "    \n",
    "    # Calculate accuracy for current fold\n",
    "    accuracy_fold = accuracy_score(y_test_fold, lstm_predictions_fold)\n",
    "    \n",
    "    # Store the accuracy\n",
    "    lstm_cv_scores.append(accuracy_fold)\n",
    "\n",
    "# Print the cross-validation scores\n",
    "print(\"LSTM Cross-Validation Scores:\", lstm_cv_scores)\n",
    "print(\"LSTM Mean Accuracy:\", np.mean(lstm_cv_scores))\n",
    "print(\"LSTM Accuracy Standard Deviation:\", np.std(lstm_cv_scores))"
   ]
  },
  {
   "cell_type": "code",
   "execution_count": 227,
   "id": "13664181-9af4-483b-a1e5-9ce3cc07d6ad",
   "metadata": {},
   "outputs": [
    {
     "name": "stdout",
     "output_type": "stream",
     "text": [
      "          Date  Stocks_Direction\n",
      "0   2024-02-06                 0\n",
      "1   2024-02-07                 0\n",
      "2   2024-02-08                 0\n",
      "3   2024-02-09                 0\n",
      "4   2024-02-12                 0\n",
      "5   2024-02-13                 0\n",
      "6   2024-02-14                 0\n",
      "7   2024-02-15                 0\n",
      "8   2024-02-16                 0\n",
      "9   2024-02-20                 0\n",
      "10  2024-02-21                 0\n",
      "11  2024-02-22                 0\n",
      "12  2024-02-23                 0\n",
      "13  2024-02-26                 0\n"
     ]
    }
   ],
   "source": [
    "import pandas as pd\n",
    "from xgboost import XGBClassifier\n",
    "from sklearn.preprocessing import StandardScaler\n",
    "\n",
    "# Assuming you have the trained XGBoost model (xgb_model) and the latest data (pg_data)\n",
    "\n",
    "# Prepare the data for the forecast\n",
    "# Select the last 14 days of data for prediction\n",
    "last_14_days_data = pg_data.tail(14)\n",
    "\n",
    "# Select the features for prediction\n",
    "forecast_features = last_14_days_data[[\"Close\", \"High\", \"Low\", \"Open\", \"Volume\"]]\n",
    "\n",
    "# Scale the features using the same scaler used for training\n",
    "forecast_features_scaled = scaler.transform(forecast_features)\n",
    "\n",
    "# Make predictions for the next 14 days\n",
    "forecast_predictions = xgb_model.predict(forecast_features_scaled)\n",
    "\n",
    "# Create a DataFrame for the forecast results\n",
    "forecast_df = pd.DataFrame({'Date': last_14_days_data.index, 'Stocks_Direction': forecast_predictions})\n",
    "\n",
    "# Print the forecast\n",
    "print(forecast_df)"
   ]
  },
  {
   "cell_type": "code",
   "execution_count": null,
   "id": "34d6d1bb-c6c4-438e-9243-1a5954ffd133",
   "metadata": {},
   "outputs": [],
   "source": []
  }
 ],
 "metadata": {
  "kernelspec": {
   "display_name": "Python 3 (ipykernel)",
   "language": "python",
   "name": "python3"
  },
  "language_info": {
   "codemirror_mode": {
    "name": "ipython",
    "version": 3
   },
   "file_extension": ".py",
   "mimetype": "text/x-python",
   "name": "python",
   "nbconvert_exporter": "python",
   "pygments_lexer": "ipython3",
   "version": "3.12.7"
  }
 },
 "nbformat": 4,
 "nbformat_minor": 5
}
