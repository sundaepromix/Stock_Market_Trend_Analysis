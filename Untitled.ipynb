{
 "cells": [
  {
   "cell_type": "code",
   "execution_count": null,
   "id": "3f5a81b8-915e-4f7f-8f33-78af8f6e044b",
   "metadata": {},
   "outputs": [],
   "source": []
  },
  {
   "cell_type": "code",
   "execution_count": null,
   "id": "1160f35e-7442-489e-ab91-d9d57c714ebf",
   "metadata": {},
   "outputs": [],
   "source": []
  },
  {
   "cell_type": "code",
   "execution_count": 1,
   "id": "a89d5cc0-0e7c-4748-a3a8-0692e3eee4e3",
   "metadata": {},
   "outputs": [],
   "source": [
    "import pandas as pd\n",
    "import numpy as np\n",
    "from sklearn.model_selection import train_test_split\n",
    "import xgboost as xgb\n",
    "from sklearn.metrics import accuracy_score, classification_report\n",
    "from sklearn.preprocessing import MinMaxScaler\n",
    "from imblearn.over_sampling import SMOTE\n",
    "from tensorflow.keras.models import Sequential\n",
    "from tensorflow.keras.layers import LSTM, Dense, Dropout, Bidirectional\n",
    "from tensorflow.keras.callbacks import EarlyStopping, ReduceLROnPlateau"
   ]
  },
  {
   "cell_type": "code",
   "execution_count": 2,
   "id": "d3711446-7c57-4839-ac23-1e13116e6032",
   "metadata": {},
   "outputs": [],
   "source": [
    "# Create features for prediction\n",
    "def create_features(df):\n",
    "    df['SMA_5'] = df['Close'].rolling(window=5).mean()\n",
    "    df['SMA_20'] = df['Close'].rolling(window=20).mean()\n",
    "    df['Daily_Range'] = df['High'] - df['Low']\n",
    "    df['Volume_SMA_5'] = df['Volume'].rolling(window=5).mean()\n",
    "    df['Return_Volatility'] = df['Returns'].rolling(window=10).std()\n",
    "\n",
    "    # Additional indicators\n",
    "    df['RSI_14'] = compute_rsi(df['Close'], 14)\n",
    "    df['Momentum_10'] = df['Close'] - df['Close'].shift(10)\n",
    "    \n",
    "    return df.dropna()"
   ]
  },
  {
   "cell_type": "code",
   "execution_count": 3,
   "id": "918353f6-1322-473b-8ce0-4bd1eb2671ef",
   "metadata": {},
   "outputs": [],
   "source": [
    "# RSI Calculation\n",
    "def compute_rsi(series, period=14):\n",
    "    delta = series.diff(1)\n",
    "    gain = (delta.where(delta > 0, 0)).rolling(window=period).mean()\n",
    "    loss = (-delta.where(delta < 0, 0)).rolling(window=period).mean()\n",
    "    rs = gain / loss\n",
    "    return 100 - (100 / (1 + rs))"
   ]
  },
  {
   "cell_type": "code",
   "execution_count": 4,
   "id": "874b2fc3-6ac4-4dd3-86de-148c2172019f",
   "metadata": {},
   "outputs": [],
   "source": [
    "# Load and preprocess data\n",
    "PG_data = pd.read_csv('PG_data.csv')\n",
    "PG_data = create_features(PG_data)\n",
    "\n",
    "features = ['Open', 'High', 'Low', 'Close', 'Volume', 'Returns',\n",
    "            'SMA_5', 'SMA_20', 'Daily_Range', 'Volume_SMA_5', \n",
    "            'Return_Volatility', 'RSI_14', 'Momentum_10']\n",
    "\n",
    "X = PG_data[features]\n",
    "y = PG_data['Stock_Direction']"
   ]
  },
  {
   "cell_type": "code",
   "execution_count": 5,
   "id": "36083257-e172-47f3-a38a-287847a31bbb",
   "metadata": {},
   "outputs": [],
   "source": [
    "# Train-test split (time series order)\n",
    "split_index = int(len(X) * 0.8)\n",
    "X_train, X_test = X[:split_index], X[split_index:]\n",
    "y_train, y_test = y[:split_index], y[split_index:]"
   ]
  },
  {
   "cell_type": "code",
   "execution_count": 6,
   "id": "ce9a9070-3c99-4247-840f-9331cbf113c3",
   "metadata": {},
   "outputs": [],
   "source": [
    "# Handle class imbalance using SMOTE\n",
    "smote = SMOTE(random_state=42)\n",
    "X_train_resampled, y_train_resampled = smote.fit_resample(X_train, y_train)"
   ]
  },
  {
   "cell_type": "code",
   "execution_count": 7,
   "id": "7b6816e8-ff7d-447d-a3d9-d1ea00d451ed",
   "metadata": {},
   "outputs": [],
   "source": [
    "# Train XGBoost model with optimized hyperparameters\n",
    "xgb_model = xgb.XGBClassifier(\n",
    "    learning_rate=0.005,\n",
    "    n_estimators=300,\n",
    "    max_depth=6,\n",
    "    min_child_weight=2,\n",
    "    subsample=0.8,\n",
    "    colsample_bytree=0.8,\n",
    "    scale_pos_weight=1.5,\n",
    "    random_state=42\n",
    ")\n",
    "\n",
    "xgb_model.fit(X_train_resampled, y_train_resampled)\n",
    "xgb_predictions = xgb_model.predict(X_test)"
   ]
  },
  {
   "cell_type": "code",
   "execution_count": 8,
   "id": "10bd0379-b10e-4100-9b8c-fe072df268e2",
   "metadata": {},
   "outputs": [
    {
     "name": "stdout",
     "output_type": "stream",
     "text": [
      "\n",
      "XGBoost Model Performance:\n",
      "Accuracy: 0.5035663338088445\n",
      "\n",
      "Detailed Classification Report:\n",
      "              precision    recall  f1-score   support\n",
      "\n",
      "           0       0.46      0.51      0.49       323\n",
      "           1       0.54      0.50      0.52       378\n",
      "\n",
      "    accuracy                           0.50       701\n",
      "   macro avg       0.50      0.50      0.50       701\n",
      "weighted avg       0.51      0.50      0.50       701\n",
      "\n"
     ]
    }
   ],
   "source": [
    "# Evaluate XGBoost\n",
    "print(\"\\nXGBoost Model Performance:\")\n",
    "print(\"Accuracy:\", accuracy_score(y_test, xgb_predictions))\n",
    "print(\"\\nDetailed Classification Report:\")\n",
    "print(classification_report(y_test, xgb_predictions))"
   ]
  },
  {
   "cell_type": "code",
   "execution_count": 9,
   "id": "b4579f8c-71f4-4255-90d6-64d1c0fa4da3",
   "metadata": {},
   "outputs": [],
   "source": [
    "# Normalize features for LSTM\n",
    "scaler = MinMaxScaler()\n",
    "X_scaled = scaler.fit_transform(X)"
   ]
  },
  {
   "cell_type": "code",
   "execution_count": 10,
   "id": "9394d3fe-3cd2-415c-8aed-15447232ce34",
   "metadata": {},
   "outputs": [],
   "source": [
    "# Create sequences for LSTM\n",
    "def create_sequences(data, labels, seq_length=10):\n",
    "    sequences, targets = [], []\n",
    "    for i in range(len(data) - seq_length):\n",
    "        sequences.append(data[i:i + seq_length])\n",
    "        targets.append(labels.iloc[i + seq_length])\n",
    "    return np.array(sequences), np.array(targets)\n",
    "\n",
    "X_seq, y_seq = create_sequences(X_scaled, y)"
   ]
  },
  {
   "cell_type": "code",
   "execution_count": 11,
   "id": "f318a605-225d-4af4-af0f-84dafc7d85bb",
   "metadata": {},
   "outputs": [],
   "source": [
    "# Train-test split for sequences\n",
    "split_idx = int(len(X_seq) * 0.8)\n",
    "X_train_seq, X_test_seq = X_seq[:split_idx], X_seq[split_idx:]\n",
    "y_train_seq, y_test_seq = y_seq[:split_idx], y_seq[split_idx:]"
   ]
  },
  {
   "cell_type": "code",
   "execution_count": 12,
   "id": "3c2e5ae0-9f61-46f5-b589-b63dc8b718dd",
   "metadata": {},
   "outputs": [
    {
     "name": "stderr",
     "output_type": "stream",
     "text": [
      "C:\\Users\\Promise Sunday\\AppData\\Local\\Programs\\Python\\Python312\\Lib\\site-packages\\keras\\src\\layers\\rnn\\bidirectional.py:107: UserWarning: Do not pass an `input_shape`/`input_dim` argument to a layer. When using Sequential models, prefer using an `Input(shape)` object as the first layer in the model instead.\n",
      "  super().__init__(**kwargs)\n"
     ]
    }
   ],
   "source": [
    "# Build improved LSTM model\n",
    "lstm_model = Sequential([\n",
    "    Bidirectional(LSTM(64, return_sequences=True, activation='relu'), input_shape=(10, len(features))),\n",
    "    Dropout(0.3),\n",
    "    Bidirectional(LSTM(32, activation='relu')),\n",
    "    Dropout(0.3),\n",
    "    Dense(1, activation='sigmoid')\n",
    "])\n",
    "\n",
    "lstm_model.compile(optimizer='adam', loss='binary_crossentropy', metrics=['accuracy'])"
   ]
  },
  {
   "cell_type": "code",
   "execution_count": 13,
   "id": "d5433fbb-f26c-44a0-9883-33eba3658766",
   "metadata": {},
   "outputs": [],
   "source": [
    "# Callbacks\n",
    "early_stop = EarlyStopping(monitor='val_loss', patience=5, restore_best_weights=True)\n",
    "reduce_lr = ReduceLROnPlateau(monitor='val_loss', factor=0.2, patience=3, min_lr=1e-5)"
   ]
  },
  {
   "cell_type": "code",
   "execution_count": 14,
   "id": "c6a5a956-b22a-4adf-84db-ba345f96b36e",
   "metadata": {},
   "outputs": [
    {
     "name": "stdout",
     "output_type": "stream",
     "text": [
      "Epoch 1/100\n",
      "\u001b[1m79/79\u001b[0m \u001b[32m━━━━━━━━━━━━━━━━━━━━\u001b[0m\u001b[37m\u001b[0m \u001b[1m22s\u001b[0m 57ms/step - accuracy: 0.5072 - loss: 0.6936 - val_accuracy: 0.5286 - val_loss: 0.6919 - learning_rate: 0.0010\n",
      "Epoch 2/100\n",
      "\u001b[1m79/79\u001b[0m \u001b[32m━━━━━━━━━━━━━━━━━━━━\u001b[0m\u001b[37m\u001b[0m \u001b[1m2s\u001b[0m 29ms/step - accuracy: 0.5235 - loss: 0.6923 - val_accuracy: 0.5286 - val_loss: 0.6935 - learning_rate: 0.0010\n",
      "Epoch 3/100\n",
      "\u001b[1m79/79\u001b[0m \u001b[32m━━━━━━━━━━━━━━━━━━━━\u001b[0m\u001b[37m\u001b[0m \u001b[1m2s\u001b[0m 29ms/step - accuracy: 0.5237 - loss: 0.6910 - val_accuracy: 0.5286 - val_loss: 0.6922 - learning_rate: 0.0010\n",
      "Epoch 4/100\n",
      "\u001b[1m79/79\u001b[0m \u001b[32m━━━━━━━━━━━━━━━━━━━━\u001b[0m\u001b[37m\u001b[0m \u001b[1m2s\u001b[0m 28ms/step - accuracy: 0.5075 - loss: 0.6939 - val_accuracy: 0.5286 - val_loss: 0.6923 - learning_rate: 0.0010\n",
      "Epoch 5/100\n",
      "\u001b[1m79/79\u001b[0m \u001b[32m━━━━━━━━━━━━━━━━━━━━\u001b[0m\u001b[37m\u001b[0m \u001b[1m2s\u001b[0m 29ms/step - accuracy: 0.5027 - loss: 0.6933 - val_accuracy: 0.5286 - val_loss: 0.6925 - learning_rate: 2.0000e-04\n",
      "Epoch 6/100\n",
      "\u001b[1m79/79\u001b[0m \u001b[32m━━━━━━━━━━━━━━━━━━━━\u001b[0m\u001b[37m\u001b[0m \u001b[1m3s\u001b[0m 34ms/step - accuracy: 0.5106 - loss: 0.6934 - val_accuracy: 0.5286 - val_loss: 0.6924 - learning_rate: 2.0000e-04\n"
     ]
    }
   ],
   "source": [
    "# Train LSTM model\n",
    "history = lstm_model.fit(\n",
    "    X_train_seq, y_train_seq,\n",
    "    epochs=100,\n",
    "    batch_size=32,\n",
    "    validation_split=0.1,\n",
    "    callbacks=[early_stop, reduce_lr],\n",
    "    verbose=1\n",
    ")"
   ]
  },
  {
   "cell_type": "code",
   "execution_count": 15,
   "id": "f754fea5-2dec-4c6a-a838-3fee0e8b8338",
   "metadata": {},
   "outputs": [
    {
     "name": "stdout",
     "output_type": "stream",
     "text": [
      "\u001b[1m22/22\u001b[0m \u001b[32m━━━━━━━━━━━━━━━━━━━━\u001b[0m\u001b[37m\u001b[0m \u001b[1m3s\u001b[0m 81ms/step\n",
      "\n",
      "LSTM Model Performance:\n",
      "Accuracy: 0.5393419170243204\n",
      "\n",
      "Detailed Classification Report:\n",
      "              precision    recall  f1-score   support\n",
      "\n",
      "           0       0.00      0.00      0.00       322\n",
      "           1       0.54      1.00      0.70       377\n",
      "\n",
      "    accuracy                           0.54       699\n",
      "   macro avg       0.27      0.50      0.35       699\n",
      "weighted avg       0.29      0.54      0.38       699\n",
      "\n"
     ]
    },
    {
     "name": "stderr",
     "output_type": "stream",
     "text": [
      "C:\\Users\\Promise Sunday\\AppData\\Local\\Programs\\Python\\Python312\\Lib\\site-packages\\sklearn\\metrics\\_classification.py:1471: UndefinedMetricWarning: Precision and F-score are ill-defined and being set to 0.0 in labels with no predicted samples. Use `zero_division` parameter to control this behavior.\n",
      "  _warn_prf(average, modifier, msg_start, len(result))\n",
      "C:\\Users\\Promise Sunday\\AppData\\Local\\Programs\\Python\\Python312\\Lib\\site-packages\\sklearn\\metrics\\_classification.py:1471: UndefinedMetricWarning: Precision and F-score are ill-defined and being set to 0.0 in labels with no predicted samples. Use `zero_division` parameter to control this behavior.\n",
      "  _warn_prf(average, modifier, msg_start, len(result))\n",
      "C:\\Users\\Promise Sunday\\AppData\\Local\\Programs\\Python\\Python312\\Lib\\site-packages\\sklearn\\metrics\\_classification.py:1471: UndefinedMetricWarning: Precision and F-score are ill-defined and being set to 0.0 in labels with no predicted samples. Use `zero_division` parameter to control this behavior.\n",
      "  _warn_prf(average, modifier, msg_start, len(result))\n"
     ]
    }
   ],
   "source": [
    "# Evaluate LSTM\n",
    "lstm_predictions = (lstm_model.predict(X_test_seq) > 0.5).astype(int)\n",
    "\n",
    "print(\"\\nLSTM Model Performance:\")\n",
    "print(\"Accuracy:\", accuracy_score(y_test_seq, lstm_predictions))\n",
    "print(\"\\nDetailed Classification Report:\")\n",
    "print(classification_report(y_test_seq, lstm_predictions))"
   ]
  },
  {
   "cell_type": "code",
   "execution_count": null,
   "id": "d866c97d-7adb-4220-bdbc-e0b7b1352a38",
   "metadata": {},
   "outputs": [],
   "source": []
  },
  {
   "cell_type": "code",
   "execution_count": null,
   "id": "e4e4a089-7612-4e03-8e70-08abba2963c4",
   "metadata": {},
   "outputs": [],
   "source": []
  }
 ],
 "metadata": {
  "kernelspec": {
   "display_name": "Python 3 (ipykernel)",
   "language": "python",
   "name": "python3"
  },
  "language_info": {
   "codemirror_mode": {
    "name": "ipython",
    "version": 3
   },
   "file_extension": ".py",
   "mimetype": "text/x-python",
   "name": "python",
   "nbconvert_exporter": "python",
   "pygments_lexer": "ipython3",
   "version": "3.12.8"
  }
 },
 "nbformat": 4,
 "nbformat_minor": 5
}
