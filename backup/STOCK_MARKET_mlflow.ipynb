{
 "cells": [
  {
   "cell_type": "code",
   "execution_count": 1,
   "id": "3349317d-8af8-4f75-8319-f3e012fc3608",
   "metadata": {
    "id": "3349317d-8af8-4f75-8319-f3e012fc3608"
   },
   "outputs": [],
   "source": [
    "import yfinance as yf\n",
    "import pandas as pd\n",
    "import numpy as np\n",
    "import matplotlib.pyplot as plt\n",
    "import plotly.express as px\n",
    "import plotly.graph_objects as go\n",
    "import datetime\n",
    "import seaborn as sns\n",
    "sns.set_style('whitegrid')\n",
    "from plotly.subplots import make_subplots"
   ]
  },
  {
   "cell_type": "code",
   "execution_count": 2,
   "id": "aa053598-5163-4bba-8d95-ec51ea52cc69",
   "metadata": {
    "colab": {
     "base_uri": "https://localhost:8080/",
     "height": 36
    },
    "id": "aa053598-5163-4bba-8d95-ec51ea52cc69",
    "outputId": "9ff785e4-2b58-4201-de7f-a364534a3fc1"
   },
   "outputs": [
    {
     "data": {
      "text/plain": [
       "'0.2.51'"
      ]
     },
     "execution_count": 2,
     "metadata": {},
     "output_type": "execute_result"
    }
   ],
   "source": [
    "yf.__version__"
   ]
  },
  {
   "cell_type": "code",
   "execution_count": 3,
   "id": "94aee67d-deff-43f2-8354-5a14e401193b",
   "metadata": {
    "colab": {
     "base_uri": "https://localhost:8080/"
    },
    "id": "94aee67d-deff-43f2-8354-5a14e401193b",
    "outputId": "536e677b-d920-43c7-c19e-6c1e435d18ac"
   },
   "outputs": [
    {
     "name": "stderr",
     "output_type": "stream",
     "text": [
      "\n",
      "\n",
      "1 Failed download:\n",
      "['PG']: ConnectTimeout(MaxRetryError(\"HTTPSConnectionPool(host='fc.yahoo.com', port=443): Max retries exceeded with url: / (Caused by ConnectTimeoutError(<urllib3.connection.HTTPSConnection object at 0x000001C0BE129F40>, 'Connection to fc.yahoo.com timed out. (connect timeout=30)'))\"))\n"
     ]
    },
    {
     "name": "stdout",
     "output_type": "stream",
     "text": [
      "Downloaded PG\n"
     ]
    },
    {
     "name": "stderr",
     "output_type": "stream",
     "text": [
      "\n",
      "\n",
      "1 Failed download:\n",
      "['JNJ']: ConnectTimeout(MaxRetryError(\"HTTPSConnectionPool(host='query1.finance.yahoo.com', port=443): Max retries exceeded with url: /v1/test/getcrumb (Caused by ConnectTimeoutError(<urllib3.connection.HTTPSConnection object at 0x000001C0BE5A5D60>, 'Connection to query1.finance.yahoo.com timed out. (connect timeout=30)'))\"))\n"
     ]
    },
    {
     "name": "stdout",
     "output_type": "stream",
     "text": [
      "Downloaded JNJ\n"
     ]
    },
    {
     "name": "stderr",
     "output_type": "stream",
     "text": [
      "[*********************100%***********************]  1 of 1 completed"
     ]
    },
    {
     "name": "stdout",
     "output_type": "stream",
     "text": [
      "Downloaded ^GSPC\n"
     ]
    },
    {
     "name": "stderr",
     "output_type": "stream",
     "text": [
      "\n"
     ]
    }
   ],
   "source": [
    "# Define stock tickers and date range\n",
    "tickers = ['PG', 'JNJ',\n",
    "           '^GSPC']\n",
    "start_date = '2010-03-02'\n",
    "end_date = '2024-02-28'\n",
    "\n",
    "# Fetch data\n",
    "stock_data = {}\n",
    "for ticker in tickers:\n",
    "    stock_data[ticker] = yf.download(ticker, start=start_date, end=end_date)\n",
    "    print(f\"Downloaded {ticker}\")\n",
    "\n",
    "# Save individual CSVs (optional)\n",
    "for ticker, data in stock_data.items():\n",
    "   data.to_csv(f\"{ticker}_data.csv\")"
   ]
  },
  {
   "cell_type": "markdown",
   "id": "TMhZjs-B8-Gz",
   "metadata": {
    "id": "TMhZjs-B8-Gz"
   },
   "source": []
  },
  {
   "cell_type": "code",
   "execution_count": 4,
   "id": "2d080c90-8bf7-42d8-a545-390097420556",
   "metadata": {
    "id": "2d080c90-8bf7-42d8-a545-390097420556"
   },
   "outputs": [],
   "source": [
    "# Convert 'Date' column to datetime objects with UTC timezone and extract the date\n",
    "for ticker, data in stock_data.items():\n",
    "    # The index is already a DatetimeIndex, so we can access the date directly\n",
    "    data['Date'] = data.index.date\n",
    "    stock_data[ticker] = data.set_index('Date')  # Set 'Date' as index for each stock DataFrame"
   ]
  },
  {
   "cell_type": "code",
   "execution_count": 5,
   "id": "68b0ab8c-a37c-4a1b-a5f6-577ce7259727",
   "metadata": {
    "colab": {
     "base_uri": "https://localhost:8080/",
     "height": 237
    },
    "id": "68b0ab8c-a37c-4a1b-a5f6-577ce7259727",
    "outputId": "5c6a7d59-6945-45c9-babf-eebf633c3fd1"
   },
   "outputs": [
    {
     "data": {
      "text/html": [
       "<div>\n",
       "<style scoped>\n",
       "    .dataframe tbody tr th:only-of-type {\n",
       "        vertical-align: middle;\n",
       "    }\n",
       "\n",
       "    .dataframe tbody tr th {\n",
       "        vertical-align: top;\n",
       "    }\n",
       "\n",
       "    .dataframe thead th {\n",
       "        text-align: right;\n",
       "    }\n",
       "</style>\n",
       "<table border=\"1\" class=\"dataframe\">\n",
       "  <thead>\n",
       "    <tr style=\"text-align: right;\">\n",
       "      <th>Price</th>\n",
       "      <th>Adj Close</th>\n",
       "      <th>Close</th>\n",
       "      <th>High</th>\n",
       "      <th>Low</th>\n",
       "      <th>Open</th>\n",
       "      <th>Volume</th>\n",
       "    </tr>\n",
       "    <tr>\n",
       "      <th>Date</th>\n",
       "      <th></th>\n",
       "      <th></th>\n",
       "      <th></th>\n",
       "      <th></th>\n",
       "      <th></th>\n",
       "      <th></th>\n",
       "    </tr>\n",
       "  </thead>\n",
       "  <tbody>\n",
       "  </tbody>\n",
       "</table>\n",
       "</div>"
      ],
      "text/plain": [
       "Empty DataFrame\n",
       "Columns: [Adj Close, Close, High, Low, Open, Volume]\n",
       "Index: []"
      ]
     },
     "execution_count": 5,
     "metadata": {},
     "output_type": "execute_result"
    }
   ],
   "source": [
    "#Fetch data for PG\n",
    "pg_data = stock_data['PG']\n",
    "pg_data = pg_data.xs('PG',axis=1,level='Ticker')\n",
    "pg_data.head()"
   ]
  },
  {
   "cell_type": "code",
   "execution_count": 6,
   "id": "c193f759-9590-4834-89a8-03d469e3c072",
   "metadata": {
    "colab": {
     "base_uri": "https://localhost:8080/",
     "height": 237
    },
    "id": "c193f759-9590-4834-89a8-03d469e3c072",
    "outputId": "96cbcf1b-2e4c-4f8d-a02a-32bcb428e8df"
   },
   "outputs": [
    {
     "data": {
      "text/html": [
       "<div>\n",
       "<style scoped>\n",
       "    .dataframe tbody tr th:only-of-type {\n",
       "        vertical-align: middle;\n",
       "    }\n",
       "\n",
       "    .dataframe tbody tr th {\n",
       "        vertical-align: top;\n",
       "    }\n",
       "\n",
       "    .dataframe thead th {\n",
       "        text-align: right;\n",
       "    }\n",
       "</style>\n",
       "<table border=\"1\" class=\"dataframe\">\n",
       "  <thead>\n",
       "    <tr style=\"text-align: right;\">\n",
       "      <th>Price</th>\n",
       "      <th>Adj Close</th>\n",
       "      <th>Close</th>\n",
       "      <th>High</th>\n",
       "      <th>Low</th>\n",
       "      <th>Open</th>\n",
       "      <th>Volume</th>\n",
       "    </tr>\n",
       "    <tr>\n",
       "      <th>Date</th>\n",
       "      <th></th>\n",
       "      <th></th>\n",
       "      <th></th>\n",
       "      <th></th>\n",
       "      <th></th>\n",
       "      <th></th>\n",
       "    </tr>\n",
       "  </thead>\n",
       "  <tbody>\n",
       "  </tbody>\n",
       "</table>\n",
       "</div>"
      ],
      "text/plain": [
       "Empty DataFrame\n",
       "Columns: [Adj Close, Close, High, Low, Open, Volume]\n",
       "Index: []"
      ]
     },
     "execution_count": 6,
     "metadata": {},
     "output_type": "execute_result"
    }
   ],
   "source": [
    "# Fetch data for JNJ\n",
    "jnj_data = stock_data['JNJ']\n",
    "jnj_data = jnj_data.xs('JNJ',axis=1,level='Ticker')\n",
    "jnj_data.head()"
   ]
  },
  {
   "cell_type": "code",
   "execution_count": 7,
   "id": "f1fc502b-b561-457c-8443-0337b146d269",
   "metadata": {
    "colab": {
     "base_uri": "https://localhost:8080/",
     "height": 237
    },
    "id": "f1fc502b-b561-457c-8443-0337b146d269",
    "outputId": "c7ccd57f-052d-4ab1-ecd0-ac46f5acd0e7"
   },
   "outputs": [
    {
     "data": {
      "text/html": [
       "<div>\n",
       "<style scoped>\n",
       "    .dataframe tbody tr th:only-of-type {\n",
       "        vertical-align: middle;\n",
       "    }\n",
       "\n",
       "    .dataframe tbody tr th {\n",
       "        vertical-align: top;\n",
       "    }\n",
       "\n",
       "    .dataframe thead th {\n",
       "        text-align: right;\n",
       "    }\n",
       "</style>\n",
       "<table border=\"1\" class=\"dataframe\">\n",
       "  <thead>\n",
       "    <tr style=\"text-align: right;\">\n",
       "      <th>Price</th>\n",
       "      <th>Close</th>\n",
       "      <th>High</th>\n",
       "      <th>Low</th>\n",
       "      <th>Open</th>\n",
       "      <th>Volume</th>\n",
       "    </tr>\n",
       "    <tr>\n",
       "      <th>Date</th>\n",
       "      <th></th>\n",
       "      <th></th>\n",
       "      <th></th>\n",
       "      <th></th>\n",
       "      <th></th>\n",
       "    </tr>\n",
       "  </thead>\n",
       "  <tbody>\n",
       "    <tr>\n",
       "      <th>2010-03-02</th>\n",
       "      <td>1118.310059</td>\n",
       "      <td>1123.459961</td>\n",
       "      <td>1116.510010</td>\n",
       "      <td>1117.010010</td>\n",
       "      <td>4134680000</td>\n",
       "    </tr>\n",
       "    <tr>\n",
       "      <th>2010-03-03</th>\n",
       "      <td>1118.790039</td>\n",
       "      <td>1125.640015</td>\n",
       "      <td>1116.579956</td>\n",
       "      <td>1119.359985</td>\n",
       "      <td>3951320000</td>\n",
       "    </tr>\n",
       "    <tr>\n",
       "      <th>2010-03-04</th>\n",
       "      <td>1122.969971</td>\n",
       "      <td>1123.729980</td>\n",
       "      <td>1116.660034</td>\n",
       "      <td>1119.119995</td>\n",
       "      <td>3945010000</td>\n",
       "    </tr>\n",
       "    <tr>\n",
       "      <th>2010-03-05</th>\n",
       "      <td>1138.699951</td>\n",
       "      <td>1139.380005</td>\n",
       "      <td>1125.119995</td>\n",
       "      <td>1125.119995</td>\n",
       "      <td>4133000000</td>\n",
       "    </tr>\n",
       "    <tr>\n",
       "      <th>2010-03-08</th>\n",
       "      <td>1138.500000</td>\n",
       "      <td>1141.050049</td>\n",
       "      <td>1136.770020</td>\n",
       "      <td>1138.400024</td>\n",
       "      <td>3774680000</td>\n",
       "    </tr>\n",
       "  </tbody>\n",
       "</table>\n",
       "</div>"
      ],
      "text/plain": [
       "Price             Close         High          Low         Open      Volume\n",
       "Date                                                                      \n",
       "2010-03-02  1118.310059  1123.459961  1116.510010  1117.010010  4134680000\n",
       "2010-03-03  1118.790039  1125.640015  1116.579956  1119.359985  3951320000\n",
       "2010-03-04  1122.969971  1123.729980  1116.660034  1119.119995  3945010000\n",
       "2010-03-05  1138.699951  1139.380005  1125.119995  1125.119995  4133000000\n",
       "2010-03-08  1138.500000  1141.050049  1136.770020  1138.400024  3774680000"
      ]
     },
     "execution_count": 7,
     "metadata": {},
     "output_type": "execute_result"
    }
   ],
   "source": [
    "# Fetch data for'^GSPC'\n",
    "gspc_data = stock_data['^GSPC']\n",
    "gspc_data = gspc_data.xs('^GSPC',axis=1,level='Ticker')\n",
    "gspc_data.head()"
   ]
  },
  {
   "cell_type": "markdown",
   "id": "c46259a0-5c55-47a8-9c3c-d4e585a38d50",
   "metadata": {
    "id": "c46259a0-5c55-47a8-9c3c-d4e585a38d50"
   },
   "source": [
    "Feature Engineering:\n",
    "\n",
    "Computing the stocks the \"Returns\" feature\n",
    "\n",
    "Creating a “Tomorrow” column\n",
    "\n",
    "Creating a “stocks-Direction” column\n",
    "\n",
    "Computing the Return, Tomorrow, and Stock_Direction columns for each stocks"
   ]
  },
  {
   "cell_type": "code",
   "execution_count": 9,
   "id": "621d526d-91b1-42df-a033-a7945a30a07d",
   "metadata": {
    "id": "621d526d-91b1-42df-a033-a7945a30a07d"
   },
   "outputs": [
    {
     "ename": "ValueError",
     "evalue": "attempt to get argmax of an empty sequence",
     "output_type": "error",
     "traceback": [
      "\u001b[1;31m---------------------------------------------------------------------------\u001b[0m",
      "\u001b[1;31mValueError\u001b[0m                                Traceback (most recent call last)",
      "Cell \u001b[1;32mIn[9], line 8\u001b[0m\n\u001b[0;32m      5\u001b[0m pg_data \u001b[38;5;241m=\u001b[39m pg_data\u001b[38;5;241m.\u001b[39mdropna(subset\u001b[38;5;241m=\u001b[39m[\u001b[38;5;124m'\u001b[39m\u001b[38;5;124mClose\u001b[39m\u001b[38;5;124m'\u001b[39m])\n\u001b[0;32m      7\u001b[0m \u001b[38;5;66;03m# Compute percentage change\u001b[39;00m\n\u001b[1;32m----> 8\u001b[0m pg_data[\u001b[38;5;124m'\u001b[39m\u001b[38;5;124mReturn\u001b[39m\u001b[38;5;124m'\u001b[39m] \u001b[38;5;241m=\u001b[39m \u001b[43mpg_data\u001b[49m\u001b[43m[\u001b[49m\u001b[38;5;124;43m'\u001b[39;49m\u001b[38;5;124;43mClose\u001b[39;49m\u001b[38;5;124;43m'\u001b[39;49m\u001b[43m]\u001b[49m\u001b[38;5;241;43m.\u001b[39;49m\u001b[43mpct_change\u001b[49m\u001b[43m(\u001b[49m\u001b[43m)\u001b[49m\n\u001b[0;32m     10\u001b[0m \u001b[38;5;66;03m# Shift 'Close' column to get tomorrow's value\u001b[39;00m\n\u001b[0;32m     11\u001b[0m pg_data[\u001b[38;5;124m'\u001b[39m\u001b[38;5;124mTomorrow\u001b[39m\u001b[38;5;124m'\u001b[39m] \u001b[38;5;241m=\u001b[39m pg_data[\u001b[38;5;124m'\u001b[39m\u001b[38;5;124mClose\u001b[39m\u001b[38;5;124m'\u001b[39m]\u001b[38;5;241m.\u001b[39mshift(\u001b[38;5;241m-\u001b[39m\u001b[38;5;241m1\u001b[39m)\n",
      "File \u001b[1;32m~\\AppData\\Local\\Programs\\Python\\Python312\\Lib\\site-packages\\pandas\\core\\generic.py:11704\u001b[0m, in \u001b[0;36mNDFrame.pct_change\u001b[1;34m(self, periods, fill_method, limit, freq, **kwargs)\u001b[0m\n\u001b[0;32m  11702\u001b[0m \u001b[38;5;28;01mfor\u001b[39;00m _, col \u001b[38;5;129;01min\u001b[39;00m cols:\n\u001b[0;32m  11703\u001b[0m     mask \u001b[38;5;241m=\u001b[39m col\u001b[38;5;241m.\u001b[39misna()\u001b[38;5;241m.\u001b[39mvalues\n\u001b[1;32m> 11704\u001b[0m     mask \u001b[38;5;241m=\u001b[39m mask[\u001b[43mnp\u001b[49m\u001b[38;5;241;43m.\u001b[39;49m\u001b[43margmax\u001b[49m\u001b[43m(\u001b[49m\u001b[38;5;241;43m~\u001b[39;49m\u001b[43mmask\u001b[49m\u001b[43m)\u001b[49m :]\n\u001b[0;32m  11705\u001b[0m     \u001b[38;5;28;01mif\u001b[39;00m mask\u001b[38;5;241m.\u001b[39many():\n\u001b[0;32m  11706\u001b[0m         warnings\u001b[38;5;241m.\u001b[39mwarn(\n\u001b[0;32m  11707\u001b[0m             \u001b[38;5;124m\"\u001b[39m\u001b[38;5;124mThe default fill_method=\u001b[39m\u001b[38;5;124m'\u001b[39m\u001b[38;5;124mpad\u001b[39m\u001b[38;5;124m'\u001b[39m\u001b[38;5;124m in \u001b[39m\u001b[38;5;124m\"\u001b[39m\n\u001b[0;32m  11708\u001b[0m             \u001b[38;5;124mf\u001b[39m\u001b[38;5;124m\"\u001b[39m\u001b[38;5;132;01m{\u001b[39;00m\u001b[38;5;28mtype\u001b[39m(\u001b[38;5;28mself\u001b[39m)\u001b[38;5;241m.\u001b[39m\u001b[38;5;18m__name__\u001b[39m\u001b[38;5;132;01m}\u001b[39;00m\u001b[38;5;124m.pct_change is deprecated and will \u001b[39m\u001b[38;5;124m\"\u001b[39m\n\u001b[1;32m   (...)\u001b[0m\n\u001b[0;32m  11713\u001b[0m             stacklevel\u001b[38;5;241m=\u001b[39mfind_stack_level(),\n\u001b[0;32m  11714\u001b[0m         )\n",
      "File \u001b[1;32m~\\AppData\\Local\\Programs\\Python\\Python312\\Lib\\site-packages\\numpy\\core\\fromnumeric.py:1229\u001b[0m, in \u001b[0;36margmax\u001b[1;34m(a, axis, out, keepdims)\u001b[0m\n\u001b[0;32m   1142\u001b[0m \u001b[38;5;250m\u001b[39m\u001b[38;5;124;03m\"\"\"\u001b[39;00m\n\u001b[0;32m   1143\u001b[0m \u001b[38;5;124;03mReturns the indices of the maximum values along an axis.\u001b[39;00m\n\u001b[0;32m   1144\u001b[0m \n\u001b[1;32m   (...)\u001b[0m\n\u001b[0;32m   1226\u001b[0m \u001b[38;5;124;03m(2, 1, 4)\u001b[39;00m\n\u001b[0;32m   1227\u001b[0m \u001b[38;5;124;03m\"\"\"\u001b[39;00m\n\u001b[0;32m   1228\u001b[0m kwds \u001b[38;5;241m=\u001b[39m {\u001b[38;5;124m'\u001b[39m\u001b[38;5;124mkeepdims\u001b[39m\u001b[38;5;124m'\u001b[39m: keepdims} \u001b[38;5;28;01mif\u001b[39;00m keepdims \u001b[38;5;129;01mis\u001b[39;00m \u001b[38;5;129;01mnot\u001b[39;00m np\u001b[38;5;241m.\u001b[39m_NoValue \u001b[38;5;28;01melse\u001b[39;00m {}\n\u001b[1;32m-> 1229\u001b[0m \u001b[38;5;28;01mreturn\u001b[39;00m \u001b[43m_wrapfunc\u001b[49m\u001b[43m(\u001b[49m\u001b[43ma\u001b[49m\u001b[43m,\u001b[49m\u001b[43m \u001b[49m\u001b[38;5;124;43m'\u001b[39;49m\u001b[38;5;124;43margmax\u001b[39;49m\u001b[38;5;124;43m'\u001b[39;49m\u001b[43m,\u001b[49m\u001b[43m \u001b[49m\u001b[43maxis\u001b[49m\u001b[38;5;241;43m=\u001b[39;49m\u001b[43maxis\u001b[49m\u001b[43m,\u001b[49m\u001b[43m \u001b[49m\u001b[43mout\u001b[49m\u001b[38;5;241;43m=\u001b[39;49m\u001b[43mout\u001b[49m\u001b[43m,\u001b[49m\u001b[43m \u001b[49m\u001b[38;5;241;43m*\u001b[39;49m\u001b[38;5;241;43m*\u001b[39;49m\u001b[43mkwds\u001b[49m\u001b[43m)\u001b[49m\n",
      "File \u001b[1;32m~\\AppData\\Local\\Programs\\Python\\Python312\\Lib\\site-packages\\numpy\\core\\fromnumeric.py:59\u001b[0m, in \u001b[0;36m_wrapfunc\u001b[1;34m(obj, method, *args, **kwds)\u001b[0m\n\u001b[0;32m     56\u001b[0m     \u001b[38;5;28;01mreturn\u001b[39;00m _wrapit(obj, method, \u001b[38;5;241m*\u001b[39margs, \u001b[38;5;241m*\u001b[39m\u001b[38;5;241m*\u001b[39mkwds)\n\u001b[0;32m     58\u001b[0m \u001b[38;5;28;01mtry\u001b[39;00m:\n\u001b[1;32m---> 59\u001b[0m     \u001b[38;5;28;01mreturn\u001b[39;00m \u001b[43mbound\u001b[49m\u001b[43m(\u001b[49m\u001b[38;5;241;43m*\u001b[39;49m\u001b[43margs\u001b[49m\u001b[43m,\u001b[49m\u001b[43m \u001b[49m\u001b[38;5;241;43m*\u001b[39;49m\u001b[38;5;241;43m*\u001b[39;49m\u001b[43mkwds\u001b[49m\u001b[43m)\u001b[49m\n\u001b[0;32m     60\u001b[0m \u001b[38;5;28;01mexcept\u001b[39;00m \u001b[38;5;167;01mTypeError\u001b[39;00m:\n\u001b[0;32m     61\u001b[0m     \u001b[38;5;66;03m# A TypeError occurs if the object does have such a method in its\u001b[39;00m\n\u001b[0;32m     62\u001b[0m     \u001b[38;5;66;03m# class, but its signature is not identical to that of NumPy's. This\u001b[39;00m\n\u001b[1;32m   (...)\u001b[0m\n\u001b[0;32m     66\u001b[0m     \u001b[38;5;66;03m# Call _wrapit from within the except clause to ensure a potential\u001b[39;00m\n\u001b[0;32m     67\u001b[0m     \u001b[38;5;66;03m# exception has a traceback chain.\u001b[39;00m\n\u001b[0;32m     68\u001b[0m     \u001b[38;5;28;01mreturn\u001b[39;00m _wrapit(obj, method, \u001b[38;5;241m*\u001b[39margs, \u001b[38;5;241m*\u001b[39m\u001b[38;5;241m*\u001b[39mkwds)\n",
      "\u001b[1;31mValueError\u001b[0m: attempt to get argmax of an empty sequence"
     ]
    }
   ],
   "source": [
    "# Ensure 'Close' is numeric\n",
    "pg_data['Close'] = pd.to_numeric(pg_data['Close'], errors='coerce')\n",
    "\n",
    "# Drop rows with NaN values in 'Close'\n",
    "pg_data = pg_data.dropna(subset=['Close'])\n",
    "\n",
    "# Compute percentage change\n",
    "pg_data['Return'] = pg_data['Close'].pct_change()\n",
    "\n",
    "# Shift 'Close' column to get tomorrow's value\n",
    "pg_data['Tomorrow'] = pg_data['Close'].shift(-1)\n",
    "\n",
    "print(pg_data.head())\n"
   ]
  },
  {
   "cell_type": "code",
   "execution_count": null,
   "id": "a7c0d783-7867-4ab3-ad7e-ba832021d6fc",
   "metadata": {
    "colab": {
     "base_uri": "https://localhost:8080/"
    },
    "id": "a7c0d783-7867-4ab3-ad7e-ba832021d6fc",
    "outputId": "2f96f2f4-0d30-4631-c9c2-26291cc048c7"
   },
   "outputs": [],
   "source": [
    "pg_data.info()"
   ]
  },
  {
   "cell_type": "code",
   "execution_count": null,
   "id": "01935a73-6039-4159-b8ae-175d81f171a7",
   "metadata": {
    "id": "01935a73-6039-4159-b8ae-175d81f171a7"
   },
   "outputs": [],
   "source": []
  },
  {
   "cell_type": "code",
   "execution_count": null,
   "id": "6fd4d8da-7457-4650-9392-264e9f798cf1",
   "metadata": {
    "id": "6fd4d8da-7457-4650-9392-264e9f798cf1"
   },
   "outputs": [],
   "source": [
    "#pg_data.dropna(inplace=True)  # Removes rows with any missing values"
   ]
  },
  {
   "cell_type": "code",
   "execution_count": null,
   "id": "f064fbfc-c98e-4657-8439-18c8f08849db",
   "metadata": {
    "id": "f064fbfc-c98e-4657-8439-18c8f08849db"
   },
   "outputs": [],
   "source": [
    "# Handling 'Return' column NaNs\n",
    "pg_data.loc[:, 'Return'] = pg_data['Return'].fillna(0)  # Fill first row with 0\n",
    "pg_data.loc[:, 'Return'] = pg_data['Return'].ffill()  # Fill other potential NaNs using forward fill\n",
    "\n",
    "# Handling 'Tomorrow' column NaNs\n",
    "pg_data = pg_data.iloc[:-1]  # Drop the last row\n",
    "\n",
    "# Handing \"Stock_Direction column NaNs\"\n",
    "pg_data.loc[:, 'Stocks_Direction'] = pg_data['Stocks_Direction'].fillna(0)  # Fill first row with 0\n",
    "pg_data.loc[:, 'Stocks_Direction'] = pg_data['Stocks_Direction'].ffill()  # Fill other potential NaNs using forward fill\n"
   ]
  },
  {
   "cell_type": "code",
   "execution_count": null,
   "id": "4cc8a099-1087-4b98-af5e-6d9622bc95b3",
   "metadata": {
    "colab": {
     "base_uri": "https://localhost:8080/",
     "height": 366
    },
    "id": "4cc8a099-1087-4b98-af5e-6d9622bc95b3",
    "outputId": "6188bb9d-95e4-4918-a402-9c790de130ba"
   },
   "outputs": [],
   "source": [
    "pg_data.isna().sum()"
   ]
  },
  {
   "cell_type": "code",
   "execution_count": null,
   "id": "891176f1-537f-4bca-817c-8f17509df634",
   "metadata": {
    "colab": {
     "base_uri": "https://localhost:8080/",
     "height": 237
    },
    "id": "891176f1-537f-4bca-817c-8f17509df634",
    "outputId": "bd2d946d-78a0-4acf-ffba-78f904ff1ef5"
   },
   "outputs": [],
   "source": [
    "pg_data.head()"
   ]
  },
  {
   "cell_type": "code",
   "execution_count": null,
   "id": "6a1da381-c42a-44a2-8f80-035fd026e0df",
   "metadata": {
    "id": "6a1da381-c42a-44a2-8f80-035fd026e0df"
   },
   "outputs": [],
   "source": [
    "# For JNJ stock\n",
    "jnj_data['Return'] = jnj_data['Close'].pct_change()\n",
    "# For JNJ stock:\n",
    "jnj_data['Tomorrow'] = jnj_data['Close'].shift(-1)\n",
    "# For JNJ stock\n",
    "jnj_data['Stocks_Direction'] = (jnj_data['Close'] > jnj_data['Close'].shift(1)).astype(int)\n"
   ]
  },
  {
   "cell_type": "code",
   "execution_count": null,
   "id": "95cb1de7-eadf-4251-8c03-d1e794ed65a5",
   "metadata": {
    "colab": {
     "base_uri": "https://localhost:8080/"
    },
    "id": "95cb1de7-eadf-4251-8c03-d1e794ed65a5",
    "outputId": "354dc32a-94ba-4db4-8959-36405a49a428"
   },
   "outputs": [],
   "source": [
    "jnj_data.info()"
   ]
  },
  {
   "cell_type": "code",
   "execution_count": null,
   "id": "a632c11f-eb1b-4760-9042-9dee2a3dcb84",
   "metadata": {
    "id": "a632c11f-eb1b-4760-9042-9dee2a3dcb84"
   },
   "outputs": [],
   "source": [
    "# Handling 'Return' column NaNs\n",
    "jnj_data.loc[:, 'Return'] = jnj_data['Return'].fillna(0)  # Fill first row with 0\n",
    "jnj_data.loc[:, 'Return'] = jnj_data['Return'].ffill()  # Fill other potential NaNs using forward fill\n",
    "\n",
    "# Handling 'Tomorrow' column NaNs\n",
    "jnj_data = jnj_data.iloc[:-1]  # Drop the last row\n",
    "\n",
    "# Handing \"Stock_Direction' column NaNs\n",
    "jnj_data.loc[:, 'Stocks_Direction'] = jnj_data['Stocks_Direction'].fillna(0)  # Fill first row with 0\n",
    "jnj_data.loc[:, 'Stocks_Direction'] = jnj_data['Stocks_Direction'].ffill()"
   ]
  },
  {
   "cell_type": "code",
   "execution_count": null,
   "id": "7206ccc9-23a5-49d0-8402-982131cd51ea",
   "metadata": {
    "colab": {
     "base_uri": "https://localhost:8080/",
     "height": 366
    },
    "id": "7206ccc9-23a5-49d0-8402-982131cd51ea",
    "outputId": "8d63429f-e698-4fed-e8b4-b67112d9e597"
   },
   "outputs": [],
   "source": [
    "jnj_data.isna().sum()"
   ]
  },
  {
   "cell_type": "code",
   "execution_count": null,
   "id": "b8c9fffd-9f93-4cb5-98ed-59233d8c74e6",
   "metadata": {
    "colab": {
     "base_uri": "https://localhost:8080/",
     "height": 237
    },
    "id": "b8c9fffd-9f93-4cb5-98ed-59233d8c74e6",
    "outputId": "5dd9d8a9-1d62-4721-88e8-d5f9219b6a7f"
   },
   "outputs": [],
   "source": [
    "jnj_data.head()"
   ]
  },
  {
   "cell_type": "code",
   "execution_count": null,
   "id": "bf32e635-8fa3-441e-996b-ce51bf5883d9",
   "metadata": {
    "id": "bf32e635-8fa3-441e-996b-ce51bf5883d9"
   },
   "outputs": [],
   "source": [
    "# For ^GSPC stock\n",
    "gspc_data['Return'] = gspc_data['Close'].pct_change()\n",
    "# For ^GSPC stock:\n",
    "gspc_data['Tomorrow'] = gspc_data['Close'].shift(-1)\n",
    "# For ^GSPC stock\n",
    "gspc_data['Stocks_Direction'] = (gspc_data['Close'] > gspc_data['Close'].shift(1)).astype(int)"
   ]
  },
  {
   "cell_type": "code",
   "execution_count": null,
   "id": "81a73d18-4252-4a01-aa77-35364dabd9f6",
   "metadata": {
    "colab": {
     "base_uri": "https://localhost:8080/"
    },
    "id": "81a73d18-4252-4a01-aa77-35364dabd9f6",
    "outputId": "935e7e39-d7fe-4d25-b6ed-d57b001ab19e"
   },
   "outputs": [],
   "source": [
    "gspc_data.info()"
   ]
  },
  {
   "cell_type": "code",
   "execution_count": null,
   "id": "8f48ec38-f925-4634-b5c0-2dbe2b899722",
   "metadata": {
    "id": "8f48ec38-f925-4634-b5c0-2dbe2b899722"
   },
   "outputs": [],
   "source": [
    "gspc_data.loc[:, 'Return'] = gspc_data['Return'].fillna(0)  # Fill first row with 0\n",
    "gspc_data.loc[:, 'Return'] = gspc_data['Return'].ffill()\n",
    "\n",
    "gspc_data = gspc_data.iloc[:-1]  # Drop the last row\n",
    "\n",
    "gspc_data.loc[:, 'Stocks_Direction'] = gspc_data['Stocks_Direction'].fillna(0)\n",
    "gspc_data.loc[:, 'Stocks_Direction'] = gspc_data['Stocks_Direction'].ffill()"
   ]
  },
  {
   "cell_type": "code",
   "execution_count": null,
   "id": "6d54a493-d411-408f-91d9-83b7ab6c3e4c",
   "metadata": {
    "colab": {
     "base_uri": "https://localhost:8080/",
     "height": 366
    },
    "id": "6d54a493-d411-408f-91d9-83b7ab6c3e4c",
    "outputId": "e9cd86b1-09c1-4d0e-e543-0aa8e8fa5286"
   },
   "outputs": [],
   "source": [
    "gspc_data.isna().sum()"
   ]
  },
  {
   "cell_type": "code",
   "execution_count": null,
   "id": "c7349393-e25d-4979-8a4b-a74b46ff3370",
   "metadata": {
    "colab": {
     "base_uri": "https://localhost:8080/",
     "height": 237
    },
    "id": "c7349393-e25d-4979-8a4b-a74b46ff3370",
    "outputId": "149db90c-b2ec-4699-f9e7-d87656732813"
   },
   "outputs": [],
   "source": [
    "gspc_data.head()"
   ]
  },
  {
   "cell_type": "markdown",
   "id": "44f3768e-fa29-4c67-8a33-3c8f82f9227f",
   "metadata": {
    "id": "44f3768e-fa29-4c67-8a33-3c8f82f9227f"
   },
   "source": [
    "Data Preparation, Modelling & Evaluation:"
   ]
  },
  {
   "cell_type": "code",
   "execution_count": null,
   "id": "21b21c25-af69-4e9c-b026-bb2acc448549",
   "metadata": {
    "colab": {
     "base_uri": "https://localhost:8080/"
    },
    "id": "21b21c25-af69-4e9c-b026-bb2acc448549",
    "outputId": "c2f8c9c4-709d-4c82-93e0-66023c559843"
   },
   "outputs": [],
   "source": [
    "!pip install mlflow pandas numpy scikit-learn xgboost tensorflow statsmodels\n"
   ]
  },
  {
   "cell_type": "code",
   "execution_count": null,
   "id": "1d4ECMHmL7up",
   "metadata": {
    "colab": {
     "base_uri": "https://localhost:8080/"
    },
    "id": "1d4ECMHmL7up",
    "outputId": "fa452511-078d-4872-c265-fab7fdf09f84"
   },
   "outputs": [],
   "source": [
    "!pip install --upgrade scikit-learn xgboost\n"
   ]
  },
  {
   "cell_type": "code",
   "execution_count": null,
   "id": "rvty3zg-NCGU",
   "metadata": {
    "colab": {
     "base_uri": "https://localhost:8080/"
    },
    "id": "rvty3zg-NCGU",
    "outputId": "3feb9da6-5922-4e0b-9fa6-6a6205b92439"
   },
   "outputs": [],
   "source": [
    "import xgboost\n",
    "print(xgboost.__version__)"
   ]
  },
  {
   "cell_type": "code",
   "execution_count": null,
   "id": "c51139b7-d56f-4586-8185-d342b2d4cb19",
   "metadata": {
    "id": "c51139b7-d56f-4586-8185-d342b2d4cb19"
   },
   "outputs": [],
   "source": [
    "# Import necessary modules and the KFold class\n",
    "from sklearn.model_selection import train_test_split\n",
    "from sklearn.preprocessing import StandardScaler, MinMaxScaler\n",
    "from xgboost import XGBClassifier\n",
    "from sklearn.metrics import accuracy_score, classification_report\n",
    "from tensorflow.keras.models import Sequential\n",
    "from tensorflow.keras.layers import LSTM, Dense, Dropout\n",
    "import mlflow\n",
    "import mlflow.xgboost\n",
    "import mlflow.keras\n",
    "from sklearn.model_selection import KFold"
   ]
  },
  {
   "cell_type": "code",
   "execution_count": null,
   "id": "k-beDkrgOjT_",
   "metadata": {
    "id": "k-beDkrgOjT_"
   },
   "outputs": [],
   "source": [
    "#grid_search = GridSearchCV(XGBClassifier(use_label_encoder=False, eval_metric=\"mlogloss\"),\n",
    "                           #param_grid, scoring='f1_weighted', cv=5)\n"
   ]
  },
  {
   "cell_type": "code",
   "execution_count": null,
   "id": "83185a57-0992-4e71-b038-9c18fabe46a2",
   "metadata": {
    "id": "83185a57-0992-4e71-b038-9c18fabe46a2"
   },
   "outputs": [],
   "source": [
    "X = pg_data[[\"Close\", \"High\", \"Low\", \"Open\", \"Volume\", \"Return\"]]  # Features\n",
    "y = pg_data[\"Stocks_Direction\"]  # Target"
   ]
  },
  {
   "cell_type": "code",
   "execution_count": null,
   "id": "0c26c6b0-fc6f-4d43-902f-7d7bfc83093f",
   "metadata": {
    "id": "0c26c6b0-fc6f-4d43-902f-7d7bfc83093f"
   },
   "outputs": [],
   "source": [
    "X_train, X_test, y_train, y_test = train_test_split(X, y, test_size=0.2, random_state=42)"
   ]
  },
  {
   "cell_type": "code",
   "execution_count": null,
   "id": "01ceb740-93ef-4fc7-8378-803049288a1a",
   "metadata": {
    "id": "01ceb740-93ef-4fc7-8378-803049288a1a"
   },
   "outputs": [],
   "source": [
    "# Normalization\n",
    "scaler = StandardScaler()\n",
    "scaled_data = scaler.fit_transform(pg_data)"
   ]
  },
  {
   "cell_type": "code",
   "execution_count": null,
   "id": "976f6b70-d883-4a11-9fbd-ebb933c97c17",
   "metadata": {
    "colab": {
     "base_uri": "https://localhost:8080/"
    },
    "id": "976f6b70-d883-4a11-9fbd-ebb933c97c17",
    "outputId": "a67f666d-f877-41c8-c331-a1ea9e6915a2"
   },
   "outputs": [],
   "source": [
    "# Initialize and train the XGBoost model\n",
    "xgb_model = XGBClassifier(random_state=42)\n",
    "xgb_model.fit(X_train, y_train)\n",
    "\n",
    "# Make predictions\n",
    "xgb_predictions = xgb_model.predict(X_test)\n",
    "\n",
    "# Evaluate the model\n",
    "xgb_accuracy = accuracy_score(y_test, xgb_predictions)\n",
    "print(f\"XGBoost Accuracy: {xgb_accuracy}\")\n",
    "print(classification_report(y_test, xgb_predictions))"
   ]
  },
  {
   "cell_type": "code",
   "execution_count": null,
   "id": "tpJvTDvWB4ax",
   "metadata": {
    "colab": {
     "base_uri": "https://localhost:8080/"
    },
    "id": "tpJvTDvWB4ax",
    "outputId": "688c518a-d6a2-461f-f453-f04ed23102fd"
   },
   "outputs": [],
   "source": [
    "# Initialize KFold for cross-validation\n",
    "kfold = KFold(n_splits=5, shuffle=True, random_state=42)  # You can adjust n_splits\n",
    "\n",
    "# Initialize lists to store cross-validation scores\n",
    "xgb_cv_scores = []\n",
    "\n",
    "# Perform cross-validation manually\n",
    "for train_index, test_index in kfold.split(X):\n",
    "    # Get data for current fold\n",
    "    X_train_fold, X_test_fold = X.iloc[train_index], X.iloc[test_index]\n",
    "    y_train_fold, y_test_fold = y.iloc[train_index], y.iloc[test_index]\n",
    "\n",
    "    # Initialize and train the XGBoost model for current fold\n",
    "    xgb_model_fold = XGBClassifier(random_state=42)\n",
    "    xgb_model_fold.fit(X_train_fold, y_train_fold)\n",
    "\n",
    "    # Make predictions\n",
    "    xgb_predictions_fold = xgb_model_fold.predict(X_test_fold)\n",
    "\n",
    "    # Evaluate the model for current fold\n",
    "    xgb_accuracy_fold = accuracy_score(y_test_fold, xgb_predictions_fold)\n",
    "    xgb_cv_scores.append(xgb_accuracy_fold)\n",
    "\n",
    "# Print the cross-validation scores\n",
    "print(\"XGBoost Cross-Validation Scores:\", xgb_cv_scores)\n",
    "print(\"XGBoost Mean Accuracy:\", np.mean(xgb_cv_scores))\n",
    "print(\"XGBoost Accuracy Standard Deviation:\", np.std(xgb_cv_scores))"
   ]
  },
  {
   "cell_type": "markdown",
   "id": "eE1kA61Bwmgy",
   "metadata": {
    "id": "eE1kA61Bwmgy"
   },
   "source": [
    "Interpretation\n",
    "\n",
    "High Performance: The high mean accuracy (0.996) indicates that the XGBoost model is performing exceptionally well on the data, achieving near-perfect accuracy in most folds.\n",
    "\n",
    "Consistency: The low standard deviation (0.00188) suggests that the model's performance is consistent and not overly sensitive to the specific data split used for training and evaluation.\n",
    "\n",
    "Generalization: These results provide strong evidence that the model is generalizing well to unseen data, as it maintains high accuracy across different folds."
   ]
  },
  {
   "cell_type": "code",
   "execution_count": null,
   "id": "-0DhVXPpxrjk",
   "metadata": {
    "colab": {
     "base_uri": "https://localhost:8080/"
    },
    "id": "-0DhVXPpxrjk",
    "outputId": "1ff7567b-9737-41ca-9442-5d09486888f5"
   },
   "outputs": [],
   "source": [
    "# Initialize XGBoost model with regularization, To prevent oveverfitting\n",
    "final_model = XGBClassifier(\n",
    "    reg_alpha=0.1,  # L1 regularization strength\n",
    "    reg_lambda=1.0,  # L2 regularization strength\n",
    "    # ... other hyperparameters ...\n",
    ")\n",
    "\n",
    "# Train the model\n",
    "final_model.fit(X_train, y_train)\n",
    "\n",
    "# Make predictions on the test data\n",
    "y_pred = final_model.predict(X_test)\n",
    "\n",
    "# Print the classification report\n",
    "print(classification_report(y_test, y_pred))"
   ]
  },
  {
   "cell_type": "code",
   "execution_count": null,
   "id": "zxxXfyT9ilRk",
   "metadata": {
    "colab": {
     "base_uri": "https://localhost:8080/"
    },
    "id": "zxxXfyT9ilRk",
    "outputId": "66b1f3e9-33a2-4b5c-ba8e-2d05fadc8632"
   },
   "outputs": [],
   "source": [
    "y_pred = final_model.predict(X_test)\n",
    "accuracy = accuracy_score(y_test, y_pred)\n",
    "print(f\"Test Accuracy: {accuracy}\")\n",
    "print(classification_report(y_test, y_pred))"
   ]
  },
  {
   "cell_type": "code",
   "execution_count": null,
   "id": "7JcDn3Q3pbmn",
   "metadata": {
    "colab": {
     "base_uri": "https://localhost:8080/"
    },
    "id": "7JcDn3Q3pbmn",
    "outputId": "6f34dfc1-6ed7-451e-cc45-be2f86e5a670"
   },
   "outputs": [],
   "source": [
    "# Calculate the traning accuracy\n",
    "y_train_pred = final_model.predict(X_train)\n",
    "training_accuracy = accuracy_score(y_train, y_train_pred)\n",
    "print(f\"Training Accuracy: {training_accuracy}\")"
   ]
  },
  {
   "cell_type": "code",
   "execution_count": null,
   "id": "a29e1fbc-22f5-43fb-869b-9efae2c402b9",
   "metadata": {
    "colab": {
     "base_uri": "https://localhost:8080/"
    },
    "id": "a29e1fbc-22f5-43fb-869b-9efae2c402b9",
    "outputId": "ce5d60cc-f76c-49d4-e750-ef1851f6146c"
   },
   "outputs": [],
   "source": [
    "# Scale data for LSTM\n",
    "scaler =  MinMaxScaler()\n",
    "X_train_scaled = scaler.fit_transform(X_train)\n",
    "X_test_scaled = scaler.transform(X_test)\n",
    "\n",
    "# Reshape data for LSTM (samples, timesteps, features)\n",
    "X_train_reshaped = X_train_scaled.reshape(X_train_scaled.shape[0], 1, X_train_scaled.shape[1])\n",
    "X_test_reshaped = X_test_scaled.reshape(X_test_scaled.shape[0], 1, X_test_scaled.shape[1])\n",
    "\n",
    "# Build the LSTM model\n",
    "lstm_model = Sequential([\n",
    "    LSTM(50, return_sequences=True, input_shape=(X_train_reshaped.shape[1], X_train_reshaped.shape[2])),\n",
    "    Dropout(0.2),\n",
    "    LSTM(50),\n",
    "    Dropout(0.2),\n",
    "    Dense(1, activation='sigmoid')\n",
    "])\n",
    "\n",
    "# Compile the model\n",
    "lstm_model.compile(loss='binary_crossentropy', optimizer='adam', metrics=['accuracy'])\n",
    "\n",
    "# Train the model\n",
    "lstm_model.fit(X_train_reshaped, y_train, epochs=20, batch_size=32, validation_data=(X_test_reshaped, y_test), verbose=1)\n",
    "\n",
    "# Make predictions\n",
    "lstm_predictions = (lstm_model.predict(X_test_reshaped) > 0.5).astype(int)\n",
    "\n",
    "# Evaluate the model\n",
    "lstm_accuracy = accuracy_score(y_test, lstm_predictions)\n",
    "print(f\"LSTM Accuracy: {lstm_accuracy}\")\n",
    "print(classification_report(y_test, lstm_predictions))"
   ]
  },
  {
   "cell_type": "code",
   "execution_count": null,
   "id": "wb1Cv0bTUmlQ",
   "metadata": {
    "colab": {
     "base_uri": "https://localhost:8080/"
    },
    "id": "wb1Cv0bTUmlQ",
    "outputId": "581e6829-eae6-4d52-e37c-6278e6a9fe4c"
   },
   "outputs": [],
   "source": [
    "from sklearn.metrics import accuracy_score\n",
    "from sklearn.model_selection import KFold # Make sure this import is present\n",
    "\n",
    "# Initialize KFold for cross-validation\n",
    "kfold = KFold(n_splits=5, shuffle=True, random_state=42)  # Create an instance of KFold\n",
    "\n",
    "# Initialize lists to store cross-validation scores\n",
    "lstm_cv_scores = []\n",
    "\n",
    "# Perform cross-validation\n",
    "for train_index, test_index in kfold.split(X): # Now kfold is defined\n",
    "    # Get data for current fold\n",
    "    X_train_fold, X_test_fold = X.iloc[train_index], X.iloc[test_index]\n",
    "    y_train_fold, y_test_fold = y.iloc[train_index], y.iloc[test_index]\n",
    "\n",
    "    # Scale data for LSTM\n",
    "    X_train_fold_scaled = scaler.fit_transform(X_train_fold)\n",
    "    X_test_fold_scaled = scaler.transform(X_test_fold)\n",
    "\n",
    "    # Reshape data for LSTM\n",
    "    X_train_fold_reshaped = X_train_fold_scaled.reshape(X_train_fold_scaled.shape[0], 1, X_train_fold_scaled.shape[1])\n",
    "    X_test_fold_reshaped = X_test_fold_scaled.reshape(X_test_fold_scaled.shape[0], 1, X_test_fold_scaled.shape[1])\n",
    "\n",
    "    # Train the model\n",
    "    lstm_model.fit(X_train_fold_reshaped, y_train_fold, epochs=20, batch_size=32, verbose=0)  # Suppress verbose output\n",
    "\n",
    "    # Make predictions\n",
    "    lstm_predictions_fold = (lstm_model.predict(X_test_fold_reshaped) > 0.5).astype(int)\n",
    "\n",
    "    # Calculate accuracy for current fold\n",
    "    accuracy_fold = accuracy_score(y_test_fold, lstm_predictions_fold)\n",
    "\n",
    "    # Store the accuracy\n",
    "    lstm_cv_scores.append(accuracy_fold)\n",
    "\n",
    "# Print the cross-validation scores\n",
    "print(\"LSTM Cross-Validation Scores:\", lstm_cv_scores)\n",
    "print(\"LSTM Mean Accuracy:\", np.mean(lstm_cv_scores))\n",
    "print(\"LSTM Accuracy Standard Deviation:\", np.std(lstm_cv_scores))"
   ]
  },
  {
   "cell_type": "code",
   "execution_count": null,
   "id": "rWdAhpI8O71M",
   "metadata": {
    "colab": {
     "base_uri": "https://localhost:8080/"
    },
    "id": "rWdAhpI8O71M",
    "outputId": "868b1df8-8b3c-4b94-c4af-77f0fc31c75a"
   },
   "outputs": [],
   "source": [
    "# Prepare the data for the forecast by Select the last 14 days of data for prediction\n",
    "last_14_days_data = pg_data.tail(14)\n",
    "\n",
    "# Select the features for prediction\n",
    "forecast_features = last_14_days_data[[\"Close\", \"High\", \"Low\", \"Open\", \"Volume\", \"Return\"]]\n",
    "\n",
    "# Re-initialize and fit the XGBoost model if necessary\n",
    "# (or make sure you are using the original fitted xgb_model)\n",
    "X = pg_data[[\"Close\", \"High\", \"Low\", \"Open\", \"Volume\", \"Return\"]]  # Features\n",
    "y = pg_data[\"Stocks_Direction\"]  # Target\n",
    "X_train, X_test, y_train, y_test = train_test_split(X, y, test_size=0.2, random_state=42) # Split data\n",
    "\n",
    "# Initialize and train the XGBoost model (or load the pre-trained model)\n",
    "xgb_model = XGBClassifier(random_state=42) # Re-initialize if needed\n",
    "xgb_model.fit(X_train, y_train) # Re-train if needed\n",
    "\n",
    "# Use the same scaler as before (StandardScaler for XGBoost)\n",
    "scaler = StandardScaler()\n",
    "scaler.fit(X_train) # Fit the scaler to your training data\n",
    "\n",
    "# Scale the features using the fitted scaler\n",
    "forecast_features_scaled = scaler.transform(forecast_features)\n",
    "\n",
    "# Make predictions for the next 14 days\n",
    "forecast_predictions = xgb_model.predict(forecast_features_scaled)\n",
    "\n",
    "# Create a DataFrame for the forecast results\n",
    "forecast_df = pd.DataFrame({'Date': last_14_days_data.index, 'Stocks_Direction': forecast_predictions})\n",
    "\n",
    "# Print the forecast\n",
    "print(forecast_df)"
   ]
  },
  {
   "cell_type": "code",
   "execution_count": null,
   "id": "xpZHFQGHdov9",
   "metadata": {
    "colab": {
     "base_uri": "https://localhost:8080/"
    },
    "id": "xpZHFQGHdov9",
    "outputId": "76b03e75-e42c-4409-ae71-f65b0822c471"
   },
   "outputs": [],
   "source": [
    "import mlflow\n",
    "import mlflow.xgboost\n",
    "import mlflow.keras\n",
    "\n",
    "# Start an MLflow run\n",
    "with mlflow.start_run():\n",
    "    # ... (Your XGBoost model training code) ...\n",
    "    mlflow.xgboost.log_model(xgb_model, \"xgboost-model\")\n",
    "\n",
    "    # ... (Your LSTM model training code) ...\n",
    "    mlflow.keras.log_model(lstm_model, \"lstm-model\")\n",
    "\n",
    "    # Log parameters and metrics\n",
    "    mlflow.log_param(\"xgboost_learning_rate\", 0.1)\n",
    "    mlflow.log_metric(\"xgboost_accuracy\", xgb_accuracy)\n",
    "    mlflow.log_param(\"lstm_epochs\", 20)\n",
    "    mlflow.log_metric(\"lstm_accuracy\", lstm_accuracy)"
   ]
  },
  {
   "cell_type": "code",
   "execution_count": null,
   "id": "mCs_xFRqd9Lh",
   "metadata": {
    "colab": {
     "base_uri": "https://localhost:8080/"
    },
    "id": "mCs_xFRqd9Lh",
    "outputId": "148ccabb-b76a-42a3-87aa-44dcbe4007df"
   },
   "outputs": [],
   "source": [
    "!mlflow ui"
   ]
  },
  {
   "cell_type": "code",
   "execution_count": null,
   "id": "-iDY8ulQG36n",
   "metadata": {
    "colab": {
     "base_uri": "https://localhost:8080/",
     "height": 375
    },
    "id": "-iDY8ulQG36n",
    "outputId": "a8075c4e-a3a9-41d1-94d6-14ea240fe992"
   },
   "outputs": [],
   "source": [
    "# Plot the learning curves, To compare the train score and cross-validation score\n",
    "from sklearn.model_selection import learning_curve\n",
    "\n",
    "# Initialize and train the final model (if not already done)\n",
    "final_model = XGBClassifier(random_state=42)  # Or use your desired hyperparameters\n",
    "final_model.fit(X_train, y_train)\n",
    "\n",
    "train_sizes, train_scores, test_scores = learning_curve(\n",
    "    final_model, X, y, cv=5, scoring='accuracy',\n",
    "    train_sizes=np.linspace(0.1, 1.0, 10)\n",
    ")\n",
    "\n",
    "plt.figure()\n",
    "plt.title(\"Learning Curves (XGBoost)\")\n",
    "plt.xlabel(\"Training examples\")\n",
    "plt.ylabel(\"Score\")\n",
    "\n",
    "train_scores_mean = np.mean(train_scores, axis=1)\n",
    "train_scores_std = np.std(train_scores, axis=1)\n",
    "test_scores_mean = np.mean(test_scores, axis=1)\n",
    "test_scores_std = np.std(test_scores, axis=1)\n",
    "\n",
    "plt.grid()\n",
    "plt.fill_between(train_sizes, train_scores_mean - train_scores_std,\n",
    "                 train_scores_mean + train_scores_std, alpha=0.1,\n",
    "                 color=\"r\")\n",
    "plt.fill_between(train_sizes, test_scores_mean - test_scores_std,\n",
    "                 test_scores_mean + test_scores_std, alpha=0.1, color=\"g\")\n",
    "plt.plot(train_sizes, train_scores_mean, 'o-', color=\"r\",\n",
    "         label=\"Training score\")\n",
    "plt.plot(train_sizes, test_scores_mean, 'o-', color=\"g\",\n",
    "         label=\"Cross-validation score\")\n",
    "\n",
    "plt.legend(loc=\"best\")\n",
    "plt.show()"
   ]
  },
  {
   "cell_type": "code",
   "execution_count": null,
   "id": "giwS4-j2xs9o",
   "metadata": {
    "id": "giwS4-j2xs9o"
   },
   "outputs": [],
   "source": []
  }
 ],
 "metadata": {
  "colab": {
   "provenance": []
  },
  "kernelspec": {
   "display_name": "Python 3 (ipykernel)",
   "language": "python",
   "name": "python3"
  },
  "language_info": {
   "codemirror_mode": {
    "name": "ipython",
    "version": 3
   },
   "file_extension": ".py",
   "mimetype": "text/x-python",
   "name": "python",
   "nbconvert_exporter": "python",
   "pygments_lexer": "ipython3",
   "version": "3.12.8"
  }
 },
 "nbformat": 4,
 "nbformat_minor": 5
}
