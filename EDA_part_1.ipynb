{
 "cells": [
  {
   "cell_type": "markdown",
   "id": "edc19a74-ec3c-47f1-a37b-c35bb9b65994",
   "metadata": {},
   "source": [
    "## Part 1 of the Stock Market Analysis Notebook - This notebook contains Data Cleaning, Feature Engineering and EDA"
   ]
  },
  {
   "cell_type": "markdown",
   "id": "0dcea618-a5c1-4522-be59-481f1c33b54d",
   "metadata": {},
   "source": [
    "#### Import Necessary Libraries"
   ]
  },
  {
   "cell_type": "code",
   "execution_count": 1,
   "id": "50d80834-8b5f-43bb-b4be-da166cf00122",
   "metadata": {},
   "outputs": [],
   "source": [
    "import yfinance as yf\n",
    "import pandas as pd\n",
    "import numpy as np\n",
    "from ydata_profiling import ProfileReport"
   ]
  },
  {
   "cell_type": "markdown",
   "id": "e73ea25c-dd33-4745-9ac3-1770eb66da83",
   "metadata": {},
   "source": [
    "### Getting historical data for P&G"
   ]
  },
  {
   "cell_type": "code",
   "execution_count": 2,
   "id": "781c11e5-abd6-4659-92a8-b5c98ff50a1a",
   "metadata": {},
   "outputs": [],
   "source": [
    "# Create a ticker object\n",
    "ticker = yf.Ticker(\"PG\")"
   ]
  },
  {
   "cell_type": "code",
   "execution_count": 3,
   "id": "7fd5732e-b671-45ff-991d-c81469f332ae",
   "metadata": {},
   "outputs": [],
   "source": [
    "# Download historical data of Procter & Gamble from 02/03/2010 to 28/02/2024.\n",
    "historical_data = ticker.history(\n",
    "    start=\"2010-03-02\",\n",
    "    end=\"2024-02-28\",\n",
    "    interval=\"1d\"\n",
    ")"
   ]
  },
  {
   "cell_type": "code",
   "execution_count": 4,
   "id": "dd2d04b4-a11b-4b88-bc29-242175234287",
   "metadata": {},
   "outputs": [],
   "source": [
    "# Save to CSV file\n",
    "historical_data.to_csv(\"PG_stock_data.csv\")"
   ]
  },
  {
   "cell_type": "markdown",
   "id": "67eee082-873b-49f8-8c33-013fdce7d84c",
   "metadata": {},
   "source": [
    "### Getting historical data for J&J"
   ]
  },
  {
   "cell_type": "code",
   "execution_count": 5,
   "id": "92860f3b-a86f-4a6b-a122-52c2b130b980",
   "metadata": {},
   "outputs": [],
   "source": [
    "# Create a ticker object\n",
    "ticker = yf.Ticker(\"JNJ\")"
   ]
  },
  {
   "cell_type": "code",
   "execution_count": 6,
   "id": "b9ce871a-86d9-4c60-a35a-88ee228bf9f1",
   "metadata": {},
   "outputs": [],
   "source": [
    "# Download historical data of Johnson & Johnson from 02/03/2010 to 28/02/2024.\n",
    "historical_data = ticker.history(\n",
    "    start=\"2010-03-02\",\n",
    "    end=\"2024-02-28\",\n",
    "    interval=\"1d\"\n",
    ")"
   ]
  },
  {
   "cell_type": "code",
   "execution_count": 7,
   "id": "197f935b-531b-40d5-894f-ccaac90fcb7e",
   "metadata": {},
   "outputs": [],
   "source": [
    "# Save to CSV file\n",
    "historical_data.to_csv(\"JNJ_stock_data.csv\")"
   ]
  },
  {
   "cell_type": "markdown",
   "id": "20e557eb-337b-49f7-b9c8-22a56c6b9590",
   "metadata": {},
   "source": [
    "### Loading the data"
   ]
  },
  {
   "cell_type": "code",
   "execution_count": 8,
   "id": "8a8224a3-13d1-44f8-b303-97321ee3e508",
   "metadata": {},
   "outputs": [
    {
     "data": {
      "text/html": [
       "<div>\n",
       "<style scoped>\n",
       "    .dataframe tbody tr th:only-of-type {\n",
       "        vertical-align: middle;\n",
       "    }\n",
       "\n",
       "    .dataframe tbody tr th {\n",
       "        vertical-align: top;\n",
       "    }\n",
       "\n",
       "    .dataframe thead th {\n",
       "        text-align: right;\n",
       "    }\n",
       "</style>\n",
       "<table border=\"1\" class=\"dataframe\">\n",
       "  <thead>\n",
       "    <tr style=\"text-align: right;\">\n",
       "      <th></th>\n",
       "      <th>Date</th>\n",
       "      <th>Open</th>\n",
       "      <th>High</th>\n",
       "      <th>Low</th>\n",
       "      <th>Close</th>\n",
       "      <th>Volume</th>\n",
       "      <th>Dividends</th>\n",
       "      <th>Stock Splits</th>\n",
       "    </tr>\n",
       "  </thead>\n",
       "  <tbody>\n",
       "    <tr>\n",
       "      <th>0</th>\n",
       "      <td>2010-03-02 00:00:00-05:00</td>\n",
       "      <td>41.153654</td>\n",
       "      <td>41.250530</td>\n",
       "      <td>40.908230</td>\n",
       "      <td>41.147194</td>\n",
       "      <td>8004000</td>\n",
       "      <td>0.0</td>\n",
       "      <td>0.0</td>\n",
       "    </tr>\n",
       "    <tr>\n",
       "      <th>1</th>\n",
       "      <td>2010-03-03 00:00:00-05:00</td>\n",
       "      <td>41.114898</td>\n",
       "      <td>41.269903</td>\n",
       "      <td>40.966352</td>\n",
       "      <td>41.043854</td>\n",
       "      <td>8608300</td>\n",
       "      <td>0.0</td>\n",
       "      <td>0.0</td>\n",
       "    </tr>\n",
       "    <tr>\n",
       "      <th>2</th>\n",
       "      <td>2010-03-04 00:00:00-05:00</td>\n",
       "      <td>41.108427</td>\n",
       "      <td>41.431352</td>\n",
       "      <td>40.953421</td>\n",
       "      <td>41.121342</td>\n",
       "      <td>8600300</td>\n",
       "      <td>0.0</td>\n",
       "      <td>0.0</td>\n",
       "    </tr>\n",
       "    <tr>\n",
       "      <th>3</th>\n",
       "      <td>2010-03-05 00:00:00-05:00</td>\n",
       "      <td>41.134277</td>\n",
       "      <td>41.192404</td>\n",
       "      <td>40.720933</td>\n",
       "      <td>41.134277</td>\n",
       "      <td>10101100</td>\n",
       "      <td>0.0</td>\n",
       "      <td>0.0</td>\n",
       "    </tr>\n",
       "    <tr>\n",
       "      <th>4</th>\n",
       "      <td>2010-03-08 00:00:00-05:00</td>\n",
       "      <td>41.043843</td>\n",
       "      <td>41.121345</td>\n",
       "      <td>40.708000</td>\n",
       "      <td>40.811337</td>\n",
       "      <td>11293300</td>\n",
       "      <td>0.0</td>\n",
       "      <td>0.0</td>\n",
       "    </tr>\n",
       "  </tbody>\n",
       "</table>\n",
       "</div>"
      ],
      "text/plain": [
       "                        Date       Open       High        Low      Close  \\\n",
       "0  2010-03-02 00:00:00-05:00  41.153654  41.250530  40.908230  41.147194   \n",
       "1  2010-03-03 00:00:00-05:00  41.114898  41.269903  40.966352  41.043854   \n",
       "2  2010-03-04 00:00:00-05:00  41.108427  41.431352  40.953421  41.121342   \n",
       "3  2010-03-05 00:00:00-05:00  41.134277  41.192404  40.720933  41.134277   \n",
       "4  2010-03-08 00:00:00-05:00  41.043843  41.121345  40.708000  40.811337   \n",
       "\n",
       "     Volume  Dividends  Stock Splits  \n",
       "0   8004000        0.0           0.0  \n",
       "1   8608300        0.0           0.0  \n",
       "2   8600300        0.0           0.0  \n",
       "3  10101100        0.0           0.0  \n",
       "4  11293300        0.0           0.0  "
      ]
     },
     "execution_count": 8,
     "metadata": {},
     "output_type": "execute_result"
    }
   ],
   "source": [
    "raw_data_PG = pd.read_csv(\"PG_stock_data.csv\")\n",
    "raw_data_PG.head()"
   ]
  },
  {
   "cell_type": "code",
   "execution_count": 9,
   "id": "a2daf4cc-4bd3-4f1e-8543-be142d0c3b39",
   "metadata": {},
   "outputs": [
    {
     "data": {
      "text/html": [
       "<div>\n",
       "<style scoped>\n",
       "    .dataframe tbody tr th:only-of-type {\n",
       "        vertical-align: middle;\n",
       "    }\n",
       "\n",
       "    .dataframe tbody tr th {\n",
       "        vertical-align: top;\n",
       "    }\n",
       "\n",
       "    .dataframe thead th {\n",
       "        text-align: right;\n",
       "    }\n",
       "</style>\n",
       "<table border=\"1\" class=\"dataframe\">\n",
       "  <thead>\n",
       "    <tr style=\"text-align: right;\">\n",
       "      <th></th>\n",
       "      <th>Date</th>\n",
       "      <th>Open</th>\n",
       "      <th>High</th>\n",
       "      <th>Low</th>\n",
       "      <th>Close</th>\n",
       "      <th>Volume</th>\n",
       "      <th>Dividends</th>\n",
       "      <th>Stock Splits</th>\n",
       "    </tr>\n",
       "  </thead>\n",
       "  <tbody>\n",
       "    <tr>\n",
       "      <th>0</th>\n",
       "      <td>2010-03-02 00:00:00-05:00</td>\n",
       "      <td>41.085346</td>\n",
       "      <td>41.299500</td>\n",
       "      <td>40.897148</td>\n",
       "      <td>41.169708</td>\n",
       "      <td>9014000</td>\n",
       "      <td>0.0</td>\n",
       "      <td>0.0</td>\n",
       "    </tr>\n",
       "    <tr>\n",
       "      <th>1</th>\n",
       "      <td>2010-03-03 00:00:00-05:00</td>\n",
       "      <td>41.267046</td>\n",
       "      <td>41.370879</td>\n",
       "      <td>41.026933</td>\n",
       "      <td>41.143745</td>\n",
       "      <td>9360400</td>\n",
       "      <td>0.0</td>\n",
       "      <td>0.0</td>\n",
       "    </tr>\n",
       "    <tr>\n",
       "      <th>2</th>\n",
       "      <td>2010-03-04 00:00:00-05:00</td>\n",
       "      <td>41.228111</td>\n",
       "      <td>41.338435</td>\n",
       "      <td>41.124279</td>\n",
       "      <td>41.254070</td>\n",
       "      <td>8067200</td>\n",
       "      <td>0.0</td>\n",
       "      <td>0.0</td>\n",
       "    </tr>\n",
       "    <tr>\n",
       "      <th>3</th>\n",
       "      <td>2010-03-05 00:00:00-05:00</td>\n",
       "      <td>41.312482</td>\n",
       "      <td>41.578554</td>\n",
       "      <td>41.241097</td>\n",
       "      <td>41.559086</td>\n",
       "      <td>10633600</td>\n",
       "      <td>0.0</td>\n",
       "      <td>0.0</td>\n",
       "    </tr>\n",
       "    <tr>\n",
       "      <th>4</th>\n",
       "      <td>2010-03-08 00:00:00-05:00</td>\n",
       "      <td>41.585039</td>\n",
       "      <td>41.799195</td>\n",
       "      <td>41.546098</td>\n",
       "      <td>41.662910</td>\n",
       "      <td>33380500</td>\n",
       "      <td>0.0</td>\n",
       "      <td>0.0</td>\n",
       "    </tr>\n",
       "  </tbody>\n",
       "</table>\n",
       "</div>"
      ],
      "text/plain": [
       "                        Date       Open       High        Low      Close  \\\n",
       "0  2010-03-02 00:00:00-05:00  41.085346  41.299500  40.897148  41.169708   \n",
       "1  2010-03-03 00:00:00-05:00  41.267046  41.370879  41.026933  41.143745   \n",
       "2  2010-03-04 00:00:00-05:00  41.228111  41.338435  41.124279  41.254070   \n",
       "3  2010-03-05 00:00:00-05:00  41.312482  41.578554  41.241097  41.559086   \n",
       "4  2010-03-08 00:00:00-05:00  41.585039  41.799195  41.546098  41.662910   \n",
       "\n",
       "     Volume  Dividends  Stock Splits  \n",
       "0   9014000        0.0           0.0  \n",
       "1   9360400        0.0           0.0  \n",
       "2   8067200        0.0           0.0  \n",
       "3  10633600        0.0           0.0  \n",
       "4  33380500        0.0           0.0  "
      ]
     },
     "execution_count": 9,
     "metadata": {},
     "output_type": "execute_result"
    }
   ],
   "source": [
    "raw_data_JNJ = pd.read_csv(\"JNJ_stock_data.csv\")\n",
    "raw_data_JNJ.head()"
   ]
  },
  {
   "cell_type": "markdown",
   "id": "2f2a7c71-ab49-4cd5-afed-d04a7106980d",
   "metadata": {},
   "source": [
    "## Data Cleaning"
   ]
  },
  {
   "cell_type": "code",
   "execution_count": 10,
   "id": "4f719071-e44a-48bd-84b2-9364e8bb8161",
   "metadata": {},
   "outputs": [],
   "source": [
    "raw_data_JNJ['Date'] = pd.to_datetime(raw_data_JNJ['Date'], utc=True).dt.date"
   ]
  },
  {
   "cell_type": "code",
   "execution_count": 11,
   "id": "4b913626-311b-40ab-88ce-2c88526f326e",
   "metadata": {},
   "outputs": [],
   "source": [
    "raw_data_PG['Date'] = pd.to_datetime(raw_data_PG['Date'], utc = True).dt.date"
   ]
  },
  {
   "cell_type": "code",
   "execution_count": 12,
   "id": "e37f1950-a9af-44f3-bc23-3ed8287589ca",
   "metadata": {},
   "outputs": [],
   "source": [
    "# set Date as index\n",
    "raw_data_PG.set_index('Date', inplace=True)\n",
    "\n",
    "raw_data_JNJ.set_index('Date', inplace=True)"
   ]
  },
  {
   "cell_type": "code",
   "execution_count": 13,
   "id": "f708abc8-9dbf-481f-a2e1-d9085910ce33",
   "metadata": {},
   "outputs": [
    {
     "data": {
      "text/html": [
       "<div>\n",
       "<style scoped>\n",
       "    .dataframe tbody tr th:only-of-type {\n",
       "        vertical-align: middle;\n",
       "    }\n",
       "\n",
       "    .dataframe tbody tr th {\n",
       "        vertical-align: top;\n",
       "    }\n",
       "\n",
       "    .dataframe thead th {\n",
       "        text-align: right;\n",
       "    }\n",
       "</style>\n",
       "<table border=\"1\" class=\"dataframe\">\n",
       "  <thead>\n",
       "    <tr style=\"text-align: right;\">\n",
       "      <th></th>\n",
       "      <th>Open</th>\n",
       "      <th>High</th>\n",
       "      <th>Low</th>\n",
       "      <th>Close</th>\n",
       "      <th>Volume</th>\n",
       "      <th>Dividends</th>\n",
       "      <th>Stock Splits</th>\n",
       "    </tr>\n",
       "    <tr>\n",
       "      <th>Date</th>\n",
       "      <th></th>\n",
       "      <th></th>\n",
       "      <th></th>\n",
       "      <th></th>\n",
       "      <th></th>\n",
       "      <th></th>\n",
       "      <th></th>\n",
       "    </tr>\n",
       "  </thead>\n",
       "  <tbody>\n",
       "    <tr>\n",
       "      <th>2010-03-02</th>\n",
       "      <td>41.153654</td>\n",
       "      <td>41.250530</td>\n",
       "      <td>40.908230</td>\n",
       "      <td>41.147194</td>\n",
       "      <td>8004000</td>\n",
       "      <td>0.0</td>\n",
       "      <td>0.0</td>\n",
       "    </tr>\n",
       "    <tr>\n",
       "      <th>2010-03-03</th>\n",
       "      <td>41.114898</td>\n",
       "      <td>41.269903</td>\n",
       "      <td>40.966352</td>\n",
       "      <td>41.043854</td>\n",
       "      <td>8608300</td>\n",
       "      <td>0.0</td>\n",
       "      <td>0.0</td>\n",
       "    </tr>\n",
       "    <tr>\n",
       "      <th>2010-03-04</th>\n",
       "      <td>41.108427</td>\n",
       "      <td>41.431352</td>\n",
       "      <td>40.953421</td>\n",
       "      <td>41.121342</td>\n",
       "      <td>8600300</td>\n",
       "      <td>0.0</td>\n",
       "      <td>0.0</td>\n",
       "    </tr>\n",
       "    <tr>\n",
       "      <th>2010-03-05</th>\n",
       "      <td>41.134277</td>\n",
       "      <td>41.192404</td>\n",
       "      <td>40.720933</td>\n",
       "      <td>41.134277</td>\n",
       "      <td>10101100</td>\n",
       "      <td>0.0</td>\n",
       "      <td>0.0</td>\n",
       "    </tr>\n",
       "    <tr>\n",
       "      <th>2010-03-08</th>\n",
       "      <td>41.043843</td>\n",
       "      <td>41.121345</td>\n",
       "      <td>40.708000</td>\n",
       "      <td>40.811337</td>\n",
       "      <td>11293300</td>\n",
       "      <td>0.0</td>\n",
       "      <td>0.0</td>\n",
       "    </tr>\n",
       "  </tbody>\n",
       "</table>\n",
       "</div>"
      ],
      "text/plain": [
       "                 Open       High        Low      Close    Volume  Dividends  \\\n",
       "Date                                                                          \n",
       "2010-03-02  41.153654  41.250530  40.908230  41.147194   8004000        0.0   \n",
       "2010-03-03  41.114898  41.269903  40.966352  41.043854   8608300        0.0   \n",
       "2010-03-04  41.108427  41.431352  40.953421  41.121342   8600300        0.0   \n",
       "2010-03-05  41.134277  41.192404  40.720933  41.134277  10101100        0.0   \n",
       "2010-03-08  41.043843  41.121345  40.708000  40.811337  11293300        0.0   \n",
       "\n",
       "            Stock Splits  \n",
       "Date                      \n",
       "2010-03-02           0.0  \n",
       "2010-03-03           0.0  \n",
       "2010-03-04           0.0  \n",
       "2010-03-05           0.0  \n",
       "2010-03-08           0.0  "
      ]
     },
     "execution_count": 13,
     "metadata": {},
     "output_type": "execute_result"
    }
   ],
   "source": [
    "raw_data_PG.head()"
   ]
  },
  {
   "cell_type": "code",
   "execution_count": 14,
   "id": "9930640a-5a96-4cc6-b9dc-608c2935a883",
   "metadata": {},
   "outputs": [],
   "source": [
    "# Drop Dividends and Stock Splits column\n",
    "raw_data_PG.drop(['Dividends', 'Stock Splits'], axis=1, inplace=True)\n",
    "\n",
    "raw_data_JNJ.drop(['Dividends', 'Stock Splits'], axis=1, inplace=True)"
   ]
  },
  {
   "cell_type": "code",
   "execution_count": 15,
   "id": "d8ac577a-ddbe-42b7-8abf-de8f991e0774",
   "metadata": {},
   "outputs": [
    {
     "data": {
      "text/html": [
       "<div>\n",
       "<style scoped>\n",
       "    .dataframe tbody tr th:only-of-type {\n",
       "        vertical-align: middle;\n",
       "    }\n",
       "\n",
       "    .dataframe tbody tr th {\n",
       "        vertical-align: top;\n",
       "    }\n",
       "\n",
       "    .dataframe thead th {\n",
       "        text-align: right;\n",
       "    }\n",
       "</style>\n",
       "<table border=\"1\" class=\"dataframe\">\n",
       "  <thead>\n",
       "    <tr style=\"text-align: right;\">\n",
       "      <th></th>\n",
       "      <th>Open</th>\n",
       "      <th>High</th>\n",
       "      <th>Low</th>\n",
       "      <th>Close</th>\n",
       "      <th>Volume</th>\n",
       "    </tr>\n",
       "    <tr>\n",
       "      <th>Date</th>\n",
       "      <th></th>\n",
       "      <th></th>\n",
       "      <th></th>\n",
       "      <th></th>\n",
       "      <th></th>\n",
       "    </tr>\n",
       "  </thead>\n",
       "  <tbody>\n",
       "    <tr>\n",
       "      <th>2010-03-02</th>\n",
       "      <td>41.153654</td>\n",
       "      <td>41.250530</td>\n",
       "      <td>40.908230</td>\n",
       "      <td>41.147194</td>\n",
       "      <td>8004000</td>\n",
       "    </tr>\n",
       "    <tr>\n",
       "      <th>2010-03-03</th>\n",
       "      <td>41.114898</td>\n",
       "      <td>41.269903</td>\n",
       "      <td>40.966352</td>\n",
       "      <td>41.043854</td>\n",
       "      <td>8608300</td>\n",
       "    </tr>\n",
       "    <tr>\n",
       "      <th>2010-03-04</th>\n",
       "      <td>41.108427</td>\n",
       "      <td>41.431352</td>\n",
       "      <td>40.953421</td>\n",
       "      <td>41.121342</td>\n",
       "      <td>8600300</td>\n",
       "    </tr>\n",
       "    <tr>\n",
       "      <th>2010-03-05</th>\n",
       "      <td>41.134277</td>\n",
       "      <td>41.192404</td>\n",
       "      <td>40.720933</td>\n",
       "      <td>41.134277</td>\n",
       "      <td>10101100</td>\n",
       "    </tr>\n",
       "    <tr>\n",
       "      <th>2010-03-08</th>\n",
       "      <td>41.043843</td>\n",
       "      <td>41.121345</td>\n",
       "      <td>40.708000</td>\n",
       "      <td>40.811337</td>\n",
       "      <td>11293300</td>\n",
       "    </tr>\n",
       "  </tbody>\n",
       "</table>\n",
       "</div>"
      ],
      "text/plain": [
       "                 Open       High        Low      Close    Volume\n",
       "Date                                                            \n",
       "2010-03-02  41.153654  41.250530  40.908230  41.147194   8004000\n",
       "2010-03-03  41.114898  41.269903  40.966352  41.043854   8608300\n",
       "2010-03-04  41.108427  41.431352  40.953421  41.121342   8600300\n",
       "2010-03-05  41.134277  41.192404  40.720933  41.134277  10101100\n",
       "2010-03-08  41.043843  41.121345  40.708000  40.811337  11293300"
      ]
     },
     "execution_count": 15,
     "metadata": {},
     "output_type": "execute_result"
    }
   ],
   "source": [
    "raw_data_PG.head()"
   ]
  },
  {
   "cell_type": "code",
   "execution_count": null,
   "id": "9430cb4b-c403-459c-ae5a-5ab3faab3ddc",
   "metadata": {},
   "outputs": [
    {
     "data": {
      "application/vnd.jupyter.widget-view+json": {
       "model_id": "6d1e3dad57d840dc93e7416181c78d6e",
       "version_major": 2,
       "version_minor": 0
      },
      "text/plain": [
       "Summarize dataset:   0%|          | 0/5 [00:00<?, ?it/s]"
      ]
     },
     "metadata": {},
     "output_type": "display_data"
    }
   ],
   "source": [
    "# Create a profile Report\n",
    "profile = ProfileReport(raw_data_PG, title='PG Stock Market Profiling Report')\n",
    "\n",
    "profile.to_notebook_iframe()"
   ]
  },
  {
   "cell_type": "code",
   "execution_count": null,
   "id": "4103ed6f-4955-43a9-a61a-3158139bfb55",
   "metadata": {},
   "outputs": [],
   "source": []
  },
  {
   "cell_type": "markdown",
   "id": "19745ffe-136d-4ca0-902c-e046c17d2d06",
   "metadata": {},
   "source": [
    "### Feature Engineering"
   ]
  },
  {
   "cell_type": "code",
   "execution_count": null,
   "id": "d2daaf79-f737-46b7-a66f-50239ab12ed5",
   "metadata": {},
   "outputs": [],
   "source": [
    "# Computing daily returns (percentage change in Close price)\n",
    "raw_data_PG['Returns'] = raw_data_PG['Close'].pct_change() * 100\n",
    "\n",
    "raw_data_JNJ['Returns'] = raw_data_JNJ['Close'].pct_change() * 100 "
   ]
  },
  {
   "cell_type": "code",
   "execution_count": null,
   "id": "0a56daae-803a-460e-b892-7d4feb45eaf0",
   "metadata": {},
   "outputs": [],
   "source": [
    "# Creating tomorrow's price column by shifting Close price up by 1 day\n",
    "raw_data_PG['Tomorrow'] = raw_data_PG['Close'].shift(-1)\n",
    "\n",
    "raw_data_JNJ['Tomorrow'] = raw_data_JNJ['Close'].shift(-1)"
   ]
  },
  {
   "cell_type": "code",
   "execution_count": null,
   "id": "15ea4405-c5b5-43e9-9f30-78dad3de7b91",
   "metadata": {},
   "outputs": [],
   "source": [
    "# Creating direction column (1 if price goes up, 0 if it goes down)\n",
    "raw_data_PG['Stock_Direction'] = (raw_data_PG['Tomorrow'] > raw_data_PG['Close']).astype(int)\n",
    "\n",
    "raw_data_JNJ['Stock_Direction'] = (raw_data_JNJ['Tomorrow'] > raw_data_JNJ['Close']).astype(int)"
   ]
  },
  {
   "cell_type": "code",
   "execution_count": null,
   "id": "2ff5e238-4127-4ac1-ab20-b8cd26a02bd7",
   "metadata": {},
   "outputs": [],
   "source": [
    "raw_data_PG"
   ]
  },
  {
   "cell_type": "code",
   "execution_count": null,
   "id": "b92c8ebe-833c-47d7-bdc1-d10b19c68ebb",
   "metadata": {},
   "outputs": [],
   "source": [
    "# Drop the last row since it will have NaN in Tomorrow column\n",
    "raw_data_PG.dropna(inplace=True)\n",
    "\n",
    "raw_data_JNJ.dropna(inplace=True)"
   ]
  },
  {
   "cell_type": "code",
   "execution_count": null,
   "id": "8544d3f1-ac47-424a-bb22-21975130768f",
   "metadata": {},
   "outputs": [],
   "source": [
    "raw_data_PG.head()"
   ]
  },
  {
   "cell_type": "code",
   "execution_count": null,
   "id": "1d48a49f-a87d-4117-b171-1355e4c2e06c",
   "metadata": {},
   "outputs": [],
   "source": [
    "PG_data = raw_data_PG.copy()\n",
    "JNJ_data = raw_data_JNJ.copy()"
   ]
  },
  {
   "cell_type": "code",
   "execution_count": null,
   "id": "3e4e9d4c-0d84-4c36-94a8-6183fcdf3094",
   "metadata": {},
   "outputs": [],
   "source": []
  },
  {
   "cell_type": "markdown",
   "id": "af9423bd-e015-4376-a7cc-f6855454d3c2",
   "metadata": {},
   "source": [
    "## Exploratory Data and Stock Market Analysis"
   ]
  },
  {
   "cell_type": "code",
   "execution_count": null,
   "id": "24390fcc-33d5-452a-82b2-df6adbd0cd7a",
   "metadata": {},
   "outputs": [],
   "source": [
    "import matplotlib.pyplot as plt\n",
    "%matplotlib inline\n",
    "import seaborn as sns\n",
    "sns.set()"
   ]
  },
  {
   "cell_type": "markdown",
   "id": "6b991985-0108-4df6-b631-e6f8006069a8",
   "metadata": {},
   "source": [
    "#### 1. Historical Trends Analysis"
   ]
  },
  {
   "cell_type": "code",
   "execution_count": null,
   "id": "39a79cf4-a7f9-4423-9066-58720b9d25ef",
   "metadata": {},
   "outputs": [],
   "source": [
    "# Calculate monthly average prices\n",
    "PG_data.index = pd.to_datetime(PG_data.index)\n",
    "JNJ_data.index = pd.to_datetime(JNJ_data.index)\n",
    "\n",
    "PG_data['Month'] = PG_data.index.to_period('M')\n",
    "JNJ_data['Month'] = JNJ_data.index.to_period('M')\n",
    "\n",
    "monthly_avg_pg = PG_data.groupby('Month')['Close'].mean()\n",
    "monthly_avg_jnj = JNJ_data.groupby('Month')['Close'].mean()"
   ]
  },
  {
   "cell_type": "code",
   "execution_count": null,
   "id": "0d13252c-cb25-4c85-843c-c52dda5b5036",
   "metadata": {},
   "outputs": [],
   "source": [
    "monthly_avg_pg.head()"
   ]
  },
  {
   "cell_type": "code",
   "execution_count": null,
   "id": "061b983c-dfc6-4714-85c0-6e029acac6c6",
   "metadata": {},
   "outputs": [],
   "source": [
    "monthly_avg_jnj.head()"
   ]
  },
  {
   "cell_type": "markdown",
   "id": "5aa3e412-4fe7-47ca-91da-597000d2cdc3",
   "metadata": {},
   "source": [
    "#### 2. Risk Metrics"
   ]
  },
  {
   "cell_type": "code",
   "execution_count": null,
   "id": "b202d309-a4e5-43eb-abaf-6b8075a0aee4",
   "metadata": {},
   "outputs": [],
   "source": [
    "# Calculate annualized volatility (assuming 252 trading days)\n",
    "pg_ann_vol = PG_data['Returns'].std() * np.sqrt(252)\n",
    "jnj_ann_vol = JNJ_data['Returns'].std() * np.sqrt(252)\n",
    "\n",
    "# Calculate annualized returns\n",
    "pg_ann_return = PG_data['Returns'].mean() * 252\n",
    "jnj_ann_return = JNJ_data['Returns'].mean() * 252\n",
    "\n",
    "# Calculate Sharpe Ratio (assuming risk-free rate of 2%)\n",
    "rf = 0.02\n",
    "pg_sharpe = (pg_ann_return - rf) / pg_ann_vol\n",
    "jnj_sharpe = (jnj_ann_return - rf) / jnj_ann_vol"
   ]
  },
  {
   "cell_type": "code",
   "execution_count": null,
   "id": "a80d748c-b280-4be0-a16f-ad2840dae91e",
   "metadata": {},
   "outputs": [],
   "source": [
    "pg_sharpe"
   ]
  },
  {
   "cell_type": "code",
   "execution_count": null,
   "id": "244e9e82-40d2-44c1-a27b-706d8fad417a",
   "metadata": {},
   "outputs": [],
   "source": [
    "jnj_sharpe"
   ]
  },
  {
   "cell_type": "markdown",
   "id": "24e6ae71-1252-4b5b-946e-4b5c8b417d8b",
   "metadata": {},
   "source": [
    "Looking at these numbers:\n",
    "\n",
    "PG (Procter & Gamble): 0.64\n",
    "JNJ (Johnson & Johnson): 0.65\n",
    "\n",
    "Think of it like this: both companies are playing it pretty safe, like choosing to drive at a steady speed rather than racing down the highway! They're basically neck and neck in terms of how much reward you get for the risk you're taking.\n",
    "The 0.6-ish scores tell us these stocks are kind of like your reliable friend - not going to make you rich overnight, but probably won't let you down either. We're talking about companies that make everyday products - PG makes stuff like Tide and Gillette, while JNJ makes Band-Aids and baby shampoo. Pretty basic, right?\n",
    "A score of 1.0 would be like getting an A grade, so these companies are scoring more like a B-. But hey, that's not bad! They're like the steady players on your team - not the star athletes, but the ones you can count on to show up and do their job every day.\n",
    "Bottom line: These stocks probably won't give you dramatic ups and downs - they're more like a smooth sailing kind of investment. They might be perfect for someone who wants to sleep well at night knowing their investment isn't going on a roller coaster ride!"
   ]
  },
  {
   "cell_type": "markdown",
   "id": "1f4af964-e116-4193-ac45-fb64a749cb8b",
   "metadata": {},
   "source": [
    "#### Visualizations"
   ]
  },
  {
   "cell_type": "code",
   "execution_count": null,
   "id": "79e2c815-3f6c-48eb-821a-f1bc7eb10189",
   "metadata": {},
   "outputs": [],
   "source": [
    "# Create PG stock price visualization\n",
    "plt.figure(figsize=(12, 6))\n",
    "plt.plot(PG_data.index, PG_data['Close'], color='blue')\n",
    "plt.title('Procter & Gamble (PG) Stock Price Over Time')\n",
    "plt.xlabel('Date')\n",
    "plt.ylabel('Price')\n",
    "plt.xticks(rotation=45)\n",
    "plt.tight_layout()\n",
    "plt.show()"
   ]
  },
  {
   "cell_type": "code",
   "execution_count": null,
   "id": "0eb168f3-a67d-4cd0-bbcb-ec4a8e8770ee",
   "metadata": {},
   "outputs": [],
   "source": [
    "# Create JNJ stock price visualization\n",
    "plt.figure(figsize=(12, 6))\n",
    "plt.plot(JNJ_data.index, JNJ_data['Close'], color='green')\n",
    "plt.title('Johnson & Johnson (JNJ) Stock Price Over Time')\n",
    "plt.xlabel('Date')\n",
    "plt.ylabel('Price')\n",
    "plt.xticks(rotation=45)\n",
    "plt.tight_layout()\n",
    "plt.show()"
   ]
  },
  {
   "cell_type": "markdown",
   "id": "bc745c49-4b7b-4885-81b1-c2e880344299",
   "metadata": {},
   "source": [
    "The first plot shows the stock price trend of Procter & Gamble (PG) over time. The stock price has shown a steady upward trend since 2010, with some fluctuations. Notable dips are observed around 2015 and 2020, likely due to market corrections or external factors. Despite these fluctuations, the overall trajectory remains positive, reaching new highs by 2024.\n",
    "\n",
    "The second plot presents the stock price trend of Johnson & Johnson (JNJ). Similar to PG, JNJ's stock price has followed an upward trend from 2010, with a significant increase around 2014. The stock experienced some periods of volatility, especially around 2020, but has maintained a relatively stable pattern since then, with prices fluctuating within a range in recent years.\n",
    "\n",
    "Both stocks exhibit long-term growth, with occasional market-driven corrections, reflecting their resilience in the consumer goods and healthcare sectors."
   ]
  },
  {
   "cell_type": "code",
   "execution_count": null,
   "id": "3fae989a-52cb-48b9-87ae-18981f82792b",
   "metadata": {},
   "outputs": [],
   "source": [
    "# Returns Distribution\n",
    "plt.figure(figsize=(12, 6))\n",
    "plt.hist(PG_data['Returns'], bins=50, alpha=0.5, label='PG', color='blue')\n",
    "plt.hist(JNJ_data['Returns'], bins=50, alpha=0.5, label='JNJ', color='green')\n",
    "plt.title('Returns Distribution: PG vs JNJ')\n",
    "plt.xlabel('Daily Returns (%)')\n",
    "plt.ylabel('Frequency')\n",
    "plt.legend()\n",
    "plt.tight_layout()\n",
    "plt.show()"
   ]
  },
  {
   "cell_type": "markdown",
   "id": "fe58bb24-57ff-4798-a384-5817abb770bf",
   "metadata": {},
   "source": [
    "The histogram shows the daily returns of Procter & Gamble (PG) and Johnson & Johnson (JNJ). Both stocks have most of their returns centered around zero, with fewer extreme values. The similar shape of the distributions suggests that their daily price movements are quite alike, with occasional periods of higher volatility.\n",
    "Overall, the similar shape and spread of the distributions suggest that PG and JNJ have comparable risk-return profiles over the analyzed period."
   ]
  },
  {
   "cell_type": "code",
   "execution_count": null,
   "id": "57089593-29b7-40ab-a37a-4354547e8628",
   "metadata": {},
   "outputs": [],
   "source": [
    "# Calculate 30-day rolling volatility\n",
    "PG_data['Rolling_Vol'] = PG_data['Returns'].rolling(window=30).std()\n",
    "JNJ_data['Rolling_Vol'] = JNJ_data['Returns'].rolling(window=30).std()\n",
    "\n",
    "# Plot Rolling Volatility\n",
    "plt.figure(figsize=(12, 6))\n",
    "plt.plot(PG_data.index, PG_data['Rolling_Vol'], label='PG', color='blue')\n",
    "plt.plot(JNJ_data.index, JNJ_data['Rolling_Vol'], label='JNJ', color='green')\n",
    "plt.title('30-Day Rolling Volatility: PG vs JNJ')\n",
    "plt.xlabel('Date')\n",
    "plt.ylabel('Volatility')\n",
    "plt.legend()\n",
    "plt.xticks(rotation=45)\n",
    "plt.tight_layout()\n",
    "plt.show()"
   ]
  },
  {
   "cell_type": "markdown",
   "id": "86e497d7-9d40-4c21-a036-985d19295a8e",
   "metadata": {},
   "source": [
    "Key insights from the graph include:\n",
    "\n",
    "Both stocks exhibit similar patterns of volatility, with peaks during periods of market turbulence (e.g., the sharp spike around 2020 likely corresponds to the COVID-19 pandemic).\n",
    "PG (blue line) and JNJ (green line) generally maintain low volatility levels, with occasional surges driven by broader market events.\n",
    "This visualization helps analyze the relative stability of the two stocks and their responsiveness to external factors."
   ]
  },
  {
   "cell_type": "code",
   "execution_count": null,
   "id": "6a152e61-df81-4128-84d3-e65622585f6a",
   "metadata": {},
   "outputs": [],
   "source": [
    "# Volume Analysis\n",
    "plt.figure(figsize=(12, 6))\n",
    "plt.plot(PG_data.index, PG_data['Volume'], label='PG', color='blue')\n",
    "plt.plot(JNJ_data.index, JNJ_data['Volume'], label='JNJ', color='green')\n",
    "plt.title('Trading Volume: PG vs JNJ')\n",
    "plt.xlabel('Date')\n",
    "plt.ylabel('Volume')\n",
    "plt.legend()\n",
    "plt.xticks(rotation=45)\n",
    "plt.tight_layout()\n",
    "plt.show()"
   ]
  },
  {
   "cell_type": "markdown",
   "id": "8997c37f-99bb-4708-90d1-a1f5deb22837",
   "metadata": {},
   "source": [
    "Key observations:\n",
    "\n",
    "The y-axis represents the trading volume, measured in shares, while the x-axis tracks the date.\n",
    "Both stocks show consistent trading volumes, with occasional large spikes.\n",
    "Notable spikes indicate periods of unusually high trading activity, possibly driven by significant company announcements, market events, or broader economic changes."
   ]
  },
  {
   "cell_type": "code",
   "execution_count": null,
   "id": "76564b13-ebe0-4706-b0b0-15550e83bb12",
   "metadata": {},
   "outputs": [],
   "source": []
  },
  {
   "cell_type": "markdown",
   "id": "ad54d270-82e2-4ea6-9cdd-8ca303f559f7",
   "metadata": {},
   "source": [
    "#### 3. Comparative Analysis"
   ]
  },
  {
   "cell_type": "code",
   "execution_count": null,
   "id": "6f9671d3-9b72-4068-92b2-ada96653b027",
   "metadata": {},
   "outputs": [],
   "source": [
    "# Create comparative analysis DataFrame\n",
    "metrics = {\n",
    "    'Metric': ['Annualized Return (%)', 'Annualized Volatility (%)', 'Sharpe Ratio',\n",
    "               'Average Daily Volume', 'Up Days (%)', 'Maximum Daily Gain (%)', \n",
    "               'Maximum Daily Loss (%)'],\n",
    "    'PG': [pg_ann_return, \n",
    "           pg_ann_vol,\n",
    "           pg_sharpe,\n",
    "           PG_data['Volume'].mean(),\n",
    "           (PG_data['Stock_Direction'].mean() * 100),\n",
    "           PG_data['Returns'].max(),\n",
    "           PG_data['Returns'].min()],\n",
    "    'JNJ': [jnj_ann_return,\n",
    "            jnj_ann_vol,\n",
    "            jnj_sharpe,\n",
    "            JNJ_data['Volume'].mean(),\n",
    "            (JNJ_data['Stock_Direction'].mean() * 100),\n",
    "            JNJ_data['Returns'].max(),\n",
    "            JNJ_data['Returns'].min()]\n",
    "}\n",
    "\n",
    "comparison_df = pd.DataFrame(metrics)\n",
    "print(\"\\nComparative Analysis:\")\n",
    "print(comparison_df.round(2))"
   ]
  },
  {
   "cell_type": "markdown",
   "id": "72f28fa8-e36c-41f7-9b35-0d8bc1cce524",
   "metadata": {},
   "source": [
    "Returns & Growth\n",
    "\n",
    "Both stocks grow similarly at 11% per year. PG performs just a tiny bit better, beating JNJ by 0.05%.\n",
    "Risk & Safety\n",
    "JNJ plays it slightly safer with less ups and downs in price (16.81% volatility vs PG's 17.25%). While JNJ had one really bad day (-10.04%), PG's best day (12.01%) beat JNJ's best (8%).\n",
    "\n",
    "Trading Activity\n",
    "\n",
    "They're neck and neck in daily trading - both see about 8.8 million shares traded daily. PG edges ahead with more winning days (52.39% vs 51.76%).\n",
    "Bottom line? These stocks are very similar, like two peas in a pod. JNJ might be your pick if you want slightly less risk, while PG could be better if you're chasing slightly higher returns. CopyRetryClaude can make mistakes. Please double-check responses."
   ]
  },
  {
   "cell_type": "markdown",
   "id": "08ab2804-a3f0-409c-9fb9-9c3f56f7b084",
   "metadata": {},
   "source": [
    "#### 4. Investment Suitability Analysis"
   ]
  },
  {
   "cell_type": "code",
   "execution_count": null,
   "id": "4239c37a-848e-4d89-af47-9aec4f860451",
   "metadata": {},
   "outputs": [],
   "source": [
    "# Calculate risk-adjusted metrics\n",
    "def calculate_investment_metrics(df):\n",
    "    # Maximum Drawdown\n",
    "    roll_max = df['Close'].expanding().max()\n",
    "    drawdowns = df['Close']/roll_max - 1.0\n",
    "    max_drawdown = drawdowns.min()\n",
    "    \n",
    "    # Recovery Rate (% of up days)\n",
    "    recovery_rate = df['Stock_Direction'].mean() * 100\n",
    "    \n",
    "    # Risk-Adjusted Return (Return per unit of risk)\n",
    "    risk_adj_return = (df['Returns'].mean() / df['Returns'].std())\n",
    "    \n",
    "    return max_drawdown, recovery_rate, risk_adj_return\n",
    "\n",
    "# Calculate metrics for both stocks\n",
    "pg_metrics = calculate_investment_metrics(PG_data)\n",
    "jnj_metrics = calculate_investment_metrics(JNJ_data)\n",
    "\n",
    "# Create investment suitability analysis\n",
    "print(\"\\nInvestment Suitability Analysis:\")\n",
    "suitability_df = pd.DataFrame({\n",
    "    'Metric': ['Maximum Drawdown (%)', 'Recovery Rate (%)', 'Risk-Adjusted Return'],\n",
    "    'PG': [pg_metrics[0] * 100, pg_metrics[1], pg_metrics[2]],\n",
    "    'JNJ': [jnj_metrics[0] * 100, jnj_metrics[1], jnj_metrics[2]]\n",
    "})\n",
    "print(suitability_df.round(2))"
   ]
  },
  {
   "cell_type": "markdown",
   "id": "93bf536c-a390-45d2-92ad-61c4876d2845",
   "metadata": {},
   "source": [
    "Maximum Drawdown shows the biggest drop from peak value:\n",
    "\n",
    "PG's worst drop: -25.46%\n",
    "JNJ's worst drop: -27.37%\n",
    "PG held up slightly better during tough times\n",
    "\n",
    "Recovery Rate shows how often the stock moves up:\n",
    "\n",
    "Both recover similarly\n",
    "PG: wins 52.39% of trading days\n",
    "JNJ: wins 51.76% of trading days\n",
    "\n",
    "Risk-Adjusted Return (both 0.04) tells us:\n",
    "\n",
    "Both stocks give identical returns for their risk level\n",
    "This suggests they're equally efficient investments\n",
    "\n",
    "Bottom line: Both stocks show very similar risk and recovery patterns, with PG showing slightly more resilience during market downturns."
   ]
  },
  {
   "cell_type": "code",
   "execution_count": null,
   "id": "af46515b-4041-4796-82ce-0acda3d3989c",
   "metadata": {},
   "outputs": [],
   "source": []
  },
  {
   "cell_type": "markdown",
   "id": "4df101d9-bf10-44e6-b407-8ca3ea722f28",
   "metadata": {},
   "source": [
    "## Fundamental Analysis"
   ]
  },
  {
   "cell_type": "code",
   "execution_count": null,
   "id": "29e5bbc9-27ec-40a8-97db-6a72b2bce7f7",
   "metadata": {},
   "outputs": [],
   "source": [
    "# Get financial data\n",
    "start_date = '2010-03-02'\n",
    "end_date = '2024-02-28'\n",
    "\n",
    "pg = yf.Ticker(\"PG\")\n",
    "jnj = yf.Ticker(\"JNJ\")"
   ]
  },
  {
   "cell_type": "code",
   "execution_count": null,
   "id": "179b6d73-f43f-4547-9ba2-112667bf1f2a",
   "metadata": {},
   "outputs": [],
   "source": [
    "# Get quarterly financial statements to get more granular data\n",
    "income_pg = pg.quarterly_financials \n",
    "balance_pg = pg.quarterly_balance_sheet\n",
    "income_jnj = jnj.quarterly_financials\n",
    "balance_jnj = jnj.quarterly_balance_sheet"
   ]
  },
  {
   "cell_type": "code",
   "execution_count": null,
   "id": "8a27c80f-82d5-4714-b627-ebb6ef36a2c3",
   "metadata": {},
   "outputs": [],
   "source": [
    "# Sort index to ensure chronological order\n",
    "income_pg = income_pg.sort_index(axis=1)\n",
    "income_jnj = income_jnj.sort_index(axis=1)\n",
    "balance_pg = balance_pg.sort_index(axis=1)\n",
    "balance_jnj = balance_jnj.sort_index(axis=1)"
   ]
  },
  {
   "cell_type": "markdown",
   "id": "eb3aff2d-f187-4f02-91a8-906d9dc8e680",
   "metadata": {},
   "source": [
    "#### 1. Revenue Analysis"
   ]
  },
  {
   "cell_type": "code",
   "execution_count": null,
   "id": "c7cb7b86-9e4a-41ae-b9ef-787d5b7495ab",
   "metadata": {},
   "outputs": [],
   "source": [
    "# Get revenue data\n",
    "pg_revenue = income_pg.loc['Total Revenue']\n",
    "jnj_revenue = income_jnj.loc['Total Revenue']\n",
    "\n",
    "plt.figure(figsize=(12, 6))\n",
    "plt.plot(pg_revenue.index, pg_revenue.values/1e9, marker='o', label='PG', linewidth=2)\n",
    "plt.plot(jnj_revenue.index, jnj_revenue.values/1e9, marker='s', label='JNJ', linewidth=2)\n",
    "plt.title('Quarterly Revenue Trends (2010-2024)', fontsize=14)\n",
    "plt.xlabel('Year', fontsize=12)\n",
    "plt.ylabel('Revenue (Billions USD)', fontsize=12)\n",
    "plt.grid(True, linestyle='--', alpha=0.7)\n",
    "plt.legend()\n",
    "plt.xticks(rotation=45)\n",
    "plt.show()"
   ]
  },
  {
   "cell_type": "markdown",
   "id": "9aacd856-bb59-4c2a-8557-a84c0cb03582",
   "metadata": {},
   "source": [
    "PG (blue line) experienced a dip in revenue in early 2024, followed by a strong recovery in subsequent quarters.\n",
    "\n",
    "JNJ (orange line) maintained relatively stable revenue levels throughout the period, showing consistent performance with slight growth.\n",
    "\n",
    "The contrasting patterns highlight PG's short-term volatility compared to JNJ's steady revenue growth."
   ]
  },
  {
   "cell_type": "markdown",
   "id": "a66a3882-8403-4934-826a-31536202dace",
   "metadata": {},
   "source": []
  },
  {
   "cell_type": "markdown",
   "id": "b6e9a07f-0d5e-4fff-bf75-28b5287566de",
   "metadata": {},
   "source": [
    "#### 2. Profit Margins"
   ]
  },
  {
   "cell_type": "code",
   "execution_count": null,
   "id": "b1e1e9d9-7737-473b-9883-c98649a3a980",
   "metadata": {},
   "outputs": [],
   "source": [
    "pg_margin = (income_pg.loc['Net Income'] / income_pg.loc['Total Revenue']) * 100\n",
    "jnj_margin = (income_jnj.loc['Net Income'] / income_jnj.loc['Total Revenue']) * 100\n",
    "\n",
    "plt.figure(figsize=(12, 6))\n",
    "plt.plot(pg_margin.index, pg_margin.values, marker='o', label='PG', linewidth=2)\n",
    "plt.plot(jnj_margin.index, jnj_margin.values, marker='s', label='JNJ', linewidth=2)\n",
    "plt.title('Quarterly Profit Margins (2023-2024)', fontsize=14)\n",
    "plt.xlabel('Year', fontsize=12)\n",
    "plt.ylabel('Net Profit Margin (%)', fontsize=12)\n",
    "plt.grid(True, linestyle='--', alpha=0.7)\n",
    "plt.legend()\n",
    "plt.xticks(rotation=45)\n",
    "plt.show()"
   ]
  },
  {
   "cell_type": "markdown",
   "id": "8cc44eaa-d8a5-4795-adfb-cfcc318bfbf0",
   "metadata": {},
   "source": [
    "JNJ (orange line) starts with an extremely high profit margin in late 2023, which drops steeply to align with PG's range by early 2024. This may indicate an anomaly or a one-off event in the earlier period\n",
    "\n",
    "PG (blue line) shows steady and gradual growth in its profit margin over the observed period, reflecting consistent financial improvement.\n",
    "\n",
    "Post-Q1 2024, both companies have comparable profit margins, fluctuating within the 15-25% range."
   ]
  },
  {
   "cell_type": "markdown",
   "id": "e3260fb9-f4f4-443a-97cc-ab822ce4b368",
   "metadata": {},
   "source": [
    "#### 3. Capital Structure"
   ]
  },
  {
   "cell_type": "code",
   "execution_count": null,
   "id": "2692488f-afd2-49c8-82a6-981ab6322286",
   "metadata": {},
   "outputs": [],
   "source": [
    "# Total Debt to Total Capital\n",
    "pg_total_debt = balance_pg.loc['Total Debt']\n",
    "pg_total_capital = pg_total_debt + balance_pg.loc['Stockholders Equity']\n",
    "pg_debt_to_capital = pg_total_debt / pg_total_capital\n",
    "\n",
    "jnj_total_debt = balance_jnj.loc['Total Debt']\n",
    "jnj_total_capital = jnj_total_debt + balance_jnj.loc['Stockholders Equity']\n",
    "jnj_debt_to_capital = jnj_total_debt / jnj_total_capital\n",
    "\n",
    "plt.figure(figsize=(12, 6))\n",
    "plt.plot(pg_debt_to_capital.index, pg_debt_to_capital.values, marker='o', label='PG')\n",
    "plt.plot(jnj_debt_to_capital.index, jnj_debt_to_capital.values, marker='s', label='JNJ')\n",
    "plt.title('Total Debt to Capital Ratio')\n",
    "plt.xlabel('Year')\n",
    "plt.ylabel('Ratio')\n",
    "plt.grid(True)\n",
    "plt.legend()\n",
    "plt.xticks(rotation=45)\n",
    "plt.show()"
   ]
  },
  {
   "cell_type": "markdown",
   "id": "42e22c84-ef9b-4bba-a41e-1efffa654b2f",
   "metadata": {},
   "source": [
    "PG (Blue Line)\n",
    "\n",
    "PG's debt-to-capital ratio remains relatively stable, fluctuating around 0.39 to 0.41.\n",
    "There is a slight decline early in 2024, followed by an upward trend peaking around mid-2024.\n",
    "By early 2025, PG's ratio stabilizes near 0.40, indicating a steady financial leverage strategy.\n",
    "\n",
    "JNJ (Orange Line)\n",
    "\n",
    "JNJ starts with a lower debt-to-capital ratio of around 0.29.\n",
    "The ratio shows a steady increase, peaking around mid-2024 at approximately 0.36.\n",
    "After mid-2024, the ratio declines, suggesting possible debt reduction or increased equity financing."
   ]
  },
  {
   "cell_type": "code",
   "execution_count": null,
   "id": "428f16ca-cc35-4127-93f5-5c58a0ea6295",
   "metadata": {},
   "outputs": [],
   "source": [
    "# Long-term Debt to Total Capital\n",
    "pg_lt_debt = balance_pg.loc['Long Term Debt']\n",
    "pg_lt_debt_to_capital = pg_lt_debt / pg_total_capital\n",
    "\n",
    "jnj_lt_debt = balance_jnj.loc['Long Term Debt']\n",
    "jnj_lt_debt_to_capital = jnj_lt_debt / jnj_total_capital\n",
    "\n",
    "plt.figure(figsize=(12, 6))\n",
    "plt.plot(pg_lt_debt_to_capital.index, pg_lt_debt_to_capital.values, marker='o', label='PG')\n",
    "plt.plot(jnj_lt_debt_to_capital.index, jnj_lt_debt_to_capital.values, marker='s', label='JNJ')\n",
    "plt.title('Long-term Debt to Capital Ratio')\n",
    "plt.xlabel('Year')\n",
    "plt.ylabel('Ratio')\n",
    "plt.grid(True)\n",
    "plt.legend()\n",
    "plt.xticks(rotation=45)\n",
    "plt.show()"
   ]
  },
  {
   "cell_type": "markdown",
   "id": "b3e5a3ba-98c4-4fd1-acde-48fb610454d1",
   "metadata": {},
   "source": [
    "PG's ratio starts at around 0.28 and rises to 0.30 by mid-2024. After that, it slightly declines and stabilizes near 0.29 by early 2025. This suggests that PG increased its long-term debt but later maintained a stable level.\n",
    "\n",
    "JNJ's ratio starts at about 0.26 and drops to 0.24 in early 2024. It then rises sharply, reaching 0.29 by late 2024. This pattern indicates fluctuations in JNJ’s long-term financing, possibly due to debt repayments followed by new debt issuance.\n",
    "\n",
    "PG's ratio remains relatively stable, while JNJ's ratio changes more significantly. By late 2024, both companies have similar long-term debt-to-capital ratios, suggesting they may be following similar financing strategies."
   ]
  },
  {
   "cell_type": "code",
   "execution_count": null,
   "id": "7f388bc1-4a4d-4cd9-877e-6a2acb640ead",
   "metadata": {},
   "outputs": [],
   "source": [
    "# Print capital structure composition\n",
    "print(\"\\nLatest Capital Structure Composition:\")\n",
    "print(\"\\nPG:\")\n",
    "print(f\"Total Debt: {pg_total_debt.iloc[-1]/1e9:.2f}B\")\n",
    "print(f\"Long-term Debt: {pg_lt_debt.iloc[-1]/1e9:.2f}B\")\n",
    "print(f\"Equity: {balance_pg.loc['Stockholders Equity'].iloc[-1]/1e9:.2f}B\")\n",
    "\n",
    "print(\"\\nJNJ:\")\n",
    "print(f\"Total Debt: {jnj_total_debt.iloc[-1]/1e9:.2f}B\")\n",
    "print(f\"Long-term Debt: {jnj_lt_debt.iloc[-1]/1e9:.2f}B\")\n",
    "print(f\"Equity: {balance_jnj.loc['Stockholders Equity'].iloc[-1]/1e9:.2f}B\")"
   ]
  },
  {
   "cell_type": "markdown",
   "id": "9759d254-16ed-4975-8ca2-dcddce259c9d",
   "metadata": {},
   "source": [
    "#### 4. Stock Price vs Revenue Correlation"
   ]
  },
  {
   "cell_type": "code",
   "execution_count": null,
   "id": "00d05674-1c85-4e21-b357-39f371e7730c",
   "metadata": {},
   "outputs": [],
   "source": [
    "# Set new date range to match available revenue data\n",
    "start_date = '2015-01-01'\n",
    "end_date = '2018-12-31'\n",
    "\n",
    "# Get stock price data\n",
    "stock_pg = pg.history(start=start_date, end=end_date)['Close']\n",
    "stock_pg_quarterly = stock_pg.resample('Q').last()\n",
    "stock_pg_quarterly.index = stock_pg_quarterly.index.tz_localize(None)\n",
    "\n",
    "# Get revenue data\n",
    "sales_df = pd.DataFrame(pg_data['facts']['us-gaap']['SalesRevenueNet']['units']['USD'])\n",
    "sales_df['end'] = pd.to_datetime(sales_df['end'])\n",
    "sales_df = sales_df[(sales_df['end'] >= start_date) & (sales_df['end'] <= end_date)]\n",
    "sales_df = sales_df.set_index('end')\n",
    "\n",
    "# Find common dates\n",
    "common_dates = pd.Index(sorted(set(stock_pg_quarterly.index) & set(sales_df.index)))\n",
    "\n",
    "# Align and normalize data\n",
    "stock_aligned = stock_pg_quarterly.loc[common_dates]\n",
    "revenue_aligned = sales_df.loc[common_dates, 'val']\n",
    "\n",
    "norm_price = stock_aligned / stock_aligned.iloc[0]\n",
    "norm_revenue = revenue_aligned / revenue_aligned.iloc[0]\n",
    "\n",
    "# Create visualization\n",
    "plt.figure(figsize=(12, 6))\n",
    "plt.plot(norm_price.index, norm_price.values, label='Stock Price', linewidth=2)\n",
    "plt.plot(norm_revenue.index, norm_revenue.values, label='Revenue', marker='o', linewidth=2)\n",
    "plt.title('PG: Stock Price vs Revenue Growth (2015-2018, Normalized)')\n",
    "plt.xlabel('Date')\n",
    "plt.ylabel('Growth (Base=1)')\n",
    "plt.grid(True, linestyle='--', alpha=0.7)\n",
    "plt.legend()\n",
    "plt.xticks(rotation=45)\n",
    "plt.tight_layout()\n",
    "plt.show()\n",
    "\n",
    "# Print performance metrics\n",
    "print(\"\\nGrowth Analysis (2015-2018):\")\n",
    "print(f\"Stock Price Growth: {((norm_price.iloc[-1] - 1) * 100):.2f}%\")\n",
    "print(f\"Revenue Growth: {((norm_revenue.iloc[-1] - 1) * 100):.2f}%\")\n",
    "\n",
    "# Print correlation\n",
    "correlation = norm_price.corr(norm_revenue)\n",
    "print(f\"\\nCorrelation between Stock Price and Revenue: {correlation:.2f}\")"
   ]
  },
  {
   "cell_type": "markdown",
   "id": "13f7117b-5179-4e7f-b54b-b7455ff0b6ec",
   "metadata": {},
   "source": [
    "The stock price shows a steady upward trend with minor fluctuations, indicating consistent market confidence in the company. In contrast, revenue growth exhibits high volatility, with frequent spikes and dips. This suggests that while revenue experiences significant short-term changes, the stock price remains relatively stable over time.\n",
    "\n",
    "The difference in trends implies that PG's stock price may not be directly tied to short-term revenue changes but rather influenced by broader market factors and investor sentiment."
   ]
  },
  {
   "cell_type": "code",
   "execution_count": null,
   "id": "9443058d-c1ab-43e9-baaa-e4fb361bca62",
   "metadata": {},
   "outputs": [],
   "source": []
  }
 ],
 "metadata": {
  "kernelspec": {
   "display_name": "Python 3 (ipykernel)",
   "language": "python",
   "name": "python3"
  },
  "language_info": {
   "codemirror_mode": {
    "name": "ipython",
    "version": 3
   },
   "file_extension": ".py",
   "mimetype": "text/x-python",
   "name": "python",
   "nbconvert_exporter": "python",
   "pygments_lexer": "ipython3",
   "version": "3.12.8"
  }
 },
 "nbformat": 4,
 "nbformat_minor": 5
}
