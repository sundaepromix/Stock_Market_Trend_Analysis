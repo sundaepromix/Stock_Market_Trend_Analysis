{
 "cells": [
  {
   "cell_type": "code",
   "execution_count": null,
   "id": "b8e95a58-7412-495a-8ee4-4dff17cb9c8d",
   "metadata": {},
   "outputs": [],
   "source": []
  },
  {
   "cell_type": "code",
   "execution_count": 4,
   "id": "88505ec1-370d-435e-8722-90f1d9080d88",
   "metadata": {},
   "outputs": [],
   "source": [
    "import pandas as pd\n",
    "from sklearn.model_selection import train_test_split\n",
    "from sklearn.preprocessing import StandardScaler, MinMaxScaler\n",
    "from xgboost import XGBClassifier\n",
    "from sklearn.metrics import accuracy_score, classification_report\n",
    "from tensorflow.keras.models import Sequential\n",
    "from tensorflow.keras.layers import LSTM, Dense, Dropout"
   ]
  },
  {
   "cell_type": "code",
   "execution_count": 7,
   "id": "f731dddb-b98d-4519-9b2d-07aea7e14be1",
   "metadata": {},
   "outputs": [],
   "source": [
    "pg_data = pd.read_csv('PG_data.csv')\n",
    "\n",
    "X = pg_data[[\"Close\", \"High\", \"Low\", \"Open\", \"Volume\", \"Returns\", \"Tomorrow\"]]  # Features\n",
    "y = pg_data[\"Stock_Direction\"]  # Target"
   ]
  },
  {
   "cell_type": "code",
   "execution_count": 8,
   "id": "e65c23e4-6f65-4d8c-b587-21a986f0c2ed",
   "metadata": {},
   "outputs": [],
   "source": [
    "X_train, X_test, y_train, y_test = train_test_split(X, y, test_size=0.2, random_state=42)"
   ]
  },
  {
   "cell_type": "code",
   "execution_count": 9,
   "id": "7ba198a9-ca08-44fc-b78d-74d01fd60623",
   "metadata": {},
   "outputs": [],
   "source": [
    "# Normalization\n",
    "scaler = StandardScaler()\n",
    "scaled_data = scaler.fit_transform(pg_data)"
   ]
  },
  {
   "cell_type": "code",
   "execution_count": null,
   "id": "234e69fb-4c56-4cea-b080-358895298820",
   "metadata": {},
   "outputs": [],
   "source": []
  },
  {
   "cell_type": "code",
   "execution_count": 10,
   "id": "62d2dc41-3e87-48fb-a17b-285847ef1826",
   "metadata": {},
   "outputs": [
    {
     "name": "stdout",
     "output_type": "stream",
     "text": [
      "XGBoost Accuracy: 0.8267045454545454\n",
      "              precision    recall  f1-score   support\n",
      "\n",
      "           0       0.83      0.81      0.82       349\n",
      "           1       0.82      0.84      0.83       355\n",
      "\n",
      "    accuracy                           0.83       704\n",
      "   macro avg       0.83      0.83      0.83       704\n",
      "weighted avg       0.83      0.83      0.83       704\n",
      "\n"
     ]
    }
   ],
   "source": [
    "# Initialize and train the XGBoost model\n",
    "xgb_model = XGBClassifier(random_state=42)\n",
    "xgb_model.fit(X_train, y_train)\n",
    "\n",
    "# Make predictions\n",
    "xgb_predictions = xgb_model.predict(X_test)\n",
    "\n",
    "# Evaluate the model\n",
    "xgb_accuracy = accuracy_score(y_test, xgb_predictions)\n",
    "print(f\"XGBoost Accuracy: {xgb_accuracy}\")\n",
    "print(classification_report(y_test, xgb_predictions))"
   ]
  },
  {
   "cell_type": "code",
   "execution_count": 18,
   "id": "4973c07e-60df-482d-9d64-7876638da3d7",
   "metadata": {},
   "outputs": [
    {
     "name": "stdout",
     "output_type": "stream",
     "text": [
      "Training Accuracy: 0.9424715909090909\n"
     ]
    }
   ],
   "source": [
    "train_preds = xgb_model.predict(X_train)\n",
    "train_accuracy = accuracy_score(y_train, train_preds)\n",
    "print(f\"Training Accuracy: {train_accuracy}\")"
   ]
  },
  {
   "cell_type": "code",
   "execution_count": 11,
   "id": "7b986a7c-554c-4b31-b460-36d55f865819",
   "metadata": {},
   "outputs": [
    {
     "name": "stdout",
     "output_type": "stream",
     "text": [
      "Training Accuracy: 0.9811789772727273\n",
      "Test Accuracy: 0.8267045454545454\n"
     ]
    }
   ],
   "source": [
    "# Check training performance\n",
    "train_predictions = xgb_model.predict(X_train)\n",
    "train_accuracy = accuracy_score(y_train, train_predictions)\n",
    "\n",
    "# Compare with test performance\n",
    "print(f\"Training Accuracy: {train_accuracy}\")\n",
    "print(f\"Test Accuracy: {xgb_accuracy}\")"
   ]
  },
  {
   "cell_type": "code",
   "execution_count": 13,
   "id": "0d41dd4e-057e-4a12-8723-b0e957d34299",
   "metadata": {},
   "outputs": [
    {
     "name": "stdout",
     "output_type": "stream",
     "text": [
      "Training Accuracy: 0.9811789772727273\n",
      "Test Accuracy: 0.8267045454545454\n",
      "\n",
      "Cross-validation scores: [0.74822695 0.73001776 0.74955595 0.72824156 0.79396092]\n",
      "Average CV score: 0.750 (+/- 0.047)\n"
     ]
    }
   ],
   "source": [
    "from xgboost import XGBClassifier\n",
    "from sklearn.model_selection import cross_val_score\n",
    "from sklearn.metrics import accuracy_score\n",
    "import numpy as np\n",
    "\n",
    "# First, let's check training vs test performance with the current model\n",
    "xgb_model = XGBClassifier(random_state=42)\n",
    "\n",
    "# Fit the model\n",
    "xgb_model.fit(X_train, y_train)\n",
    "\n",
    "# Get training performance\n",
    "train_predictions = xgb_model.predict(X_train)\n",
    "train_accuracy = accuracy_score(y_train, train_predictions)\n",
    "\n",
    "# Get test performance (which we already had)\n",
    "test_predictions = xgb_model.predict(X_test)\n",
    "test_accuracy = accuracy_score(y_test, test_predictions)\n",
    "\n",
    "print(f\"Training Accuracy: {train_accuracy}\")\n",
    "print(f\"Test Accuracy: {test_accuracy}\")\n",
    "\n",
    "# Let's also do cross-validation for a more robust estimate\n",
    "cv_scores = cross_val_score(xgb_model, X_train, y_train, cv=5)\n",
    "print(\"\\nCross-validation scores:\", cv_scores)\n",
    "print(f\"Average CV score: {cv_scores.mean():.3f} (+/- {cv_scores.std() * 2:.3f})\")"
   ]
  },
  {
   "cell_type": "code",
   "execution_count": null,
   "id": "c0d264da-c249-45bf-8bcb-6c23fd50778b",
   "metadata": {},
   "outputs": [],
   "source": []
  },
  {
   "cell_type": "code",
   "execution_count": 17,
   "id": "29b3c081-88dc-4c77-a18b-062a25ec4f28",
   "metadata": {},
   "outputs": [
    {
     "name": "stdout",
     "output_type": "stream",
     "text": [
      "Training Accuracy: 0.9424715909090909\n",
      "Test Accuracy: 0.7982954545454546\n",
      "\n",
      "Cross-validation scores: [0.7393617  0.69449378 0.74955595 0.72646536 0.75310835]\n",
      "Average CV score: 0.733 (+/- 0.042)\n"
     ]
    }
   ],
   "source": [
    "from xgboost import XGBClassifier\n",
    "from sklearn.model_selection import cross_val_score\n",
    "from sklearn.metrics import accuracy_score\n",
    "\n",
    "xgb_model = XGBClassifier(\n",
    "    max_depth=5,             # Slightly deeper trees\n",
    "    n_estimators=150,        \n",
    "    learning_rate=0.1,       \n",
    "    reg_lambda=0.1,          # Very light regularization\n",
    "    reg_alpha=0.1,          \n",
    "    subsample=0.9,           # Use 90% of data per tree\n",
    "    colsample_bytree=0.9,    # Use 90% of features per tree\n",
    "    random_state=42\n",
    ")\n",
    "\n",
    "# Fit and evaluate\n",
    "xgb_model.fit(X_train, y_train)\n",
    "\n",
    "# Get performances\n",
    "train_predictions = xgb_model.predict(X_train)\n",
    "test_predictions = xgb_model.predict(X_test)\n",
    "\n",
    "train_accuracy = accuracy_score(y_train, train_predictions)\n",
    "test_accuracy = accuracy_score(y_test, test_predictions)\n",
    "\n",
    "print(f\"Training Accuracy: {train_accuracy}\")\n",
    "print(f\"Test Accuracy: {test_accuracy}\")\n",
    "\n",
    "# Cross-validation\n",
    "cv_scores = cross_val_score(xgb_model, X_train, y_train, cv=5)\n",
    "print(\"\\nCross-validation scores:\", cv_scores)\n",
    "print(f\"Average CV score: {cv_scores.mean():.3f} (+/- {cv_scores.std() * 2:.3f})\")"
   ]
  },
  {
   "cell_type": "code",
   "execution_count": null,
   "id": "97ad7dcc-3fe8-4ba0-9dae-a5f9d5348c9c",
   "metadata": {},
   "outputs": [],
   "source": []
  },
  {
   "cell_type": "code",
   "execution_count": null,
   "id": "3433218c-68fc-4d5c-bdfc-555d9c8773ee",
   "metadata": {},
   "outputs": [],
   "source": []
  },
  {
   "cell_type": "code",
   "execution_count": null,
   "id": "52b0aa5e-1ee6-4325-8b5e-a2a9599eeb2d",
   "metadata": {},
   "outputs": [],
   "source": []
  },
  {
   "cell_type": "code",
   "execution_count": null,
   "id": "357ad971-2f0d-432f-885b-1ed43857d7ed",
   "metadata": {},
   "outputs": [],
   "source": []
  },
  {
   "cell_type": "code",
   "execution_count": null,
   "id": "e2dcf981-2128-4cc3-9e0f-ec5bff30b547",
   "metadata": {},
   "outputs": [],
   "source": []
  }
 ],
 "metadata": {
  "kernelspec": {
   "display_name": "Python 3 (ipykernel)",
   "language": "python",
   "name": "python3"
  },
  "language_info": {
   "codemirror_mode": {
    "name": "ipython",
    "version": 3
   },
   "file_extension": ".py",
   "mimetype": "text/x-python",
   "name": "python",
   "nbconvert_exporter": "python",
   "pygments_lexer": "ipython3",
   "version": "3.12.8"
  }
 },
 "nbformat": 4,
 "nbformat_minor": 5
}
