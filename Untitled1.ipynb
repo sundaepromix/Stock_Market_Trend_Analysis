{
 "cells": [
  {
   "cell_type": "code",
   "execution_count": null,
   "id": "d822f10b-98d6-46a8-b421-48f8e7aacbd4",
   "metadata": {},
   "outputs": [],
   "source": []
  },
  {
   "cell_type": "code",
   "execution_count": null,
   "id": "a2f13a5b-9a0d-454b-ae57-efab5260baaa",
   "metadata": {},
   "outputs": [],
   "source": []
  },
  {
   "cell_type": "code",
   "execution_count": 13,
   "id": "73f8c589-caeb-44f8-b1f9-9e938a801365",
   "metadata": {},
   "outputs": [],
   "source": [
    "import pandas as pd\n",
    "import numpy as np\n",
    "from sklearn.model_selection import train_test_split\n",
    "import xgboost as xgb\n",
    "from sklearn.metrics import accuracy_score, classification_report\n",
    "from sklearn.preprocessing import StandardScaler\n",
    "from imblearn.over_sampling import SMOTE\n",
    "import tensorflow as tf\n",
    "from tensorflow.keras.models import Sequential\n",
    "from tensorflow.keras.layers import LSTM, GRU, Dense, Dropout, Bidirectional, Attention, Layer\n",
    "from tensorflow.keras.callbacks import EarlyStopping, ReduceLROnPlateau"
   ]
  },
  {
   "cell_type": "code",
   "execution_count": 2,
   "id": "aa632dc5-e89c-4089-aa5b-cb5c5c4a5bc8",
   "metadata": {},
   "outputs": [],
   "source": [
    "def create_features(df):\n",
    "    df['SMA_5'] = df['Close'].rolling(window=5).mean()\n",
    "    df['SMA_20'] = df['Close'].rolling(window=20).mean()\n",
    "    df['Daily_Range'] = df['High'] - df['Low']\n",
    "    df['Volume_SMA_5'] = df['Volume'].rolling(window=5).mean()\n",
    "    df['Return_Volatility'] = df['Returns'].rolling(window=10).std()\n",
    "\n",
    "    # Additional indicators\n",
    "    df['RSI_14'] = compute_rsi(df['Close'], 14)\n",
    "    df['Momentum_10'] = df['Close'] - df['Close'].shift(10)\n",
    "    df['MACD'] = df['Close'].ewm(span=12, adjust=False).mean() - df['Close'].ewm(span=26, adjust=False).mean()\n",
    "    df['ATR'] = df[['High', 'Low', 'Close']].apply(lambda x: max(x['High'] - x['Low'], abs(x['High'] - x['Close']), abs(x['Low'] - x['Close'])), axis=1).rolling(window=14).mean()\n",
    "\n",
    "    # Lag features\n",
    "    for lag in range(1, 6):  # Lags for the last 5 days\n",
    "        df[f'Close_lag_{lag}'] = df['Close'].shift(lag)\n",
    "    \n",
    "    # Price changes\n",
    "    df['Close_pct_change'] = df['Close'].pct_change()  # Percent change of close price\n",
    "\n",
    "    return df.dropna()"
   ]
  },
  {
   "cell_type": "code",
   "execution_count": 3,
   "id": "ba704e6c-725e-4c66-8bcf-117099e7d37d",
   "metadata": {},
   "outputs": [],
   "source": [
    "# RSI Calculation\n",
    "def compute_rsi(series, period=14):\n",
    "    delta = series.diff(1)\n",
    "    gain = (delta.where(delta > 0, 0)).rolling(window=period).mean()\n",
    "    loss = (-delta.where(delta < 0, 0)).rolling(window=period).mean()\n",
    "    rs = gain / loss\n",
    "    return 100 - (100 / (1 + rs))"
   ]
  },
  {
   "cell_type": "code",
   "execution_count": 4,
   "id": "b10b5e74-ec20-40dd-bd29-4c0329395e6f",
   "metadata": {},
   "outputs": [],
   "source": [
    "# Load and preprocess data\n",
    "PG_data = pd.read_csv('PG_data.csv')\n",
    "PG_data = create_features(PG_data)\n",
    "\n",
    "features = ['Open', 'High', 'Low', 'Close', 'Volume', 'Returns',\n",
    "            'SMA_5', 'SMA_20', 'Daily_Range', 'Volume_SMA_5', \n",
    "            'Return_Volatility', 'RSI_14', 'Momentum_10', 'MACD', \n",
    "            'ATR', 'Close_pct_change', 'Close_lag_1', 'Close_lag_2', \n",
    "            'Close_lag_3', 'Close_lag_4', 'Close_lag_5']\n",
    "\n",
    "X = PG_data[features]\n",
    "y = PG_data['Stock_Direction']"
   ]
  },
  {
   "cell_type": "code",
   "execution_count": 5,
   "id": "3b565962-66c3-423c-aada-670ef820bc12",
   "metadata": {},
   "outputs": [],
   "source": [
    "# Train-test split (time series order)\n",
    "split_index = int(len(X) * 0.8)\n",
    "X_train, X_test = X[:split_index], X[split_index:]\n",
    "y_train, y_test = y[:split_index], y[split_index:]"
   ]
  },
  {
   "cell_type": "code",
   "execution_count": 6,
   "id": "0c187dcc-af1b-45bb-84c0-ec20d86b5a0a",
   "metadata": {},
   "outputs": [],
   "source": [
    "# Handle class imbalance using SMOTE\n",
    "smote = SMOTE(random_state=42)\n",
    "X_train_resampled, y_train_resampled = smote.fit_resample(X_train, y_train)"
   ]
  },
  {
   "cell_type": "code",
   "execution_count": 7,
   "id": "96798fa5-fbd6-4536-aaae-f63df0480ed0",
   "metadata": {},
   "outputs": [],
   "source": [
    "# Train XGBoost model with optimized hyperparameters\n",
    "xgb_model = xgb.XGBClassifier(\n",
    "    learning_rate=0.005,\n",
    "    n_estimators=500,\n",
    "    max_depth=6,\n",
    "    min_child_weight=2,\n",
    "    subsample=0.8,\n",
    "    colsample_bytree=0.8,\n",
    "    scale_pos_weight=1.5,\n",
    "    random_state=42\n",
    ")\n",
    "\n",
    "xgb_model.fit(X_train_resampled, y_train_resampled)\n",
    "xgb_predictions = xgb_model.predict(X_test)"
   ]
  },
  {
   "cell_type": "code",
   "execution_count": 8,
   "id": "28f60e2d-e5bc-4e9c-b2fd-2cdb453b0bb4",
   "metadata": {},
   "outputs": [
    {
     "name": "stdout",
     "output_type": "stream",
     "text": [
      "\n",
      "XGBoost Model Performance:\n",
      "Accuracy: 0.49358059914407987\n",
      "\n",
      "Detailed Classification Report:\n",
      "              precision    recall  f1-score   support\n",
      "\n",
      "           0       0.47      0.71      0.56       323\n",
      "           1       0.55      0.31      0.40       378\n",
      "\n",
      "    accuracy                           0.49       701\n",
      "   macro avg       0.51      0.51      0.48       701\n",
      "weighted avg       0.51      0.49      0.47       701\n",
      "\n"
     ]
    }
   ],
   "source": [
    "# Evaluate XGBoost\n",
    "print(\"\\nXGBoost Model Performance:\")\n",
    "print(\"Accuracy:\", accuracy_score(y_test, xgb_predictions))\n",
    "print(\"\\nDetailed Classification Report:\")\n",
    "print(classification_report(y_test, xgb_predictions))"
   ]
  },
  {
   "cell_type": "code",
   "execution_count": 9,
   "id": "c45fb5a7-c928-4fbc-b15d-0fe2a14d6e5a",
   "metadata": {},
   "outputs": [],
   "source": [
    "# Normalize features for LSTM using StandardScaler\n",
    "scaler = StandardScaler()\n",
    "X_scaled = scaler.fit_transform(X)"
   ]
  },
  {
   "cell_type": "code",
   "execution_count": 10,
   "id": "bdb329a0-03b2-47bf-a7e4-6b5d399dfc4a",
   "metadata": {},
   "outputs": [],
   "source": [
    "# Create sequences for LSTM/GRU\n",
    "def create_sequences(data, labels, seq_length=10):\n",
    "    sequences, targets = [], []\n",
    "    for i in range(len(data) - seq_length):\n",
    "        sequences.append(data[i:i + seq_length])\n",
    "        targets.append(labels.iloc[i + seq_length])\n",
    "    return np.array(sequences), np.array(targets)\n",
    "\n",
    "X_seq, y_seq = create_sequences(X_scaled, y)"
   ]
  },
  {
   "cell_type": "code",
   "execution_count": 11,
   "id": "53a35f06-b0fa-445c-98ec-a6a14bf6f796",
   "metadata": {},
   "outputs": [],
   "source": [
    "# Train-test split for sequences\n",
    "split_idx = int(len(X_seq) * 0.8)\n",
    "X_train_seq, X_test_seq = X_seq[:split_idx], X_seq[split_idx:]\n",
    "y_train_seq, y_test_seq = y_seq[:split_idx], y_seq[split_idx:]"
   ]
  },
  {
   "cell_type": "code",
   "execution_count": 14,
   "id": "8ee178d4-3c3f-4e12-89fe-84acaa071a0f",
   "metadata": {},
   "outputs": [],
   "source": [
    "# Build improved LSTM/GRU model with attention mechanism\n",
    "class AttentionLayer(Layer):\n",
    "    def __init__(self):\n",
    "        super(AttentionLayer, self).__init__()\n",
    "\n",
    "    def call(self, inputs):\n",
    "        attention_weights = tf.keras.backend.softmax(inputs, axis=1)\n",
    "        return tf.reduce_sum(attention_weights * inputs, axis=1)\n",
    "\n",
    "lstm_gru_model = Sequential([\n",
    "    Bidirectional(GRU(64, return_sequences=True, activation='relu'), input_shape=(10, len(features))),\n",
    "    Dropout(0.3),\n",
    "    AttentionLayer(),\n",
    "    Dense(32, activation='relu'),\n",
    "    Dropout(0.3),\n",
    "    Dense(1, activation='sigmoid')\n",
    "])\n",
    "\n",
    "lstm_gru_model.compile(optimizer='adam', loss='binary_crossentropy', metrics=['accuracy'])"
   ]
  },
  {
   "cell_type": "code",
   "execution_count": 15,
   "id": "90528e66-158d-474d-a7cd-3f38fec40c4a",
   "metadata": {},
   "outputs": [],
   "source": [
    "# Callbacks\n",
    "early_stop = EarlyStopping(monitor='val_loss', patience=5, restore_best_weights=True)\n",
    "reduce_lr = ReduceLROnPlateau(monitor='val_loss', factor=0.2, patience=3, min_lr=1e-5)"
   ]
  },
  {
   "cell_type": "code",
   "execution_count": 16,
   "id": "6d4ecfd7-8b4f-4c5d-9c44-f0f318dccbcf",
   "metadata": {},
   "outputs": [
    {
     "name": "stdout",
     "output_type": "stream",
     "text": [
      "Epoch 1/100\n",
      "\u001b[1m79/79\u001b[0m \u001b[32m━━━━━━━━━━━━━━━━━━━━\u001b[0m\u001b[37m\u001b[0m \u001b[1m18s\u001b[0m 50ms/step - accuracy: 0.4953 - loss: 0.7170 - val_accuracy: 0.5107 - val_loss: 0.6938 - learning_rate: 0.0010\n",
      "Epoch 2/100\n",
      "\u001b[1m79/79\u001b[0m \u001b[32m━━━━━━━━━━━━━━━━━━━━\u001b[0m\u001b[37m\u001b[0m \u001b[1m2s\u001b[0m 28ms/step - accuracy: 0.5250 - loss: 0.6944 - val_accuracy: 0.5286 - val_loss: 0.7041 - learning_rate: 0.0010\n",
      "Epoch 3/100\n",
      "\u001b[1m79/79\u001b[0m \u001b[32m━━━━━━━━━━━━━━━━━━━━\u001b[0m\u001b[37m\u001b[0m \u001b[1m2s\u001b[0m 30ms/step - accuracy: 0.5260 - loss: 0.6918 - val_accuracy: 0.4821 - val_loss: 0.6973 - learning_rate: 0.0010\n",
      "Epoch 4/100\n",
      "\u001b[1m79/79\u001b[0m \u001b[32m━━━━━━━━━━━━━━━━━━━━\u001b[0m\u001b[37m\u001b[0m \u001b[1m2s\u001b[0m 28ms/step - accuracy: 0.5133 - loss: 0.6945 - val_accuracy: 0.5286 - val_loss: 0.7047 - learning_rate: 0.0010\n",
      "Epoch 5/100\n",
      "\u001b[1m79/79\u001b[0m \u001b[32m━━━━━━━━━━━━━━━━━━━━\u001b[0m\u001b[37m\u001b[0m \u001b[1m2s\u001b[0m 28ms/step - accuracy: 0.5358 - loss: 0.6889 - val_accuracy: 0.5286 - val_loss: 0.7014 - learning_rate: 2.0000e-04\n",
      "Epoch 6/100\n",
      "\u001b[1m79/79\u001b[0m \u001b[32m━━━━━━━━━━━━━━━━━━━━\u001b[0m\u001b[37m\u001b[0m \u001b[1m2s\u001b[0m 26ms/step - accuracy: 0.5108 - loss: 0.6929 - val_accuracy: 0.5286 - val_loss: 0.6948 - learning_rate: 2.0000e-04\n"
     ]
    }
   ],
   "source": [
    "# Train LSTM/GRU model\n",
    "history = lstm_gru_model.fit(\n",
    "    X_train_seq, y_train_seq,\n",
    "    epochs=100,\n",
    "    batch_size=32,\n",
    "    validation_split=0.1,\n",
    "    callbacks=[early_stop, reduce_lr],\n",
    "    verbose=1\n",
    ")"
   ]
  },
  {
   "cell_type": "code",
   "execution_count": null,
   "id": "8ce0abe9-068d-4305-b9f8-cbaa5e31caa0",
   "metadata": {},
   "outputs": [],
   "source": []
  },
  {
   "cell_type": "code",
   "execution_count": 17,
   "id": "bce0a23b-4508-4e0c-a649-ef48b9bd1b1a",
   "metadata": {},
   "outputs": [
    {
     "name": "stdout",
     "output_type": "stream",
     "text": [
      "\u001b[1m22/22\u001b[0m \u001b[32m━━━━━━━━━━━━━━━━━━━━\u001b[0m\u001b[37m\u001b[0m \u001b[1m3s\u001b[0m 68ms/step\n",
      "\n",
      "LSTM/GRU Model Performance:\n",
      "Accuracy: 0.5450643776824035\n",
      "\n",
      "Detailed Classification Report:\n",
      "              precision    recall  f1-score   support\n",
      "\n",
      "           0       0.51      0.32      0.39       322\n",
      "           1       0.56      0.74      0.64       377\n",
      "\n",
      "    accuracy                           0.55       699\n",
      "   macro avg       0.53      0.53      0.51       699\n",
      "weighted avg       0.54      0.55      0.52       699\n",
      "\n"
     ]
    }
   ],
   "source": [
    "# Evaluate LSTM/GRU\n",
    "lstm_gru_predictions = (lstm_gru_model.predict(X_test_seq) > 0.5).astype(int)\n",
    "\n",
    "print(\"\\nLSTM/GRU Model Performance:\")\n",
    "print(\"Accuracy:\", accuracy_score(y_test_seq, lstm_gru_predictions))\n",
    "print(\"\\nDetailed Classification Report:\")\n",
    "print(classification_report(y_test_seq, lstm_gru_predictions))"
   ]
  },
  {
   "cell_type": "code",
   "execution_count": null,
   "id": "f919723e-ae07-4107-b95e-ee7bee18a930",
   "metadata": {},
   "outputs": [],
   "source": []
  },
  {
   "cell_type": "code",
   "execution_count": null,
   "id": "550ddf4c-7b3b-4007-9e7c-77a3f09dea88",
   "metadata": {},
   "outputs": [],
   "source": []
  },
  {
   "cell_type": "code",
   "execution_count": null,
   "id": "1860e50d-14c5-4fcc-badc-727dbc1485f1",
   "metadata": {},
   "outputs": [],
   "source": []
  }
 ],
 "metadata": {
  "kernelspec": {
   "display_name": "Python 3 (ipykernel)",
   "language": "python",
   "name": "python3"
  },
  "language_info": {
   "codemirror_mode": {
    "name": "ipython",
    "version": 3
   },
   "file_extension": ".py",
   "mimetype": "text/x-python",
   "name": "python",
   "nbconvert_exporter": "python",
   "pygments_lexer": "ipython3",
   "version": "3.12.8"
  }
 },
 "nbformat": 4,
 "nbformat_minor": 5
}
